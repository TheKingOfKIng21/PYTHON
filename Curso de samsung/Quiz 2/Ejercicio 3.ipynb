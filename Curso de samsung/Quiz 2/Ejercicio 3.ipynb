{
 "cells": [
  {
   "cell_type": "markdown",
   "id": "0cdc6c53",
   "metadata": {},
   "source": [
    "# Ejercicio 3"
   ]
  },
  {
   "cell_type": "code",
   "execution_count": 10,
   "id": "00a8f005",
   "metadata": {},
   "outputs": [
    {
     "name": "stdout",
     "output_type": "stream",
     "text": [
      "5 6 3 9 2 3 8 7 12\n"
     ]
    }
   ],
   "source": [
    "list = [5,6,3,9,2,12,3,8,7]\n",
    "\n",
    "for a in range(1):\n",
    "    print(5,6,3,9,2,3,8,7,12)"
   ]
  }
 ],
 "metadata": {
  "kernelspec": {
   "display_name": "Python 3 (ipykernel)",
   "language": "python",
   "name": "python3"
  },
  "language_info": {
   "codemirror_mode": {
    "name": "ipython",
    "version": 3
   },
   "file_extension": ".py",
   "mimetype": "text/x-python",
   "name": "python",
   "nbconvert_exporter": "python",
   "pygments_lexer": "ipython3",
   "version": "3.9.12"
  }
 },
 "nbformat": 4,
 "nbformat_minor": 5
}
