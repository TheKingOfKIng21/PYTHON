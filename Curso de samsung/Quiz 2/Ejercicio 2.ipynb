{
 "cells": [
  {
   "cell_type": "markdown",
   "id": "ab7ff967",
   "metadata": {},
   "source": [
    "# Ejercicio 2"
   ]
  },
  {
   "cell_type": "code",
   "execution_count": 6,
   "id": "7ed76cc0",
   "metadata": {},
   "outputs": [
    {
     "name": "stdout",
     "output_type": "stream",
     "text": [
      "{'nama': 'David Doe', 'Age': 26, 'Weight': 86, 'Job': 'Data Scientist', 'Padre': 'john Doe'}\n"
     ]
    }
   ],
   "source": [
    "person = {\"nama\": \"David Doe\",\"Age\": 26, \"Weight\": 86, \"Job\": \"Data Scientist\"}\n",
    "\n",
    "person[\"Padre\"]= \"john Doe\"\n",
    "\n",
    "print(person)"
   ]
  }
 ],
 "metadata": {
  "kernelspec": {
   "display_name": "Python 3 (ipykernel)",
   "language": "python",
   "name": "python3"
  },
  "language_info": {
   "codemirror_mode": {
    "name": "ipython",
    "version": 3
   },
   "file_extension": ".py",
   "mimetype": "text/x-python",
   "name": "python",
   "nbconvert_exporter": "python",
   "pygments_lexer": "ipython3",
   "version": "3.9.12"
  }
 },
 "nbformat": 4,
 "nbformat_minor": 5
}
