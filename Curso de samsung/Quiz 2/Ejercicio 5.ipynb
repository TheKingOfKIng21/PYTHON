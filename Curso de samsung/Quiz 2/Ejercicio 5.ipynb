{
 "cells": [
  {
   "cell_type": "markdown",
   "id": "590dd4bf",
   "metadata": {},
   "source": [
    "# Ejercicio 5"
   ]
  },
  {
   "cell_type": "code",
   "execution_count": 24,
   "id": "e5a2220b",
   "metadata": {},
   "outputs": [
    {
     "name": "stdout",
     "output_type": "stream",
     "text": [
      "Este es su promedio total: \n",
      "89.25\n"
     ]
    }
   ],
   "source": [
    "maria = {\"koreano\":94,\"ingles\":91,\"matematicas\":89,\"ciencia\":83}\n",
    "\n",
    "x = len(maria)\n",
    "\n",
    "i = (sum(maria.values()))\n",
    "\n",
    "promedio= i/x\n",
    "\n",
    "print(\"Este es su promedio total: \")\n",
    "print(promedio)"
   ]
  }
 ],
 "metadata": {
  "kernelspec": {
   "display_name": "Python 3 (ipykernel)",
   "language": "python",
   "name": "python3"
  },
  "language_info": {
   "codemirror_mode": {
    "name": "ipython",
    "version": 3
   },
   "file_extension": ".py",
   "mimetype": "text/x-python",
   "name": "python",
   "nbconvert_exporter": "python",
   "pygments_lexer": "ipython3",
   "version": "3.9.12"
  }
 },
 "nbformat": 4,
 "nbformat_minor": 5
}
