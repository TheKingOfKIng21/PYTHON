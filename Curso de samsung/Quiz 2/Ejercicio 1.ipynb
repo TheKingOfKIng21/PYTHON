{
 "cells": [
  {
   "cell_type": "markdown",
   "id": "21d1a702",
   "metadata": {},
   "source": [
    "# Ejercicio 1"
   ]
  },
  {
   "cell_type": "code",
   "execution_count": 1,
   "id": "81723127",
   "metadata": {},
   "outputs": [
    {
     "name": "stdout",
     "output_type": "stream",
     "text": [
      "I like pancake\n",
      "I love kiwi juice\n",
      "I like pancake\n",
      "I love kiwi juice\n"
     ]
    }
   ],
   "source": [
    "#me ayude de la pagina de https://www.codigopiton.com/como-recorrer-dos-listas-a-la-vez-en-python/#:~:text=Una%20manera%20sencilla%20de%20recorrer,ambos%20de%20la%20misma%20posici%C3%B3n.\n",
    "l1 =[\"I like\",\"I love\"]\n",
    "l2 =[\"pancake\",\"kiwi juice\",\"espreso\"]\n",
    " \n",
    "for tupla in zip(l1, l2): \n",
    "     print(tupla[0], tupla[1])\n",
    "\n",
    "for valor_a, valor_b in zip(l1, l2): \n",
    "     print(valor_a, valor_b)"
   ]
  }
 ],
 "metadata": {
  "kernelspec": {
   "display_name": "Python 3 (ipykernel)",
   "language": "python",
   "name": "python3"
  },
  "language_info": {
   "codemirror_mode": {
    "name": "ipython",
    "version": 3
   },
   "file_extension": ".py",
   "mimetype": "text/x-python",
   "name": "python",
   "nbconvert_exporter": "python",
   "pygments_lexer": "ipython3",
   "version": "3.9.12"
  }
 },
 "nbformat": 4,
 "nbformat_minor": 5
}
