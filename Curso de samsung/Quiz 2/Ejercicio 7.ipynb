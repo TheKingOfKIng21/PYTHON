{
 "cells": [
  {
   "cell_type": "markdown",
   "id": "914d3144",
   "metadata": {},
   "source": [
    "# Ejercicio 7"
   ]
  },
  {
   "cell_type": "code",
   "execution_count": 9,
   "id": "b0545531",
   "metadata": {},
   "outputs": [
    {
     "name": "stdout",
     "output_type": "stream",
     "text": [
      "[(('China', 1391), ('India', 1364), ('Estados Unidos', 327), ('Indonesia', 264))]\n"
     ]
    }
   ],
   "source": [
    "paises =(\"China\",\"India\",\"Estados Unidos\",\"Indonesia\")\n",
    "poblaciones =(1391,1364,327,264)\n",
    "\n",
    "poblaciones_de_paises =[tuple(zip(paises,poblaciones))]\n",
    "\n",
    "print(poblaciones_de_paises)"
   ]
  }
 ],
 "metadata": {
  "kernelspec": {
   "display_name": "Python 3 (ipykernel)",
   "language": "python",
   "name": "python3"
  },
  "language_info": {
   "codemirror_mode": {
    "name": "ipython",
    "version": 3
   },
   "file_extension": ".py",
   "mimetype": "text/x-python",
   "name": "python",
   "nbconvert_exporter": "python",
   "pygments_lexer": "ipython3",
   "version": "3.9.12"
  }
 },
 "nbformat": 4,
 "nbformat_minor": 5
}
