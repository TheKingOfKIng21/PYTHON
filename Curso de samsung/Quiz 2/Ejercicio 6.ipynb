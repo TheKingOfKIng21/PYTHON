{
 "cells": [
  {
   "cell_type": "markdown",
   "id": "db9b8d9f",
   "metadata": {},
   "source": [
    "# Ejercicio 6"
   ]
  },
  {
   "cell_type": "code",
   "execution_count": 19,
   "id": "5e1b5818",
   "metadata": {},
   "outputs": [
    {
     "name": "stdout",
     "output_type": "stream",
     "text": [
      "La escuela es:  {'kim': {'años': 16, 'altura': 170, 'grado': 3}, 'lee': {'año': 15, 'altura': 168, 'grado': 2}, 'choi': {'año': 14, 'altura': 173, 'grado': 1}}\n",
      "\n",
      "La escuela2 es:   {'kim': {'años': 16, 'altura': 170, 'grado': 3}, 'lee': {'año': 15, 'altura': 168, 'grado': 2}, 'choi': {'año': 14, 'altura': 173, 'grado': 1}}\n",
      "\n",
      "Es igual escuela que escula2 False\n"
     ]
    }
   ],
   "source": [
    "escuela ={\"kim\":{\"años\":16,\"altura\":170,\"grado\":3},\"lee\":{\"año\":15,\"altura\":168,\"grado\":2},\"choi\":{\"año\":14,\"altura\":173,\"grado\":1}}\n",
    "\n",
    "import copy\n",
    "print(\"La escuela es: \", escuela)\n",
    "escuela2=copy.deepcopy(escuela)\n",
    "print(\"\\nLa escuela2 es:  \",escuela2)\n",
    "\n",
    "print(\"\\nEs igual escuela que escula2\",escuela is escuela2)"
   ]
  }
 ],
 "metadata": {
  "kernelspec": {
   "display_name": "Python 3 (ipykernel)",
   "language": "python",
   "name": "python3"
  },
  "language_info": {
   "codemirror_mode": {
    "name": "ipython",
    "version": 3
   },
   "file_extension": ".py",
   "mimetype": "text/x-python",
   "name": "python",
   "nbconvert_exporter": "python",
   "pygments_lexer": "ipython3",
   "version": "3.9.12"
  }
 },
 "nbformat": 4,
 "nbformat_minor": 5
}
