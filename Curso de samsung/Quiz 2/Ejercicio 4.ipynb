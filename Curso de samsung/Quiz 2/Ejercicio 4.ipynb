{
 "cells": [
  {
   "cell_type": "markdown",
   "id": "6e4284d7",
   "metadata": {},
   "source": [
    "# Ejercicio 4"
   ]
  },
  {
   "cell_type": "code",
   "execution_count": 34,
   "id": "f77e6040",
   "metadata": {},
   "outputs": [
    {
     "name": "stdout",
     "output_type": "stream",
     "text": [
      "[1, 2, 3, 4, 5, 6]\n"
     ]
    }
   ],
   "source": [
    "mylist= [[1,2],[3,4],[5,6]]\n",
    "mylista = []\n",
    "for i in range(len(mylist)):\n",
    "    for h in range(len(mylist[i])):\n",
    "           mylista.append(mylist[i][h])\n",
    "        \n",
    "mylist=mylista\n",
    "print(mylist)"
   ]
  }
 ],
 "metadata": {
  "kernelspec": {
   "display_name": "Python 3 (ipykernel)",
   "language": "python",
   "name": "python3"
  },
  "language_info": {
   "codemirror_mode": {
    "name": "ipython",
    "version": 3
   },
   "file_extension": ".py",
   "mimetype": "text/x-python",
   "name": "python",
   "nbconvert_exporter": "python",
   "pygments_lexer": "ipython3",
   "version": "3.9.12"
  }
 },
 "nbformat": 4,
 "nbformat_minor": 5
}
