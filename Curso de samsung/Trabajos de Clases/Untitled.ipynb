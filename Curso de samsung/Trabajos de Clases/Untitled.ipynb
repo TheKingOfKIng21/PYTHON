{
 "cells": [
  {
   "cell_type": "code",
   "execution_count": 1,
   "id": "c730e3be",
   "metadata": {},
   "outputs": [],
   "source": [
    "import io\n",
    "\n",
    "f = open(\"listado.txt\",\"w\")\n",
    "f.write(\"\"\"argenis\n",
    "daniel\n",
    "carlos\n",
    "carlienis\"\"\")\n",
    "f.close()"
   ]
  },
  {
   "cell_type": "code",
   "execution_count": 2,
   "id": "c4eca09e",
   "metadata": {},
   "outputs": [
    {
     "name": "stdout",
     "output_type": "stream",
     "text": [
      "argenis\n",
      "daniel\n",
      "carlos\n",
      "carlienis\n"
     ]
    }
   ],
   "source": [
    "import io\n",
    "\n",
    "f = open(\"listado.txt\",\"r\")\n",
    "texto = f.read()\n",
    "print(texto)"
   ]
  },
  {
   "cell_type": "code",
   "execution_count": 3,
   "id": "1c186c14",
   "metadata": {},
   "outputs": [
    {
     "name": "stdout",
     "output_type": "stream",
     "text": [
      "['argenis\\n', 'daniel\\n', 'carlos\\n', 'carlienis']\n"
     ]
    }
   ],
   "source": [
    "import io\n",
    "\n",
    "f = open(\"listado.txt\",\"r\")\n",
    "texto = f.readlines()\n",
    "print(texto[:])"
   ]
  },
  {
   "cell_type": "code",
   "execution_count": null,
   "id": "d9e9bda3",
   "metadata": {},
   "outputs": [],
   "source": []
  }
 ],
 "metadata": {
  "kernelspec": {
   "display_name": "Python 3.9.12 ('base')",
   "language": "python",
   "name": "python3"
  },
  "language_info": {
   "codemirror_mode": {
    "name": "ipython",
    "version": 3
   },
   "file_extension": ".py",
   "mimetype": "text/x-python",
   "name": "python",
   "nbconvert_exporter": "python",
   "pygments_lexer": "ipython3",
   "version": "3.9.12"
  },
  "vscode": {
   "interpreter": {
    "hash": "3b0947d4181266874cc036d6a71f90081c42ecadd089f88b68aad38941fa4356"
   }
  }
 },
 "nbformat": 4,
 "nbformat_minor": 5
}
