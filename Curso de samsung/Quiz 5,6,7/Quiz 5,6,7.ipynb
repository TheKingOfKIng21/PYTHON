{
 "cells": [
  {
   "cell_type": "code",
   "execution_count": 2,
   "id": "effe5b66",
   "metadata": {},
   "outputs": [
    {
     "name": "stdout",
     "output_type": "stream",
     "text": [
      "[50, 30, 40, 10, 20]\n",
      "[30, 40, 10, 20, 50]\n",
      "[30, 10, 20, 40, 50]\n",
      "[10, 20, 30, 40, 50]\n",
      "[10, 20, 30, 40, 50]\n",
      "[10, 20, 30, 40, 50]\n"
     ]
    }
   ],
   "source": [
    "#Q.05-01\n",
    "def bubblesort(S):\n",
    "    n=len(S)\n",
    "    for i in range(n):\n",
    "        print(S)\n",
    "        for j in range(n-1):\n",
    "            if S[j]>S[j+1]:\n",
    "                S[j],S[j+1]=S[j+1],S[j]\n",
    "              \n",
    "d=[50,30,40,10,20]\n",
    "\n",
    "bubblesort(d)\n",
    "\n",
    "print(d)\n"
   ]
  },
  {
   "cell_type": "code",
   "execution_count": 3,
   "id": "aedf27ce",
   "metadata": {},
   "outputs": [
    {
     "name": "stdout",
     "output_type": "stream",
     "text": [
      "[50, 30, 40, 10, 20]\n",
      "[50, 30, 40, 10, 20]\n",
      "[30, 50, 40, 10, 20]\n",
      "[30, 40, 40, 50, 20]\n",
      "[30, 40, 40, 50, 20]\n"
     ]
    }
   ],
   "source": [
    "def insertionsort2(S):\n",
    "    n=len(S)\n",
    "    for i in range(n-1):\n",
    "        print(S)\n",
    "        x=S[i]\n",
    "        j=i-1\n",
    "        while j >= 0 and S[j]>x:\n",
    "            S[j+i]=S[j]\n",
    "            j-=1\n",
    "        S[j+1]=x\n",
    "        \n",
    "\n",
    "d=[50,30,40,10,20]\n",
    "\n",
    "insertionsort2(d)\n",
    "\n",
    "print(d)"
   ]
  },
  {
   "cell_type": "code",
   "execution_count": 4,
   "id": "9b631a38",
   "metadata": {},
   "outputs": [
    {
     "name": "stdout",
     "output_type": "stream",
     "text": [
      "[2, 5, 5, 3, 10, 16, 4, 4, 11, 6]\n"
     ]
    }
   ],
   "source": [
    "def mergesort2(lista):\n",
    "    if(len(lista)>1):\n",
    "        mitad=len(lista)//2\n",
    "        mitad1=lista[:mitad]\n",
    "        mitad2=lista[mitad:]\n",
    "        \n",
    "        mergesort2(mitad1)\n",
    "        mergesort2(mitad2)\n",
    "        a=0\n",
    "        b=0\n",
    "        c=0\n",
    "        \n",
    "        while a < len(mitad1) and b < len(mitad2):\n",
    "            if(mitad1[a] < mitad2[a]):\n",
    "                lista[c] = mitad1[a]\n",
    "                a+=1\n",
    "            else:\n",
    "                lista[c]= mitad2[b]\n",
    "                b+=1\n",
    "            c+=1\n",
    "        while a < len(mitad1):\n",
    "            lista[c]=mitad1[a]\n",
    "            a+=1\n",
    "            c+=1\n",
    "        while b < len(mitad1):\n",
    "            lista[c]=mitad1[b]\n",
    "            b+=1\n",
    "            c+=1\n",
    "\n",
    "d=[6,2,11,5,7,4,8,16,10,3]\n",
    "\n",
    "mergesort2(d)\n",
    "\n",
    "print(d)"
   ]
  },
  {
   "cell_type": "code",
   "execution_count": 5,
   "id": "6f484992",
   "metadata": {},
   "outputs": [
    {
     "name": "stdout",
     "output_type": "stream",
     "text": [
      "[15, 10, 12, 20, 25, 13, 22]\n"
     ]
    }
   ],
   "source": [
    "def partition(l, n):\n",
    "    for i in range(0, len(l), n):\n",
    "        yield l[i:i + n]\n",
    "\n",
    "if __name__ == '__main__':\n",
    "    l = list(range(1, 10))\n",
    "    n = 3\n",
    "\n",
    "d=[15,10,12,20,25,13,22]\n",
    "\n",
    "partition(d,len(d)-1)\n",
    "print(d)"
   ]
  },
  {
   "cell_type": "code",
   "execution_count": 6,
   "id": "371c7e24",
   "metadata": {},
   "outputs": [
    {
     "name": "stdout",
     "output_type": "stream",
     "text": [
      "El factorial de 5 es 120\n",
      "El recorrido fue...[1, 2, 3, 4]\n"
     ]
    }
   ],
   "source": [
    "#Q.06-01\n",
    "def fac(n):\n",
    "    recorrido=[]\n",
    "    r=0\n",
    "    while(1):\n",
    "        if(n==0):\n",
    "            resultado=1\n",
    "            print('Es factorial es 1')\n",
    "        resultado = n\n",
    "        for i in range(0,n-1):\n",
    "            r=i+1\n",
    "            recorrido.append(r)\n",
    "            resultado=resultado*r\n",
    "        break\n",
    "    return f'El factorial de {n} es {resultado}\\nEl recorrido fue...{recorrido}'\n",
    "\n",
    "while(1):\n",
    "    try:\n",
    "        n=int(input('Escribe el factorial que quiera optener'))\n",
    "        break\n",
    "    except ValueError:\n",
    "        print('Solo se aceptan valores numericos')\n",
    "        \n",
    "print(fac(n))\n",
    "        \n",
    "\n",
    "\n"
   ]
  },
  {
   "cell_type": "code",
   "execution_count": 7,
   "id": "0c0e2b1d",
   "metadata": {},
   "outputs": [
    {
     "name": "stdout",
     "output_type": "stream",
     "text": [
      "Evaluando recurción...1;1;1\n",
      "Evaluando recurción...2;1;2\n",
      "Evaluando recurción...3;2;6\n",
      "Evaluando recurción...4;6;24\n",
      "Evaluando recurción...5;24;120\n",
      "Evaluando recurción...6;120;720\n",
      "Evaluando recurción...7;720;5040\n",
      "Evaluando recurción...8;5040;40320\n",
      "40320\n"
     ]
    }
   ],
   "source": [
    "#Q.06-02\n",
    "def factor(n):\n",
    "    if(n==0):\n",
    "        resultado=1\n",
    "    else:\n",
    "        fac=factor(n-1)\n",
    "        resultado=n * fac\n",
    "        print(f'Evaluando recurción...{n};{fac};{resultado}',)\n",
    "    return resultado\n",
    "\n",
    "print(factor(8))"
   ]
  },
  {
   "cell_type": "code",
   "execution_count": 8,
   "id": "04f409f7",
   "metadata": {},
   "outputs": [
    {
     "name": "stdout",
     "output_type": "stream",
     "text": [
      "El fiborrachi de 6 es 8\n"
     ]
    }
   ],
   "source": [
    "#Q.06-03\n",
    "def fib(n):\n",
    "    if(n==1 or n==2):\n",
    "        resultado=1\n",
    "    else:\n",
    "        resultado=fib(n-1)+fib(n-2)\n",
    "    return resultado\n",
    "\n",
    "while(1):\n",
    "    try:\n",
    "        n=int(input('Escribe el fiborrachi que quiera optener: '))\n",
    "        break\n",
    "    except ValueError:\n",
    "        print('Solo se aceptan valores numericos')\n",
    "        \n",
    "print(f'El fiborrachi de {n} es {fib(n)}')\n",
    "        \n",
    "\n",
    "\n",
    "\n",
    "        \n"
   ]
  },
  {
   "cell_type": "code",
   "execution_count": 9,
   "id": "61317add",
   "metadata": {},
   "outputs": [
    {
     "ename": "SyntaxError",
     "evalue": "invalid syntax (1971681138.py, line 11)",
     "output_type": "error",
     "traceback": [
      "\u001b[1;36m  Input \u001b[1;32mIn [9]\u001b[1;36m\u001b[0m\n\u001b[1;33m    return True\u001b[0m\n\u001b[1;37m    ^\u001b[0m\n\u001b[1;31mSyntaxError\u001b[0m\u001b[1;31m:\u001b[0m invalid syntax\n"
     ]
    }
   ],
   "source": [
    "#Q.06-04\n",
    "from math import sqrt, floor\n",
    "import time\n",
    "\n",
    "def is_square_digitsum(n):\n",
    "    s= 0\n",
    "    while n > 0:\n",
    "        s+=n % 10\n",
    "        n //=10\n",
    "    if (sqrt(s)== int(sqrt(s))\n",
    "        return True\n",
    "    return False\n",
    "        \n",
    "def find_all_squares():\n",
    "        sqrt = [[]for _ in range(5)]\n",
    "        for i in range(1,floor(sqrt(10**5))+1):\n",
    "            n=i*i\n",
    "            if not is_square_digitsum(n):\n",
    "                continue\n",
    "            s=str(n)\n",
    "            if len(s)== 3 and s[1] !=s[2]:\n",
    "                continue\n",
    "            if len(s) == 5 and s[2] !=s[3]:\n",
    "                continue\n",
    "            if len(s) in [4,5] and len(set(s)) !=4:\n",
    "                continue\n",
    "            sqrt[len(s) - 1].append(n)\n",
    "        return sqrt\n",
    "def promising(s,n,dic):\n",
    "    for i in range(len(s)):\n",
    "        digit= int(str(n)[i])\n",
    "        for key, value in dic.items():\n",
    "            if key == s[i] and value != digit:\n",
    "                return False\n",
    "            if value == digit and key != s[i]:\n",
    "                return False\n",
    "return True\n",
    "\n",
    "def solve(words,dic,squares):\n",
    "        global solved\n",
    "        if (len(words)==0):\n",
    "            solved = dic\n",
    "        else:\n",
    "        s= words[0]\n",
    "        cantidades = squares[len(s)-1]\n",
    "        for n in cantidades:\n",
    "            if promising(s,n,dic):\n",
    "                newdic=dic.copy()\n",
    "                for i in range(len(s)):\n",
    "                    newdic[s[i]]=int(str(n)[i])\n",
    "                solve(words[1:], newdic, squares)\n",
    "        \n",
    "        \n",
    "def main():\n",
    "    squares=find_all_squares\n",
    "    print(squares)\n",
    "    words=['A','TO', 'ALL', 'XMAS', 'MERRY']\n",
    "    dic={}\n",
    "    solve(words, dic, squares)\n",
    "    for word in words:\n",
    "        print(word, end=\": \")\n",
    "        for c in word:\n",
    "            print(solved[c], end=\"\")\n",
    "        print()\n",
    "\n",
    "start=time.time()     \n",
    "sloved={}\n",
    "main()\n",
    "end=time.time()\n",
    "print(\"Lapso de tiempo\", end, start, \"seconds\")"
   ]
  },
  {
   "cell_type": "code",
   "execution_count": null,
   "id": "c0b24825",
   "metadata": {},
   "outputs": [
    {
     "name": "stdout",
     "output_type": "stream",
     "text": [
      "  Columna:  Datos: \n",
      "0      col1  [1, 2]\n",
      "1      col2  [3, 4]\n",
      "2      col3  [5, 6]\n",
      "3      col4  [6, 7]\n"
     ]
    }
   ],
   "source": [
    "#Q-07-01\n",
    "import pandas as pd\n",
    "\n",
    "d={'col1':[1,2],'col2':[3,4],'col3':[5,6],'col4':[6,7]}\n",
    "\n",
    "df = pd.DataFrame([[llaves, d[llaves]] for llaves in d.keys()], columns=['Columna: ', 'Datos: '])\n",
    "print(df)"
   ]
  },
  {
   "cell_type": "code",
   "execution_count": 10,
   "id": "b3833ee9",
   "metadata": {},
   "outputs": [
    {
     "name": "stdout",
     "output_type": "stream",
     "text": [
      "  Columna:  Datos: \n",
      "0      col1  [1, 2]\n",
      "1      col2  [3, 4]\n",
      "2      col3  [5, 6]\n",
      "3      col4  [6, 7]\n",
      "   col4\n",
      "1     6\n",
      "2     7\n"
     ]
    }
   ],
   "source": [
    "#Q.07-02\n",
    "import pandas as pd\n",
    "\n",
    "d={'col1':[1,2],'col2':[3,4],'col3':[5,6],'col4':[6,7]}\n",
    "\n",
    "df = pd.DataFrame([[llaves, d[llaves]] for llaves in d.keys()], columns=['Columna: ', 'Datos: '])\n",
    "print(df)\n",
    "\n",
    "new_df=pd.DataFrame([6,7], index=[1,2],columns=['col4'])\n",
    "print(new_df)"
   ]
  },
  {
   "cell_type": "code",
   "execution_count": null,
   "id": "d37ca740",
   "metadata": {},
   "outputs": [
    {
     "name": "stdout",
     "output_type": "stream",
     "text": [
      "  Columna:  Datos: \n",
      "0      col1  [1, 2]\n",
      "1      col2  [3, 4]\n",
      "2      col3  [5, 6]\n",
      "3      col4  [6, 7]\n",
      "   col4\n",
      "1     6\n",
      "2     7\n",
      "0    True\n",
      "1    True\n",
      "2    True\n",
      "3    True\n",
      "Name: Columna: , dtype: bool\n",
      "0    True\n",
      "1    True\n",
      "2    True\n",
      "3    True\n",
      "Name: Datos: , dtype: bool\n"
     ]
    }
   ],
   "source": [
    "#Q.07-03\n",
    "d={'col1':[1,2],'col2':[3,4],'col3':[5,6],'col4':[6,7]}\n",
    "df = pd.DataFrame([[llaves, d[llaves]] for llaves in d.keys()], columns=['Columna: ', 'Datos: '])\n",
    "print(df)\n",
    "new_df=pd.DataFrame([6,7], index=[1,2],columns=['col4'])\n",
    "print(new_df)\n",
    "\n",
    "print(df['Columna: '].notnull())\n",
    "print(df['Datos: '].notnull())"
   ]
  },
  {
   "cell_type": "code",
   "execution_count": null,
   "id": "3404e80c",
   "metadata": {},
   "outputs": [
    {
     "name": "stdout",
     "output_type": "stream",
     "text": [
      "  Columna:  Datos: \n",
      "0      col1  [1, 2]\n",
      "1      col2  [3, 4]\n",
      "2      col3  [5, 6]\n",
      "3      col4  [6, 7]\n",
      "   col4\n",
      "1     6\n",
      "2     7\n"
     ]
    },
    {
     "ename": "AttributeError",
     "evalue": "'DataFrame' object has no attribute 'linspace'",
     "output_type": "error",
     "traceback": [
      "\u001b[1;31m---------------------------------------------------------------------------\u001b[0m",
      "\u001b[1;31mAttributeError\u001b[0m                            Traceback (most recent call last)",
      "Input \u001b[1;32mIn [11]\u001b[0m, in \u001b[0;36m<cell line: 16>\u001b[1;34m()\u001b[0m\n\u001b[0;32m     10\u001b[0m \u001b[38;5;28mprint\u001b[39m(new_df)\n\u001b[0;32m     13\u001b[0m sns\u001b[38;5;241m.\u001b[39mset(context\u001b[38;5;241m=\u001b[39m\u001b[38;5;124m'\u001b[39m\u001b[38;5;124mposter\u001b[39m\u001b[38;5;124m'\u001b[39m, style\u001b[38;5;241m=\u001b[39m\u001b[38;5;124m'\u001b[39m\u001b[38;5;124mwhite\u001b[39m\u001b[38;5;124m'\u001b[39m, palette\u001b[38;5;241m=\u001b[39m\u001b[38;5;124m'\u001b[39m\u001b[38;5;124mdark\u001b[39m\u001b[38;5;124m'\u001b[39m, font\u001b[38;5;241m=\u001b[39m\u001b[38;5;124m'\u001b[39m\u001b[38;5;124msans-serif\u001b[39m\u001b[38;5;124m'\u001b[39m, font_scale\u001b[38;5;241m=\u001b[39m\u001b[38;5;241m0.55\u001b[39m, color_codes\u001b[38;5;241m=\u001b[39m\u001b[38;5;124m'\u001b[39m\u001b[38;5;124my\u001b[39m\u001b[38;5;124m'\u001b[39m);\n\u001b[1;32m---> 16\u001b[0m x\u001b[38;5;241m=\u001b[39m\u001b[43mdf\u001b[49m\u001b[38;5;241;43m.\u001b[39;49m\u001b[43mlinspace\u001b[49m[:,\u001b[38;5;124m'\u001b[39m\u001b[38;5;124mColumna: \u001b[39m\u001b[38;5;124m'\u001b[39m]\n\u001b[0;32m     17\u001b[0m y\u001b[38;5;241m=\u001b[39mdf\u001b[38;5;241m.\u001b[39mlinspace[:,\u001b[38;5;124m'\u001b[39m\u001b[38;5;124mDatos: \u001b[39m\u001b[38;5;124m'\u001b[39m]\n\u001b[0;32m     19\u001b[0m plt\u001b[38;5;241m.\u001b[39mplot(x,y,\u001b[38;5;124m'\u001b[39m\u001b[38;5;124mg^\u001b[39m\u001b[38;5;124m'\u001b[39m)\n",
      "File \u001b[1;32m~\\anaconda3\\lib\\site-packages\\pandas\\core\\generic.py:5575\u001b[0m, in \u001b[0;36mNDFrame.__getattr__\u001b[1;34m(self, name)\u001b[0m\n\u001b[0;32m   5568\u001b[0m \u001b[38;5;28;01mif\u001b[39;00m (\n\u001b[0;32m   5569\u001b[0m     name \u001b[38;5;129;01mnot\u001b[39;00m \u001b[38;5;129;01min\u001b[39;00m \u001b[38;5;28mself\u001b[39m\u001b[38;5;241m.\u001b[39m_internal_names_set\n\u001b[0;32m   5570\u001b[0m     \u001b[38;5;129;01mand\u001b[39;00m name \u001b[38;5;129;01mnot\u001b[39;00m \u001b[38;5;129;01min\u001b[39;00m \u001b[38;5;28mself\u001b[39m\u001b[38;5;241m.\u001b[39m_metadata\n\u001b[0;32m   5571\u001b[0m     \u001b[38;5;129;01mand\u001b[39;00m name \u001b[38;5;129;01mnot\u001b[39;00m \u001b[38;5;129;01min\u001b[39;00m \u001b[38;5;28mself\u001b[39m\u001b[38;5;241m.\u001b[39m_accessors\n\u001b[0;32m   5572\u001b[0m     \u001b[38;5;129;01mand\u001b[39;00m \u001b[38;5;28mself\u001b[39m\u001b[38;5;241m.\u001b[39m_info_axis\u001b[38;5;241m.\u001b[39m_can_hold_identifiers_and_holds_name(name)\n\u001b[0;32m   5573\u001b[0m ):\n\u001b[0;32m   5574\u001b[0m     \u001b[38;5;28;01mreturn\u001b[39;00m \u001b[38;5;28mself\u001b[39m[name]\n\u001b[1;32m-> 5575\u001b[0m \u001b[38;5;28;01mreturn\u001b[39;00m \u001b[38;5;28;43mobject\u001b[39;49m\u001b[38;5;241;43m.\u001b[39;49m\u001b[38;5;21;43m__getattribute__\u001b[39;49m\u001b[43m(\u001b[49m\u001b[38;5;28;43mself\u001b[39;49m\u001b[43m,\u001b[49m\u001b[43m \u001b[49m\u001b[43mname\u001b[49m\u001b[43m)\u001b[49m\n",
      "\u001b[1;31mAttributeError\u001b[0m: 'DataFrame' object has no attribute 'linspace'"
     ]
    }
   ],
   "source": [
    "#Q.07-04\n",
    "import pandas as pd\n",
    "import matplotlib as plt\n",
    "import seaborn as sns\n",
    "\n",
    "d={'col1':[1,2],'col2':[3,4],'col3':[5,6],'col4':[6,7]}\n",
    "df = pd.DataFrame([[llaves, d[llaves]] for llaves in d.keys()], columns=['Columna: ', 'Datos: '])\n",
    "print(df)\n",
    "new_df=pd.DataFrame([6,7], index=[1,2],columns=['col4'])\n",
    "print(new_df)\n",
    "\n",
    "\n",
    "sns.set(context='poster', style='white', palette='dark', font='sans-serif', font_scale=0.55, color_codes='y');\n",
    "\n",
    "\n",
    "x=df.linspace[:,'Columna: ']\n",
    "y=df.linspace[:,'Datos: ']\n",
    "\n",
    "plt.plot(x,y,'g^')\n",
    "plt.xlabel(\"Columnas\")\n",
    "plt.ylabel(\"Datos guardados\")"
   ]
  },
  {
   "cell_type": "code",
   "execution_count": null,
   "id": "5a4b4aba",
   "metadata": {},
   "outputs": [
    {
     "name": "stdout",
     "output_type": "stream",
     "text": [
      "  Columna:  Datos: \n",
      "0      col1  [1, 2]\n",
      "1      col2  [3, 4]\n",
      "2      col3  [5, 6]\n",
      "3      col4  [6, 7]\n",
      "   col4\n",
      "1     6\n",
      "2     7\n"
     ]
    },
    {
     "ename": "KeyError",
     "evalue": "(1, 1)",
     "output_type": "error",
     "traceback": [
      "\u001b[1;31m---------------------------------------------------------------------------\u001b[0m",
      "\u001b[1;31mKeyError\u001b[0m                                  Traceback (most recent call last)",
      "Input \u001b[1;32mIn [7]\u001b[0m, in \u001b[0;36m<cell line: 6>\u001b[1;34m()\u001b[0m\n\u001b[0;32m      4\u001b[0m new_df\u001b[38;5;241m=\u001b[39mpd\u001b[38;5;241m.\u001b[39mDataFrame([\u001b[38;5;241m6\u001b[39m,\u001b[38;5;241m7\u001b[39m], index\u001b[38;5;241m=\u001b[39m[\u001b[38;5;241m1\u001b[39m,\u001b[38;5;241m2\u001b[39m],columns\u001b[38;5;241m=\u001b[39m[\u001b[38;5;124m'\u001b[39m\u001b[38;5;124mcol4\u001b[39m\u001b[38;5;124m'\u001b[39m])\n\u001b[0;32m      5\u001b[0m \u001b[38;5;28mprint\u001b[39m(new_df)\n\u001b[1;32m----> 6\u001b[0m \u001b[38;5;28mprint\u001b[39m(\u001b[43md\u001b[49m\u001b[43m[\u001b[49m\u001b[38;5;241;43m1\u001b[39;49m\u001b[43m,\u001b[49m\u001b[38;5;241;43m1\u001b[39;49m\u001b[43m]\u001b[49m)\n",
      "\u001b[1;31mKeyError\u001b[0m: (1, 1)"
     ]
    }
   ],
   "source": [
    "d={'col1':[1,2],'col2':[3,4],'col3':[5,6],'col4':[6,7]}\n",
    "df = pd.DataFrame([[llaves, d[llaves]] for llaves in d.keys()], columns=['Columna: ', 'Datos: '])\n",
    "print(df)\n",
    "new_df=pd.DataFrame([6,7], index=[1,2],columns=['col4'])\n",
    "print(new_df)\n",
    "print(d[1,1])"
   ]
  },
  {
   "cell_type": "code",
   "execution_count": null,
   "id": "47c0ffd7",
   "metadata": {},
   "outputs": [
    {
     "data": {
      "image/png": "[encoded data removed]",
      "text/plain": [
       "<Figure size 432x288 with 1 Axes>"
      ]
     },
     "metadata": {},
     "output_type": "display_data"
    }
   ],
   "source": [
    "import seaborn as sns #Importamos la nueva libreria\n",
    "import matplotlib.pyplot as plt #Importamos maplotlib\n",
    "\n",
    "x= [1, 3, 5, 10, 25, 40, 8, 30, 19, 17]\n",
    "y_bar=[12, 15, 5, 11, 23, 35, 42, 22, 13, 1]\n",
    "y_line=[12, 15, 5, 11, 23, 35, 42, 22, 13, 1]\n",
    "\n",
    "#y_line=[2, 5, 7, 9, 52, 145, 74, 3, 2, 1]\n",
    "\n",
    "\n",
    "sns.set(context='poster', style='white', palette='dark', font='sans-serif', font_scale=0.55, color_codes='y'); #Con la funcion set agregamos un fondo cuadrado a nuestra grafica. \n",
    "\n",
    "plt.bar(x,y_bar)\n",
    "plt.plot(x, y_line, '-o', color='y')\n",
    "plt.title('Grafica Aleatoria')\n",
    "plt.show()\n"
   ]
  },
  {
   "cell_type": "code",
   "execution_count": null,
   "id": "1691fb7d",
   "metadata": {},
   "outputs": [],
   "source": []
  }
 ],
 "metadata": {
  "kernelspec": {
   "display_name": "Python 3.9.12 ('base')",
   "language": "python",
   "name": "python3"
  },
  "language_info": {
   "codemirror_mode": {
    "name": "ipython",
    "version": 3
   },
   "file_extension": ".py",
   "mimetype": "text/x-python",
   "name": "python",
   "nbconvert_exporter": "python",
   "pygments_lexer": "ipython3",
   "version": "3.9.12"
  },
  "vscode": {
   "interpreter": {
    "hash": "3b0947d4181266874cc036d6a71f90081c42ecadd089f88b68aad38941fa4356"
   }
  }
 },
 "nbformat": 4,
 "nbformat_minor": 5
}
