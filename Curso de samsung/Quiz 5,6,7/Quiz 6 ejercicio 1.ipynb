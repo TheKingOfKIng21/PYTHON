{
 "cells": [
  {
   "cell_type": "code",
   "execution_count": 2,
   "metadata": {},
   "outputs": [
    {
     "name": "stdout",
     "output_type": "stream",
     "text": [
      "2\n",
      "5040\n"
     ]
    }
   ],
   "source": [
    "\n",
    "def factorial(n):\n",
    "   \n",
    "   if  n == 0:\n",
    "       return 1\n",
    "   else:\n",
    "       return n * factorial(n-1)\n",
    "   \n",
    "print(factorial(2))\n",
    "print(factorial(7))"
   ]
  }
 ],
 "metadata": {
  "kernelspec": {
   "display_name": "Python 3.9.12 ('base')",
   "language": "python",
   "name": "python3"
  },
  "language_info": {
   "codemirror_mode": {
    "name": "ipython",
    "version": 3
   },
   "file_extension": ".py",
   "mimetype": "text/x-python",
   "name": "python",
   "nbconvert_exporter": "python",
   "pygments_lexer": "ipython3",
   "version": "3.9.12"
  },
  "orig_nbformat": 4,
  "vscode": {
   "interpreter": {
    "hash": "3b0947d4181266874cc036d6a71f90081c42ecadd089f88b68aad38941fa4356"
   }
  }
 },
 "nbformat": 4,
 "nbformat_minor": 2
}
