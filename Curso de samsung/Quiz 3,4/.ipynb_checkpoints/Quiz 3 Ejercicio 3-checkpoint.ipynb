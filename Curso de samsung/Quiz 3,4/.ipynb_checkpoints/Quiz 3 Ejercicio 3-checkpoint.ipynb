{
 "cells": [
  {
   "cell_type": "markdown",
   "id": "c508c98a",
   "metadata": {},
   "source": [
    "# Quiz 3 Ejercicio 3"
   ]
  },
  {
   "cell_type": "code",
   "execution_count": 1,
   "id": "c3b66868",
   "metadata": {},
   "outputs": [
    {
     "name": "stdout",
     "output_type": "stream",
     "text": [
      "[20, 40, 60]\n",
      "[30, 60, 90]\n",
      "[40, 80, 120]\n"
     ]
    }
   ],
   "source": [
    "def n_list(numeros):\n",
    "    return numeros\n",
    "\n",
    "numeros= [10,20,30]\n",
    "\n",
    "mapped_numbers = list(map(lambda x: x * 2, numeros))\n",
    "mapped_numbers2 = list(map(lambda x: x * 3, numeros))\n",
    "mapped_numbers3 = list(map(lambda x: x * 4, numeros))\n",
    "\n",
    "print(mapped_numbers)\n",
    "print(mapped_numbers2)\n",
    "print(mapped_numbers3)"
   ]
  }
 ],
 "metadata": {
  "kernelspec": {
   "display_name": "Python 3 (ipykernel)",
   "language": "python",
   "name": "python3"
  },
  "language_info": {
   "codemirror_mode": {
    "name": "ipython",
    "version": 3
   },
   "file_extension": ".py",
   "mimetype": "text/x-python",
   "name": "python",
   "nbconvert_exporter": "python",
   "pygments_lexer": "ipython3",
   "version": "3.9.12"
  }
 },
 "nbformat": 4,
 "nbformat_minor": 5
}
