{
 "cells": [
  {
   "cell_type": "markdown",
   "id": "3061f589",
   "metadata": {},
   "source": [
    "# Quiz 4 Ejercicio 9"
   ]
  },
  {
   "cell_type": "code",
   "execution_count": 4,
   "id": "949646c9",
   "metadata": {},
   "outputs": [
    {
     "ename": "AttributeError",
     "evalue": "type object 'hash_table' has no attribute 'put'",
     "output_type": "error",
     "traceback": [
      "\u001b[1;31m---------------------------------------------------------------------------\u001b[0m",
      "\u001b[1;31mAttributeError\u001b[0m                            Traceback (most recent call last)",
      "Input \u001b[1;32mIn [4]\u001b[0m, in \u001b[0;36m<cell line: 33>\u001b[1;34m()\u001b[0m\n\u001b[0;32m     33\u001b[0m \u001b[38;5;28;01mfor\u001b[39;00m book \u001b[38;5;129;01min\u001b[39;00m books:\n\u001b[0;32m     34\u001b[0m     key \u001b[38;5;241m=\u001b[39m \u001b[38;5;28msum\u001b[39m(\u001b[38;5;28mmap\u001b[39m(\u001b[38;5;28mord\u001b[39m,book))\n\u001b[1;32m---> 35\u001b[0m     \u001b[43mtable\u001b[49m\u001b[38;5;241;43m.\u001b[39;49m\u001b[43mput\u001b[49m(key,book)\n\u001b[0;32m     36\u001b[0m \u001b[38;5;28;01mfor\u001b[39;00m key \u001b[38;5;129;01min\u001b[39;00m table\u001b[38;5;241m.\u001b[39mtable\u001b[38;5;241m.\u001b[39mkeys():\n\u001b[0;32m     37\u001b[0m     \u001b[38;5;28mprint\u001b[39m(key, table\u001b[38;5;241m.\u001b[39mtable[key])\n",
      "\u001b[1;31mAttributeError\u001b[0m: type object 'hash_table' has no attribute 'put'"
     ]
    }
   ],
   "source": [
    "\n",
    "\n",
    "class hash_table():\n",
    "    def __init__(self):\n",
    "        self.table = [None] * 127\n",
    "    \n",
    "    def Hash_func(self, value):\n",
    "        key = 0\n",
    "        for i in range(0,len(value)):\n",
    "            key += ord(value[i])\n",
    "        return key % 127\n",
    "\n",
    "    def Insert(self, value):\n",
    "        hash = self.Hash_func(value)\n",
    "        if self.table[hash] is None:\n",
    "            self.table[hash] = value\n",
    "   \n",
    "    def Search(self,value):\n",
    "        hash = self.Hash_func(value);\n",
    "        if self.table[hash] is None:\n",
    "            return None\n",
    "        else:\n",
    "            return hex(id(self.table[hash]))\n",
    "        \n",
    "import requests        \n",
    "table = hash_table\n",
    "books =[\n",
    "    'The Little Prince',\n",
    "    'The Old Man and the Sea',\n",
    "    'The Little Mermaid',\n",
    "    'Beauty and the Beast',\n",
    "    'The Last Leaf',\n",
    "    'Alice in WonderLand'\n",
    "]\n",
    "for book in books:\n",
    "    key = sum(map(ord,book))\n",
    "    table.put(key,book)\n",
    "for key in table.table.keys():\n",
    "    print(key, table.table[key])"
   ]
  },
  {
   "cell_type": "code",
   "execution_count": null,
   "id": "805d8eaa",
   "metadata": {},
   "outputs": [],
   "source": []
  }
 ],
 "metadata": {
  "kernelspec": {
   "display_name": "Python 3 (ipykernel)",
   "language": "python",
   "name": "python3"
  },
  "language_info": {
   "codemirror_mode": {
    "name": "ipython",
    "version": 3
   },
   "file_extension": ".py",
   "mimetype": "text/x-python",
   "name": "python",
   "nbconvert_exporter": "python",
   "pygments_lexer": "ipython3",
   "version": "3.9.12"
  }
 },
 "nbformat": 4,
 "nbformat_minor": 5
}
