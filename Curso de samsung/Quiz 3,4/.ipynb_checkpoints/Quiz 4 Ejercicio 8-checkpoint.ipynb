{
 "cells": [
  {
   "cell_type": "markdown",
   "id": "d2223b73",
   "metadata": {},
   "source": [
    "# Quiz 4 Ejercicio 8"
   ]
  },
  {
   "cell_type": "code",
   "execution_count": 3,
   "id": "ad46439f",
   "metadata": {},
   "outputs": [
    {
     "name": "stdout",
     "output_type": "stream",
     "text": [
      "Clave Hash:  0x1a8c78cb500\n"
     ]
    }
   ],
   "source": [
    "class hash_table:\n",
    "    def __init__(self):\n",
    "        self.table = [None] * 127\n",
    "    \n",
    "    \n",
    "    def Hash_func(self, value):\n",
    "        key = 0\n",
    "        for i in range(0,len(value)):\n",
    "            key += ord(value[i])\n",
    "        return key % 127\n",
    "\n",
    "    def Agregar(self, value): \n",
    "        hash = self.Hash_func(value)\n",
    "        if self.table[hash] is None:\n",
    "            self.table[hash] = value\n",
    "   \n",
    "    def Buscar(self,value): \n",
    "        hash = self.Hash_func(value);\n",
    "        if self.table[hash] is None:\n",
    "            return None\n",
    "        else:\n",
    "            return hex(id(self.table[hash]))\n",
    "\n",
    "ht=hash_table()\n",
    "ht.Agregar('Alicia en el país de las maravillas')\n",
    "\n",
    "print('Clave Hash: ',ht.Buscar('Alicia en el país de las maravillas'))"
   ]
  }
 ],
 "metadata": {
  "kernelspec": {
   "display_name": "Python 3 (ipykernel)",
   "language": "python",
   "name": "python3"
  },
  "language_info": {
   "codemirror_mode": {
    "name": "ipython",
    "version": 3
   },
   "file_extension": ".py",
   "mimetype": "text/x-python",
   "name": "python",
   "nbconvert_exporter": "python",
   "pygments_lexer": "ipython3",
   "version": "3.9.12"
  }
 },
 "nbformat": 4,
 "nbformat_minor": 5
}
