{
 "cells": [
  {
   "cell_type": "markdown",
   "id": "1acd4b82",
   "metadata": {},
   "source": [
    "# Quiz 3 Ejercicio 1"
   ]
  },
  {
   "cell_type": "code",
   "execution_count": 2,
   "id": "4b0b9698",
   "metadata": {},
   "outputs": [
    {
     "name": "stdout",
     "output_type": "stream",
     "text": [
      "5.0990195135927845\n"
     ]
    }
   ],
   "source": [
    "from math import sqrt\n",
    "\n",
    "class punto :\n",
    "    def __init__(self,x,y):\n",
    "        self.x = x\n",
    "        self.y = y\n",
    "\n",
    "\n",
    "def calcular_distancia(p1,p2):\n",
    "    \"\"\"\n",
    "    calcular la distancia entre dos puntos\n",
    "    \"\"\"\n",
    "    return sqrt((p1.x - p2.x)**2 +(p1.y -p2.y)**2)\n",
    "\n",
    "punto1 = punto(5,2)\n",
    "punto2 = punto(6,7)\n",
    "\n",
    "print(calcular_distancia(punto1,punto2))"
   ]
  }
 ],
 "metadata": {
  "kernelspec": {
   "display_name": "Python 3 (ipykernel)",
   "language": "python",
   "name": "python3"
  },
  "language_info": {
   "codemirror_mode": {
    "name": "ipython",
    "version": 3
   },
   "file_extension": ".py",
   "mimetype": "text/x-python",
   "name": "python",
   "nbconvert_exporter": "python",
   "pygments_lexer": "ipython3",
   "version": "3.9.12"
  }
 },
 "nbformat": 4,
 "nbformat_minor": 5
}
