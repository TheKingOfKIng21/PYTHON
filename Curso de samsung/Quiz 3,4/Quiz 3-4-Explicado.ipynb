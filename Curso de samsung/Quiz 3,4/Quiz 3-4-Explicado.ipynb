{
 "cells": [
  {
   "cell_type": "code",
   "execution_count": 2,
   "id": "3794aba5",
   "metadata": {},
   "outputs": [
    {
     "name": "stdout",
     "output_type": "stream",
     "text": [
      "~Bienvenido al Calculador de Distancias entre dos puntos~\n",
      "por favor ingrese los datos\n",
      "Indique en el eje x1:5\n",
      "Indique en el eje y1:7\n",
      "Indique en el eje x2:2\n",
      "Indique en el eje y2:9\n",
      "Por favor espere.\n",
      "Por favor espere..\n",
      "Por favor espere...\n",
      "La Distancia entre puntos es de... 3.605551275463989\n",
      "¿Desea continuar?si\n",
      "Indique en el eje x1:503\n",
      "Indique en el eje y1:38\n",
      "Indique en el eje x2:103\n",
      "Indique en el eje y2:38\n",
      "Por favor espere.\n",
      "Por favor espere..\n",
      "Por favor espere...\n",
      "La Distancia entre puntos es de... 400.0\n",
      "¿Desea continuar?no\n",
      "Se termino exitosamente\n"
     ]
    }
   ],
   "source": [
    "#Q.03-01\n",
    "import math#Agredo esta función para sacar raices\n",
    "import time# estos no es neceserio es un Extra\n",
    "\n",
    "x=0 #esta tambien es opcional la utilizo para mera decoracíon\n",
    "T=True #Es una herramente que explicaremos más adelante\n",
    "\n",
    "while(T): #While principal\n",
    "    if(x==0): #Este if lo utilizo para imprimir el mensaje de continuación\n",
    "        print(\"\"\"~Bienvenido al Calculador de Distancias entre dos puntos~\\npor favor ingrese los datos\"\"\")\n",
    "    x=1 #esto sirve para la frase anterior no se repita\n",
    "    \n",
    "    while(T): #este segundo While es para try y except\n",
    "        try:\n",
    "            x1=int(input(\"Indique en el eje x1:\" ))\n",
    "            y1=int(input(\"Indique en el eje y1:\" ))\n",
    "            x2=int(input(\"Indique en el eje x2:\" ))\n",
    "            y2=int(input(\"Indique en el eje y2:\" ))\n",
    "            break\n",
    "        except (ValueError):\n",
    "            print(\"Solo se aceptan valores numericos\")\n",
    "    print(\"Por favor espere.\")\n",
    "    time.sleep(1)\n",
    "    print(\"Por favor espere..\")\n",
    "    time.sleep(1)\n",
    "    print(\"Por favor espere...\")\n",
    "    time.sleep(1)\n",
    "    resul=math.sqrt((x2-x1)**2+(y2-y1)**2)\n",
    "    print(\"La Distancia entre puntos es de...\",resul)\n",
    "    while(T): #Este tercer y ultimo while espara saber si hay que repetir el bucle o no\n",
    "        respuesta=input(\"¿Desea continuar?\")\n",
    "        resp=respuesta.lower()\n",
    "        if(resp==\"si\" or resp ==1):\n",
    "            break\n",
    "        elif(resp==\"no\" or resp==0):\n",
    "            T=False #Finalmente utilizamos este valor para que todos los bucles se cierren\n",
    "        else:\n",
    "            print(\"Respuesta invalida, solo se aceptan los valores si, no,1 y 0\")\n",
    "time.sleep(1)\n",
    "print(\"Se termino exitosamente\")"
   ]
  },
  {
   "cell_type": "code",
   "execution_count": 70,
   "id": "83a1bcde",
   "metadata": {},
   "outputs": [
    {
     "name": "stdout",
     "output_type": "stream",
     "text": [
      "Ingrese la palabra o frase Palindroma...Oso\n",
      "True\n"
     ]
    }
   ],
   "source": [
    "#Q.03-02\n",
    "\n",
    "def Comprovador_Palindromo(palabra):\n",
    "    palabra=palabra.lower()         #Esta linea permite que el valor insertado sea minuscula aunque se alla escrito en mayuscula\n",
    "    palabra=palabra.replace(\" \", \"\") #Los siguentes codigos de la función son para que las palabras escritas en mayusculas...\n",
    "    palabra=palabra.replace(\"á\", \"a\")#Sean replasadas por letras sin ellas nos es necesario solo queria probar xd\n",
    "    palabra=palabra.replace(\"é\", \"e\")\n",
    "    palabra=palabra.replace(\"í\", \"i\")\n",
    "    palabra=palabra.replace(\"ó\", \"o\")\n",
    "    palabra=palabra.replace(\"ú\", \"u\")\n",
    "    \n",
    "    a=0\n",
    "    b= len(palabra)-1 #le pongo el -1 porque despues me tira que esta fuera del rango >:v\n",
    "    \n",
    "    for i in range(0, len(palabra)): #Finalmente comprovamos la palabra evaluando si la letra es la misma...\n",
    "        if(palabra[a]==palabra[b]):  #tanto en la derecha como en la izquierda de la palabra y haci hasta que lleguen...\n",
    "            a+=1                     #Al centro de esta, tambien en parte el -1 de arriva permite que no se evalien letras de más\n",
    "            b-=1\n",
    "        else:\n",
    "            return False\n",
    "    return True\n",
    "\n",
    "palabra=input(\"Ingrese la palabra o frase Palindroma...\")\n",
    "\n",
    "print(Comprovador_Palindromo(palabra))\n",
    "    \n",
    "    \n",
    "        \n",
    "    "
   ]
  },
  {
   "cell_type": "code",
   "execution_count": 18,
   "id": "ed222b52",
   "metadata": {},
   "outputs": [
    {
     "name": "stdout",
     "output_type": "stream",
     "text": [
      "Lista original es... [10, 20, 30]\n",
      "La Duplicación es [20, 40, 60]\n",
      "la triplicación es [30, 60, 90]\n",
      "La Cruplicación es [40, 80, 120]\n",
      "Y la suma de todos los cambios es... [24000, 192000, 648000]\n"
     ]
    }
   ],
   "source": [
    "#Q.03-03\n",
    "                        # esta no hay mucho que explicar solo duplico el contenido de la lista con la función que pidieron\n",
    "n_list=[10,20,30]\n",
    "print(\"Lista original es...\",n_list)\n",
    "time.sleep(2)\n",
    "k=list(map(lambda x: x * 2, n_list))\n",
    "print(\"La Duplicación es\",k)\n",
    "time.sleep(2)\n",
    "t=list(map(lambda x: x*3, n_list))\n",
    "print(\"la triplicación es\",y)\n",
    "time.sleep(2)\n",
    "u=list(map(lambda x: x*4, n_list))\n",
    "print(\"La Cruplicación es\",u)\n",
    "time.sleep(2)\n",
    "Super=list(map(lambda x,y,z: x*y*z, k,t,u)) #aunque si quieres para poner sumar 3 listas se debe poner x,y,z\n",
    "print(\"Y la suma de todos los cambios es...\", Super)"
   ]
  },
  {
   "cell_type": "code",
   "execution_count": 3,
   "id": "fe7f1d44",
   "metadata": {},
   "outputs": [
    {
     "name": "stdout",
     "output_type": "stream",
     "text": [
      "1\n",
      "4\n",
      "27\n",
      "256\n",
      "3125\n"
     ]
    }
   ],
   "source": [
    "#Q.03-04 aqui se debe explicar como sucede este programa y su resultado\n",
    "def calc_digit(n):\n",
    "    def final(digit):\n",
    "        return digit**n\n",
    "    return final\n",
    "    \n",
    "num_list=[]\n",
    "    \n",
    "for num in range(1,6):\n",
    "    num_list.append(calc_digit(num))\n",
    "    print(num_list[num-1](num))\n",
    "    \n",
    "\n"
   ]
  },
  {
   "cell_type": "code",
   "execution_count": 50,
   "id": "b402fff5",
   "metadata": {},
   "outputs": [
    {
     "ename": "SyntaxError",
     "evalue": "invalid syntax (997898136.py, line 21)",
     "output_type": "error",
     "traceback": [
      "\u001b[1;36m  Input \u001b[1;32mIn [50]\u001b[1;36m\u001b[0m\n\u001b[1;33m    __mul__ y __truediv__.\u001b[0m\n\u001b[1;37m            ^\u001b[0m\n\u001b[1;31mSyntaxError\u001b[0m\u001b[1;31m:\u001b[0m invalid syntax\n"
     ]
    }
   ],
   "source": [
    "#Q.03-05 no se como se hace xd por favor lo consiguen me dicen.\n",
    "\n",
    "class Multi_vector(object): \n",
    "    \n",
    "    def __init__(self, val): \n",
    "        self.val = val \n",
    "          \n",
    "    def __mul__(self, other): \n",
    "        return Foo(self.val * other.val) \n",
    "  \n",
    "class Bar(object): \n",
    "      \n",
    "    def __init__(self, val): \n",
    "        self.val = val \n",
    "  \n",
    "    def __str__(self): \n",
    "        return \"Bar [% s]\" % self.val \n",
    "  \n",
    "f = Foo(5) \n",
    "b = Bar(6) \n",
    "print(f * b) \n",
    "print(val)\n",
    "__mul__ y __truediv__. "
   ]
  },
  {
   "cell_type": "code",
   "execution_count": 4,
   "id": "bbc9529b",
   "metadata": {},
   "outputs": [
    {
     "name": "stdout",
     "output_type": "stream",
     "text": [
      "['Banana', 'Manzana', 'Fresa']\n"
     ]
    }
   ],
   "source": [
    "#Q.04-01 aqui tambien se debe explicar como sucede este programa y su resultado\n",
    "        # en este caso yo cree mi propia clase porque no me funcionaba al importar >:v\n",
    "class Stack:\n",
    "    \n",
    "    def __init__(self):\n",
    "        self.Stack = []\n",
    "\n",
    "    #agragar\n",
    "    def push(self,dato):\n",
    "        self.Stack.append(dato)\n",
    "       \n",
    "    #eliminar\n",
    "    def pop(self):\n",
    "        self.Stack.pop()\n",
    "        \n",
    "    #lo uso para que la lista sea de formato str\n",
    "    def __str__(self):\n",
    "        return str(self.Stack) \n",
    "    \n",
    "   \n",
    "\n",
    "carito= Stack()\n",
    "carito.push('Banana')\n",
    "carito.push('Manzana')\n",
    "carito.push('Tomate')\n",
    "carito.pop()\n",
    "carito.push('Fresa')\n",
    "carito.push('Uva')\n",
    "carito.pop()\n",
    "print(carito)\n",
    "\n",
    "\n",
    "\n",
    "\n"
   ]
  },
  {
   "cell_type": "code",
   "execution_count": 5,
   "id": "0faee9c3",
   "metadata": {},
   "outputs": [
    {
     "name": "stdout",
     "output_type": "stream",
     "text": [
      "10\n",
      "20\n",
      "30\n",
      "40\n",
      "50\n",
      "60\n",
      "70\n",
      "80\n",
      "90\n",
      "[10, 30, 50, 70, 90]\n"
     ]
    }
   ],
   "source": [
    "#Q.04-02 aqui tambien se debe explicar como sucede este programa y su resultado\n",
    "        #ademas te el codigo para que los pruebes tambien hay que usar la clase Stack pero no lo pongo ya que lo tengo...\n",
    "Bolsa=Stack()                      #en el progama de arriba\n",
    "objetos=[10*i for i in range(1,10)]\n",
    "for objetos in objetos:\n",
    "    print(objetos)\n",
    "    Bolsa.push(objetos)\n",
    "    if (objetos //10) % 2 == 0:\n",
    "        Bolsa.pop()\n",
    "   \n",
    "print(Bolsa)"
   ]
  },
  {
   "cell_type": "code",
   "execution_count": 7,
   "id": "bcf53769",
   "metadata": {},
   "outputs": [
    {
     "name": "stdout",
     "output_type": "stream",
     "text": [
      "10\n",
      "20\n",
      "30\n",
      "40\n",
      "50\n",
      "60\n",
      "70\n",
      "80\n",
      "90\n",
      "[50, 60, 70, 80, 90]\n"
     ]
    }
   ],
   "source": [
    "#Q.04-03 aqui otra vez se debe explicar como sucede este programa y su resultado\n",
    "        #otra vez tube que crear la clase yo >:c\n",
    "\n",
    "\n",
    "class Queue:\n",
    "    \n",
    "    def __init__(self):\n",
    "        self.cola=[]\n",
    "       \n",
    "    def enqueue(self,dato):\n",
    "        self.cola.append(dato)\n",
    "     \n",
    "        \n",
    "    def dequeue(self):  #el unico cambio es aqui ya le di el problema xd\n",
    "        self.cola.pop(0)\n",
    "    \n",
    "    def __str__(self):\n",
    "        return str(self.cola)\n",
    "        \n",
    "\n",
    "Cola=Queue()\n",
    "items=[10*i for i in range(1,10)]\n",
    "for items in items:\n",
    "    print(items)\n",
    "    Cola.enqueue(items)\n",
    "    if (items //10) % 2 == 0:\n",
    "        Cola.dequeue()\n",
    "\n",
    "print(Cola)\n",
    "        "
   ]
  },
  {
   "cell_type": "code",
   "execution_count": 34,
   "id": "4cae77fa",
   "metadata": {},
   "outputs": [
    {
     "name": "stdout",
     "output_type": "stream",
     "text": [
      "El resultado es 59 11\n"
     ]
    }
   ],
   "source": [
    "#Q.04-04 aqui se debe analizar y escribir el resultado de este codigo su resultado\n",
    "def find_two(num):\n",
    "    x = y = 0\n",
    "    for i in range(1,len(num)):\n",
    "        if num[x]<num[i]:\n",
    "            x=i\n",
    "        elif num[y]>num[i]:\n",
    "            y=i\n",
    "    return x,y\n",
    "\n",
    "numeros=[11,37,45,26,59,28,17,53]\n",
    "i,j = find_two(numeros)\n",
    "print('El resultado es',numeros[i],numeros[j])\n",
    "    \n",
    "    "
   ]
  },
  {
   "cell_type": "code",
   "execution_count": 33,
   "id": "bc06d620",
   "metadata": {},
   "outputs": [],
   "source": [
    "#Q.04-05 aqui se debe explicar la funcion que se utilizo en el Q.04-04\n"
   ]
  },
  {
   "cell_type": "code",
   "execution_count": 26,
   "id": "8992d0b5",
   "metadata": {},
   "outputs": [
    {
     "name": "stdout",
     "output_type": "stream",
     "text": [
      "ingresa el numero maximo:\t100\n",
      "ingresar el numero de adivinansas: 25\n",
      "Su numeros es...\t<<25>>\n",
      "El total de numeros Buscados Fueron...\t<<2>>\n"
     ]
    }
   ],
   "source": [
    "#Q.04-06 aqui otra vez se debe explicar como sucede este programa y su resultado\n",
    "\n",
    "#acá tambien te dan el codigo, solo que yo le agregue algunas cosas Uwu\n",
    "\n",
    "import time #opcional\n",
    "\n",
    "from random import randint\n",
    "while(1):\n",
    "    try:\n",
    "        maximo=int(input(\"ingresa el numero maximo:\\t\"))\n",
    "        numero=int(input(\"ingresar el numero de adivinansas: \"))\n",
    "        break\n",
    "    except ValueError:\n",
    "        print(\"\\n~Solo se permiten numeros~\")\n",
    "    \n",
    "contador=0\n",
    "bajo,alto=1,maximo\n",
    "\n",
    "while bajo < alto:\n",
    "    medio=(bajo + alto) //2\n",
    "    contador+=1\n",
    "    if(medio==numero):\n",
    "        print(f\"Su numeros es...\\t<<{numero}>>\")\n",
    "        break\n",
    "    elif (medio>numero):\n",
    "        alto = medio - 1\n",
    "    else:\n",
    "        bajo = medio + 1\n",
    "if(medio<numero or medio>numero):\n",
    "    print(f\"Su numero fue...\\t<<{numero}>>\")\n",
    "time.sleep(2)\n",
    "print(f\"El total de numeros Buscados Fueron...\\t<<{contador}>>\")"
   ]
  },
  {
   "cell_type": "code",
   "execution_count": null,
   "id": "e643eb64",
   "metadata": {},
   "outputs": [],
   "source": [
    "#Q.04-07 me equivoque banda en el anterior era hacer el codigo y decir cual era el resultado, acá es donde tienes que explicarlo\n"
   ]
  },
  {
   "cell_type": "code",
   "execution_count": 20,
   "id": "12e3666b",
   "metadata": {},
   "outputs": [
    {
     "name": "stdout",
     "output_type": "stream",
     "text": [
      "La clave Hash es... 0x169606da960\n"
     ]
    }
   ],
   "source": [
    "#Q.04-08 aqui se debe optener la clave del libro que se agragara a la class esta si te ladan no como las anteriores\n",
    "\n",
    "class hash_table:\n",
    "    def __init__(self):\n",
    "        self.table = [None] * 127\n",
    "    \n",
    "    \n",
    "    def Hash_func(self, value):\n",
    "        key = 0\n",
    "        for i in range(0,len(value)):\n",
    "            key += ord(value[i])\n",
    "        return key % 127\n",
    "\n",
    "    def Agregar(self, value): \n",
    "        hash = self.Hash_func(value)\n",
    "        if self.table[hash] is None:\n",
    "            self.table[hash] = value\n",
    "   \n",
    "    def Buscar(self,value): \n",
    "        hash = self.Hash_func(value);\n",
    "        if self.table[hash] is None:\n",
    "            return None\n",
    "        else:\n",
    "            return hex(id(self.table[hash]))\n",
    "  \n",
    "    def quitar(self,value): \n",
    "        hash = self.Hash_func(value);\n",
    "        if self.table[hash] is None:\n",
    "            print(\"No hay elementos con ese valor\", value)\n",
    "        else:\n",
    "            print(\"Elemento con valor\", value, \"eliminado\")\n",
    "            self.table[hash] is None;\n",
    "    \n",
    "ht=hash_table()\n",
    "ht.Agregar('Alicia en el país de las maravillas')\n",
    "\n",
    "print('La clave Hash es...',ht.Buscar('Alicia en el país de las maravillas'))"
   ]
  },
  {
   "cell_type": "code",
   "execution_count": 28,
   "id": "d3372932",
   "metadata": {},
   "outputs": [
    {
     "ename": "TypeError",
     "evalue": "Agregar() takes 2 positional arguments but 3 were given",
     "output_type": "error",
     "traceback": [
      "\u001b[1;31m---------------------------------------------------------------------------\u001b[0m",
      "\u001b[1;31mTypeError\u001b[0m                                 Traceback (most recent call last)",
      "Input \u001b[1;32mIn [28]\u001b[0m, in \u001b[0;36m<cell line: 11>\u001b[1;34m()\u001b[0m\n\u001b[0;32m     11\u001b[0m \u001b[38;5;28;01mfor\u001b[39;00m libro \u001b[38;5;129;01min\u001b[39;00m libros:\n\u001b[0;32m     12\u001b[0m     llave \u001b[38;5;241m=\u001b[39m \u001b[38;5;28msum\u001b[39m(\u001b[38;5;28mmap\u001b[39m(\u001b[38;5;28mord\u001b[39m,libro))\n\u001b[1;32m---> 13\u001b[0m     \u001b[43mLibreria\u001b[49m\u001b[38;5;241;43m.\u001b[39;49m\u001b[43mAgregar\u001b[49m\u001b[43m(\u001b[49m\u001b[43mllave\u001b[49m\u001b[43m,\u001b[49m\u001b[43mlibro\u001b[49m\u001b[43m)\u001b[49m\n\u001b[0;32m     14\u001b[0m \u001b[38;5;28;01mfor\u001b[39;00m llave \u001b[38;5;129;01min\u001b[39;00m Libreria\u001b[38;5;241m.\u001b[39mLibreria\u001b[38;5;241m.\u001b[39mLlaves():\n\u001b[0;32m     15\u001b[0m     \u001b[38;5;28mprint\u001b[39m(llave,Libreria\u001b[38;5;241m.\u001b[39mLibreria[llave])\n",
      "\u001b[1;31mTypeError\u001b[0m: Agregar() takes 2 positional arguments but 3 were given"
     ]
    }
   ],
   "source": [
    "#Q.04-09 no se :c, lo que me falla es el put por favor lo consiguen me dicen como pls.\n",
    "import requests\n",
    "Libreria= hash_table()\n",
    "libros=[\n",
    "    \"The Litlle Prince\",\n",
    "    \"The Old Man and The Sea\",\n",
    "    \"The Beauty an The Beast\",\n",
    "    \"The Last Leaf\",\n",
    "    \"Alice in Wonderland\"\n",
    "]\n",
    "\n",
    "for libro in libros:\n",
    "    llave = sum(map(ord,libro))\n",
    "    Libreria.Agregar(llave,libro)\n",
    "for llave in Libreria.Libreria.Llaves():\n",
    "    print(llave,Libreria.Libreria[llave])\n",
    "    \n"
   ]
  },
  {
   "cell_type": "code",
   "execution_count": null,
   "id": "20ed79ef",
   "metadata": {},
   "outputs": [],
   "source": []
  }
 ],
 "metadata": {
  "kernelspec": {
   "display_name": "Python 3.10.6 64-bit",
   "language": "python",
   "name": "python3"
  },
  "language_info": {
   "codemirror_mode": {
    "name": "ipython",
    "version": 3
   },
   "file_extension": ".py",
   "mimetype": "text/x-python",
   "name": "python",
   "nbconvert_exporter": "python",
   "pygments_lexer": "ipython3",
   "version": "3.10.6"
  },
  "vscode": {
   "interpreter": {
    "hash": "edc5df1934a4a12c3608f5b4feb444d3a220fc09f98b948b53d94c45a3a44e02"
   }
  }
 },
 "nbformat": 4,
 "nbformat_minor": 5
}
