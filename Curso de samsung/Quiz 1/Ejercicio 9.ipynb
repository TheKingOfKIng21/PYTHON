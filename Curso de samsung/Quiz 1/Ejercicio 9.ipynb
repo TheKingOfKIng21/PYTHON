{
 "cells": [
  {
   "cell_type": "markdown",
   "id": "a20fe820",
   "metadata": {},
   "source": [
    "# Ejercicio 9"
   ]
  },
  {
   "cell_type": "code",
   "execution_count": 3,
   "id": "2c164447",
   "metadata": {},
   "outputs": [
    {
     "name": "stdout",
     "output_type": "stream",
     "text": [
      "153\n",
      "370\n",
      "371\n",
      "407\n"
     ]
    }
   ],
   "source": [
    "Num1 = 100\n",
    "Num2 = 999\n",
    "\n",
    "for i in range(Num1, Num2 + 1):\n",
    "    c = 0\n",
    "    T = 0\n",
    "           \n",
    "    tp = i\n",
    "    while tp > 0:\n",
    "        T = T + 1\n",
    "        tp = tp // 10\n",
    "\n",
    "    tp = i\n",
    "    while tp > 0:\n",
    "        R = tp % 10\n",
    "        c = c + (R ** T)\n",
    "        tp //= 10\n",
    "    if i == c:\n",
    "        print(i)\n"
   ]
  },
  {
   "cell_type": "code",
   "execution_count": null,
   "id": "4807c72f",
   "metadata": {},
   "outputs": [],
   "source": []
  }
 ],
 "metadata": {
  "kernelspec": {
   "display_name": "Python 3 (ipykernel)",
   "language": "python",
   "name": "python3"
  },
  "language_info": {
   "codemirror_mode": {
    "name": "ipython",
    "version": 3
   },
   "file_extension": ".py",
   "mimetype": "text/x-python",
   "name": "python",
   "nbconvert_exporter": "python",
   "pygments_lexer": "ipython3",
   "version": "3.9.12"
  }
 },
 "nbformat": 4,
 "nbformat_minor": 5
}
