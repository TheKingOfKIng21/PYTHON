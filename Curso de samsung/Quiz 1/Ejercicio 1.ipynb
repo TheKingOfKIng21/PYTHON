{
 "cells": [
  {
   "cell_type": "markdown",
   "id": "0f7beadd",
   "metadata": {},
   "source": [
    "# Ejercico 1"
   ]
  },
  {
   "cell_type": "code",
   "execution_count": 2,
   "id": "0735177b",
   "metadata": {},
   "outputs": [
    {
     "name": "stdout",
     "output_type": "stream",
     "text": [
      "15\n"
     ]
    }
   ],
   "source": [
    "print(1+2+3+4+5)"
   ]
  },
  {
   "cell_type": "markdown",
   "id": "2ec21658",
   "metadata": {},
   "source": []
  }
 ],
 "metadata": {
  "kernelspec": {
   "display_name": "Python 3 (ipykernel)",
   "language": "python",
   "name": "python3"
  },
  "language_info": {
   "codemirror_mode": {
    "name": "ipython",
    "version": 3
   },
   "file_extension": ".py",
   "mimetype": "text/x-python",
   "name": "python",
   "nbconvert_exporter": "python",
   "pygments_lexer": "ipython3",
   "version": "3.9.12"
  }
 },
 "nbformat": 4,
 "nbformat_minor": 5
}
