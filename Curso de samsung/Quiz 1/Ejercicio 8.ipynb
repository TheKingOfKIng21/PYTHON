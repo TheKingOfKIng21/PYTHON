{
 "cells": [
  {
   "cell_type": "markdown",
   "id": "f78a70b5",
   "metadata": {},
   "source": [
    "# Ejercicio 8"
   ]
  },
  {
   "cell_type": "code",
   "execution_count": 1,
   "id": "6bce1513",
   "metadata": {},
   "outputs": [
    {
     "name": "stdout",
     "output_type": "stream",
     "text": [
      "numeros primos\n",
      "2\n",
      "3\n",
      "5\n",
      "7\n",
      "11\n",
      "numeros compuestos\n",
      "2\n",
      "3\n",
      "4\n",
      "5\n",
      "6\n",
      "7\n",
      "8\n",
      "9\n"
     ]
    }
   ],
   "source": [
    "num1= 1\n",
    "num2 = 12\n",
    "\n",
    "print(\"numeros primos\")\n",
    "for i in range(num1, num2): \n",
    "    if i>1: \n",
    "        for j in range(2,i): \n",
    "            if(i % j==0):\n",
    "                break\n",
    "        else: \n",
    "            print(i)\n",
    "num3 = 1\n",
    "num4 = 12\n",
    "\n",
    "print (\"numeros compuestos\")\n",
    "for h in range(num3, num4): \n",
    "    if h>2: \n",
    "        for h in range(1,h): \n",
    "            if(h % j==0):\n",
    "                break\n",
    "        else: \n",
    "            print(h)        \n"
   ]
  },
  {
   "cell_type": "code",
   "execution_count": null,
   "id": "1b32e6f2",
   "metadata": {},
   "outputs": [],
   "source": []
  }
 ],
 "metadata": {
  "kernelspec": {
   "display_name": "Python 3 (ipykernel)",
   "language": "python",
   "name": "python3"
  },
  "language_info": {
   "codemirror_mode": {
    "name": "ipython",
    "version": 3
   },
   "file_extension": ".py",
   "mimetype": "text/x-python",
   "name": "python",
   "nbconvert_exporter": "python",
   "pygments_lexer": "ipython3",
   "version": "3.9.12"
  }
 },
 "nbformat": 4,
 "nbformat_minor": 5
}
