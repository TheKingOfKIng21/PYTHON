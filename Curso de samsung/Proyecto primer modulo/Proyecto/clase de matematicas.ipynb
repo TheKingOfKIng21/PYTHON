{
 "cells": [
  {
   "cell_type": "code",
   "execution_count": 819,
   "metadata": {},
   "outputs": [],
   "source": [
    "#importaciones.\n",
    "import pandas as pd\n",
    "import numpy as np\n",
    "import matplotlib.pyplot as plt\n",
    "from matplotlib import colors\n",
    "import datetime as dt\n",
    "from datetime import datetime\n",
    "import math as mt\n",
    "from pytz import timezone\n",
    "from pytz import all_timezones"
   ]
  },
  {
   "cell_type": "code",
   "execution_count": 820,
   "metadata": {},
   "outputs": [
    {
     "name": "stdout",
     "output_type": "stream",
     "text": [
      "2022-10-14 21:21:07.321589\n"
     ]
    }
   ],
   "source": [
    "#importacion fecha y hora del script.\n",
    "nombre_colegio_curso1 = pd.read_csv(\"student-mat.csv\",sep = \";\") \n",
    "\n",
    "start = datetime.now()\n",
    "\n",
    "print(start)\n"
   ]
  },
  {
   "cell_type": "code",
   "execution_count": 821,
   "metadata": {},
   "outputs": [
    {
     "data": {
      "text/html": [
       "<div>\n",
       "<style scoped>\n",
       "    .dataframe tbody tr th:only-of-type {\n",
       "        vertical-align: middle;\n",
       "    }\n",
       "\n",
       "    .dataframe tbody tr th {\n",
       "        vertical-align: top;\n",
       "    }\n",
       "\n",
       "    .dataframe thead th {\n",
       "        text-align: right;\n",
       "    }\n",
       "</style>\n",
       "<table border=\"1\" class=\"dataframe\">\n",
       "  <thead>\n",
       "    <tr style=\"text-align: right;\">\n",
       "      <th></th>\n",
       "      <th>school</th>\n",
       "      <th>sex</th>\n",
       "      <th>age</th>\n",
       "      <th>address</th>\n",
       "      <th>famsize</th>\n",
       "      <th>Pstatus</th>\n",
       "      <th>Medu</th>\n",
       "      <th>Fedu</th>\n",
       "      <th>Mjob</th>\n",
       "      <th>Fjob</th>\n",
       "      <th>...</th>\n",
       "      <th>famrel</th>\n",
       "      <th>freetime</th>\n",
       "      <th>goout</th>\n",
       "      <th>Dalc</th>\n",
       "      <th>Walc</th>\n",
       "      <th>health</th>\n",
       "      <th>absences</th>\n",
       "      <th>G1</th>\n",
       "      <th>G2</th>\n",
       "      <th>G3</th>\n",
       "    </tr>\n",
       "  </thead>\n",
       "  <tbody>\n",
       "    <tr>\n",
       "      <th>0</th>\n",
       "      <td>GP</td>\n",
       "      <td>F</td>\n",
       "      <td>18</td>\n",
       "      <td>U</td>\n",
       "      <td>GT3</td>\n",
       "      <td>A</td>\n",
       "      <td>4</td>\n",
       "      <td>4</td>\n",
       "      <td>at_home</td>\n",
       "      <td>teacher</td>\n",
       "      <td>...</td>\n",
       "      <td>4</td>\n",
       "      <td>3</td>\n",
       "      <td>4</td>\n",
       "      <td>1</td>\n",
       "      <td>1</td>\n",
       "      <td>3</td>\n",
       "      <td>6</td>\n",
       "      <td>5</td>\n",
       "      <td>6</td>\n",
       "      <td>6</td>\n",
       "    </tr>\n",
       "    <tr>\n",
       "      <th>1</th>\n",
       "      <td>GP</td>\n",
       "      <td>F</td>\n",
       "      <td>17</td>\n",
       "      <td>U</td>\n",
       "      <td>GT3</td>\n",
       "      <td>T</td>\n",
       "      <td>1</td>\n",
       "      <td>1</td>\n",
       "      <td>at_home</td>\n",
       "      <td>other</td>\n",
       "      <td>...</td>\n",
       "      <td>5</td>\n",
       "      <td>3</td>\n",
       "      <td>3</td>\n",
       "      <td>1</td>\n",
       "      <td>1</td>\n",
       "      <td>3</td>\n",
       "      <td>4</td>\n",
       "      <td>5</td>\n",
       "      <td>5</td>\n",
       "      <td>6</td>\n",
       "    </tr>\n",
       "    <tr>\n",
       "      <th>2</th>\n",
       "      <td>GP</td>\n",
       "      <td>F</td>\n",
       "      <td>15</td>\n",
       "      <td>U</td>\n",
       "      <td>LE3</td>\n",
       "      <td>T</td>\n",
       "      <td>1</td>\n",
       "      <td>1</td>\n",
       "      <td>at_home</td>\n",
       "      <td>other</td>\n",
       "      <td>...</td>\n",
       "      <td>4</td>\n",
       "      <td>3</td>\n",
       "      <td>2</td>\n",
       "      <td>2</td>\n",
       "      <td>3</td>\n",
       "      <td>3</td>\n",
       "      <td>10</td>\n",
       "      <td>7</td>\n",
       "      <td>8</td>\n",
       "      <td>10</td>\n",
       "    </tr>\n",
       "    <tr>\n",
       "      <th>3</th>\n",
       "      <td>GP</td>\n",
       "      <td>F</td>\n",
       "      <td>15</td>\n",
       "      <td>U</td>\n",
       "      <td>GT3</td>\n",
       "      <td>T</td>\n",
       "      <td>4</td>\n",
       "      <td>2</td>\n",
       "      <td>health</td>\n",
       "      <td>services</td>\n",
       "      <td>...</td>\n",
       "      <td>3</td>\n",
       "      <td>2</td>\n",
       "      <td>2</td>\n",
       "      <td>1</td>\n",
       "      <td>1</td>\n",
       "      <td>5</td>\n",
       "      <td>2</td>\n",
       "      <td>15</td>\n",
       "      <td>14</td>\n",
       "      <td>15</td>\n",
       "    </tr>\n",
       "    <tr>\n",
       "      <th>4</th>\n",
       "      <td>GP</td>\n",
       "      <td>F</td>\n",
       "      <td>16</td>\n",
       "      <td>U</td>\n",
       "      <td>GT3</td>\n",
       "      <td>T</td>\n",
       "      <td>3</td>\n",
       "      <td>3</td>\n",
       "      <td>other</td>\n",
       "      <td>other</td>\n",
       "      <td>...</td>\n",
       "      <td>4</td>\n",
       "      <td>3</td>\n",
       "      <td>2</td>\n",
       "      <td>1</td>\n",
       "      <td>2</td>\n",
       "      <td>5</td>\n",
       "      <td>4</td>\n",
       "      <td>6</td>\n",
       "      <td>10</td>\n",
       "      <td>10</td>\n",
       "    </tr>\n",
       "  </tbody>\n",
       "</table>\n",
       "<p>5 rows × 33 columns</p>\n",
       "</div>"
      ],
      "text/plain": [
       "  school sex  age address famsize Pstatus  Medu  Fedu     Mjob      Fjob  ...  \\\n",
       "0     GP   F   18       U     GT3       A     4     4  at_home   teacher  ...   \n",
       "1     GP   F   17       U     GT3       T     1     1  at_home     other  ...   \n",
       "2     GP   F   15       U     LE3       T     1     1  at_home     other  ...   \n",
       "3     GP   F   15       U     GT3       T     4     2   health  services  ...   \n",
       "4     GP   F   16       U     GT3       T     3     3    other     other  ...   \n",
       "\n",
       "  famrel freetime  goout  Dalc  Walc health absences  G1  G2  G3  \n",
       "0      4        3      4     1     1      3        6   5   6   6  \n",
       "1      5        3      3     1     1      3        4   5   5   6  \n",
       "2      4        3      2     2     3      3       10   7   8  10  \n",
       "3      3        2      2     1     1      5        2  15  14  15  \n",
       "4      4        3      2     1     2      5        4   6  10  10  \n",
       "\n",
       "[5 rows x 33 columns]"
      ]
     },
     "execution_count": 821,
     "metadata": {},
     "output_type": "execute_result"
    }
   ],
   "source": [
    "nombre_colegio_curso1.head()"
   ]
  },
  {
   "cell_type": "code",
   "execution_count": 822,
   "metadata": {},
   "outputs": [],
   "source": [
    "#columnas que se requieren.\n",
    "nb1 = nombre_colegio_curso1.iloc[:,[0,1,2,3,5,11,12,13,14,17,21,28,29,30,31,32]]"
   ]
  },
  {
   "cell_type": "code",
   "execution_count": 823,
   "metadata": {},
   "outputs": [
    {
     "data": {
      "text/html": [
       "<div>\n",
       "<style scoped>\n",
       "    .dataframe tbody tr th:only-of-type {\n",
       "        vertical-align: middle;\n",
       "    }\n",
       "\n",
       "    .dataframe tbody tr th {\n",
       "        vertical-align: top;\n",
       "    }\n",
       "\n",
       "    .dataframe thead th {\n",
       "        text-align: right;\n",
       "    }\n",
       "</style>\n",
       "<table border=\"1\" class=\"dataframe\">\n",
       "  <thead>\n",
       "    <tr style=\"text-align: right;\">\n",
       "      <th></th>\n",
       "      <th>school</th>\n",
       "      <th>sex</th>\n",
       "      <th>age</th>\n",
       "      <th>address</th>\n",
       "      <th>Pstatus</th>\n",
       "      <th>guardian</th>\n",
       "      <th>traveltime</th>\n",
       "      <th>studytime</th>\n",
       "      <th>failures</th>\n",
       "      <th>paid</th>\n",
       "      <th>internet</th>\n",
       "      <th>health</th>\n",
       "      <th>absences</th>\n",
       "      <th>G1</th>\n",
       "      <th>G2</th>\n",
       "      <th>G3</th>\n",
       "    </tr>\n",
       "  </thead>\n",
       "  <tbody>\n",
       "    <tr>\n",
       "      <th>0</th>\n",
       "      <td>GP</td>\n",
       "      <td>F</td>\n",
       "      <td>18</td>\n",
       "      <td>U</td>\n",
       "      <td>A</td>\n",
       "      <td>mother</td>\n",
       "      <td>2</td>\n",
       "      <td>2</td>\n",
       "      <td>0</td>\n",
       "      <td>no</td>\n",
       "      <td>no</td>\n",
       "      <td>3</td>\n",
       "      <td>6</td>\n",
       "      <td>5</td>\n",
       "      <td>6</td>\n",
       "      <td>6</td>\n",
       "    </tr>\n",
       "    <tr>\n",
       "      <th>1</th>\n",
       "      <td>GP</td>\n",
       "      <td>F</td>\n",
       "      <td>17</td>\n",
       "      <td>U</td>\n",
       "      <td>T</td>\n",
       "      <td>father</td>\n",
       "      <td>1</td>\n",
       "      <td>2</td>\n",
       "      <td>0</td>\n",
       "      <td>no</td>\n",
       "      <td>yes</td>\n",
       "      <td>3</td>\n",
       "      <td>4</td>\n",
       "      <td>5</td>\n",
       "      <td>5</td>\n",
       "      <td>6</td>\n",
       "    </tr>\n",
       "    <tr>\n",
       "      <th>2</th>\n",
       "      <td>GP</td>\n",
       "      <td>F</td>\n",
       "      <td>15</td>\n",
       "      <td>U</td>\n",
       "      <td>T</td>\n",
       "      <td>mother</td>\n",
       "      <td>1</td>\n",
       "      <td>2</td>\n",
       "      <td>3</td>\n",
       "      <td>yes</td>\n",
       "      <td>yes</td>\n",
       "      <td>3</td>\n",
       "      <td>10</td>\n",
       "      <td>7</td>\n",
       "      <td>8</td>\n",
       "      <td>10</td>\n",
       "    </tr>\n",
       "    <tr>\n",
       "      <th>3</th>\n",
       "      <td>GP</td>\n",
       "      <td>F</td>\n",
       "      <td>15</td>\n",
       "      <td>U</td>\n",
       "      <td>T</td>\n",
       "      <td>mother</td>\n",
       "      <td>1</td>\n",
       "      <td>3</td>\n",
       "      <td>0</td>\n",
       "      <td>yes</td>\n",
       "      <td>yes</td>\n",
       "      <td>5</td>\n",
       "      <td>2</td>\n",
       "      <td>15</td>\n",
       "      <td>14</td>\n",
       "      <td>15</td>\n",
       "    </tr>\n",
       "    <tr>\n",
       "      <th>4</th>\n",
       "      <td>GP</td>\n",
       "      <td>F</td>\n",
       "      <td>16</td>\n",
       "      <td>U</td>\n",
       "      <td>T</td>\n",
       "      <td>father</td>\n",
       "      <td>1</td>\n",
       "      <td>2</td>\n",
       "      <td>0</td>\n",
       "      <td>yes</td>\n",
       "      <td>no</td>\n",
       "      <td>5</td>\n",
       "      <td>4</td>\n",
       "      <td>6</td>\n",
       "      <td>10</td>\n",
       "      <td>10</td>\n",
       "    </tr>\n",
       "  </tbody>\n",
       "</table>\n",
       "</div>"
      ],
      "text/plain": [
       "  school sex  age address Pstatus guardian  traveltime  studytime  failures  \\\n",
       "0     GP   F   18       U       A   mother           2          2         0   \n",
       "1     GP   F   17       U       T   father           1          2         0   \n",
       "2     GP   F   15       U       T   mother           1          2         3   \n",
       "3     GP   F   15       U       T   mother           1          3         0   \n",
       "4     GP   F   16       U       T   father           1          2         0   \n",
       "\n",
       "  paid internet  health  absences  G1  G2  G3  \n",
       "0   no       no       3         6   5   6   6  \n",
       "1   no      yes       3         4   5   5   6  \n",
       "2  yes      yes       3        10   7   8  10  \n",
       "3  yes      yes       5         2  15  14  15  \n",
       "4  yes       no       5         4   6  10  10  "
      ]
     },
     "execution_count": 823,
     "metadata": {},
     "output_type": "execute_result"
    }
   ],
   "source": [
    "nb1.head()"
   ]
  },
  {
   "cell_type": "code",
   "execution_count": 824,
   "metadata": {},
   "outputs": [
    {
     "name": "stdout",
     "output_type": "stream",
     "text": [
      "0\n"
     ]
    }
   ],
   "source": [
    "#verfificando si ahi valores nulos.\n",
    "print(nb1.isnull().sum().sum())"
   ]
  },
  {
   "cell_type": "code",
   "execution_count": 825,
   "metadata": {},
   "outputs": [
    {
     "data": {
      "text/plain": [
       "(46, 16)"
      ]
     },
     "execution_count": 825,
     "metadata": {},
     "output_type": "execute_result"
    }
   ],
   "source": [
    "#gráfico circular(pastel) del porcentaje de estudiantes hombres y mujeres de la clase de portugues.\n",
    "Escuela=nb1[nb1['school']=='MS']\n",
    "Escuela.shape"
   ]
  },
  {
   "cell_type": "code",
   "execution_count": 826,
   "metadata": {},
   "outputs": [
    {
     "data": {
      "text/plain": [
       "(349, 16)"
      ]
     },
     "execution_count": 826,
     "metadata": {},
     "output_type": "execute_result"
    }
   ],
   "source": [
    "Escuela1=nb1[nb1['school']=='GP']\n",
    "Escuela1.shape"
   ]
  },
  {
   "cell_type": "code",
   "execution_count": 827,
   "metadata": {},
   "outputs": [
    {
     "data": {
      "image/png": "[encoded data removed]",
      "text/plain": [
       "<Figure size 432x288 with 1 Axes>"
      ]
     },
     "metadata": {},
     "output_type": "display_data"
    }
   ],
   "source": [
    "fig, ax = plt.subplots()\n",
    "\n",
    "colores = [\"coral\",\"turquoise\"]\n",
    "Escuela.sex.value_counts().plot(kind = \"pie\", labels = [\"Mujeres\", \"Hombres\"], title = \"Hombres y Mujeres de la escuela MS \",autopct=\"%0.1f %%\",colors =colores)\n",
    "plt.show()"
   ]
  },
  {
   "cell_type": "code",
   "execution_count": 828,
   "metadata": {},
   "outputs": [
    {
     "data": {
      "image/png": "[encoded data removed]",
      "text/plain": [
       "<Figure size 432x288 with 1 Axes>"
      ]
     },
     "metadata": {},
     "output_type": "display_data"
    }
   ],
   "source": [
    "Escuela1.sex.value_counts().plot(kind = \"pie\", labels = [\"Mujeres\", \"Hombres\"], title = \"Hombres y Mujeres de la escuela GP\",autopct=\"%0.1f %%\",colors =colores)\n",
    "plt.show()"
   ]
  },
  {
   "cell_type": "code",
   "execution_count": 829,
   "metadata": {},
   "outputs": [
    {
     "data": {
      "image/png": "[encoded data removed]",
      "text/plain": [
       "<Figure size 432x288 with 1 Axes>"
      ]
     },
     "metadata": {
      "needs_background": "light"
     },
     "output_type": "display_data"
    }
   ],
   "source": [
    "# Grafico de baras con estudiantes con la misma edad.\n",
    "Escuela.groupby(\"age\").size().plot(kind = \"bar\", title = \"Edades de la escuela MS\")\n",
    "plt.show()"
   ]
  },
  {
   "cell_type": "code",
   "execution_count": 830,
   "metadata": {},
   "outputs": [
    {
     "data": {
      "image/png": "[encoded data removed]",
      "text/plain": [
       "<Figure size 432x288 with 1 Axes>"
      ]
     },
     "metadata": {
      "needs_background": "light"
     },
     "output_type": "display_data"
    }
   ],
   "source": [
    "Escuela1.groupby(\"age\").size().plot(kind = \"bar\", title = \"Edades de la escuela GP\")\n",
    "plt.show()"
   ]
  },
  {
   "cell_type": "code",
   "execution_count": 831,
   "metadata": {},
   "outputs": [
    {
     "name": "stdout",
     "output_type": "stream",
     "text": [
      "El promdio de los estudiantes de la MS:  \n",
      "El G1:\n"
     ]
    },
    {
     "data": {
      "text/plain": [
       "10.673913043478262"
      ]
     },
     "execution_count": 831,
     "metadata": {},
     "output_type": "execute_result"
    }
   ],
   "source": [
    "#promedio de los G1,G2,G3 del curso de portugues.\n",
    "print('El promdio de los estudiantes de la MS:  ')\n",
    "print('El G1:')\n",
    "E=Escuela[\"G1\"]\n",
    "np.mean(E)"
   ]
  },
  {
   "cell_type": "code",
   "execution_count": 832,
   "metadata": {},
   "outputs": [
    {
     "name": "stdout",
     "output_type": "stream",
     "text": [
      "El G2:\n"
     ]
    },
    {
     "data": {
      "text/plain": [
       "10.195652173913043"
      ]
     },
     "execution_count": 832,
     "metadata": {},
     "output_type": "execute_result"
    }
   ],
   "source": [
    "print('El G2:')\n",
    "E=Escuela[\"G2\"]\n",
    "np.mean(E)"
   ]
  },
  {
   "cell_type": "code",
   "execution_count": 833,
   "metadata": {},
   "outputs": [
    {
     "name": "stdout",
     "output_type": "stream",
     "text": [
      "El G3:\n"
     ]
    },
    {
     "data": {
      "text/plain": [
       "9.847826086956522"
      ]
     },
     "execution_count": 833,
     "metadata": {},
     "output_type": "execute_result"
    }
   ],
   "source": [
    "print('El G3:')\n",
    "E=Escuela[\"G3\"]\n",
    "np.mean(E)"
   ]
  },
  {
   "cell_type": "code",
   "execution_count": 834,
   "metadata": {},
   "outputs": [
    {
     "name": "stdout",
     "output_type": "stream",
     "text": [
      "El promdio de los estudiantes de la GP:  \n",
      "El G1:\n"
     ]
    },
    {
     "data": {
      "text/plain": [
       "10.939828080229226"
      ]
     },
     "execution_count": 834,
     "metadata": {},
     "output_type": "execute_result"
    }
   ],
   "source": [
    "print('El promdio de los estudiantes de la GP:  ')\n",
    "print('El G1:')\n",
    "E1=Escuela1[\"G1\"]\n",
    "np.mean(E1)"
   ]
  },
  {
   "cell_type": "code",
   "execution_count": 835,
   "metadata": {},
   "outputs": [
    {
     "name": "stdout",
     "output_type": "stream",
     "text": [
      "El G2:\n"
     ]
    },
    {
     "data": {
      "text/plain": [
       "10.782234957020057"
      ]
     },
     "execution_count": 835,
     "metadata": {},
     "output_type": "execute_result"
    }
   ],
   "source": [
    "print('El G2:')\n",
    "E=Escuela1[\"G2\"]\n",
    "np.mean(E)"
   ]
  },
  {
   "cell_type": "code",
   "execution_count": 836,
   "metadata": {},
   "outputs": [
    {
     "name": "stdout",
     "output_type": "stream",
     "text": [
      "El G3:\n"
     ]
    },
    {
     "data": {
      "text/plain": [
       "10.489971346704872"
      ]
     },
     "execution_count": 836,
     "metadata": {},
     "output_type": "execute_result"
    }
   ],
   "source": [
    "print('El G3:')\n",
    "E=Escuela1[\"G3\"]\n",
    "np.mean(E)"
   ]
  },
  {
   "cell_type": "code",
   "execution_count": 837,
   "metadata": {},
   "outputs": [
    {
     "data": {
      "image/png": "[encoded data removed]",
      "text/plain": [
       "<Figure size 432x288 with 1 Axes>"
      ]
     },
     "metadata": {
      "needs_background": "light"
     },
     "output_type": "display_data"
    },
    {
     "data": {
      "image/png": "[encoded data removed]",
      "text/plain": [
       "<Figure size 432x288 with 1 Axes>"
      ]
     },
     "metadata": {
      "needs_background": "light"
     },
     "output_type": "display_data"
    },
    {
     "data": {
      "image/png": "[encoded data removed]",
      "text/plain": [
       "<Figure size 432x288 with 1 Axes>"
      ]
     },
     "metadata": {
      "needs_background": "light"
     },
     "output_type": "display_data"
    }
   ],
   "source": [
    "#Grafcos de barras horizontales con el promedio de las notas.\n",
    "\n",
    "Escuela.groupby(\"G1\").size().plot(kind = \"bar\", title = \"Graficos de notas del G1 de la escuela MS\")\n",
    "plt.show()\n",
    "Escuela.groupby(\"G2\").size().plot(kind = \"bar\", title = \"Graficos de notas del G2 de la escuela MS\")\n",
    "plt.show()\n",
    "Escuela.groupby(\"G3\").size().plot(kind = \"bar\", title = \"Graficos de notas  del G3 de la escuela MS\")\n",
    "plt.show()"
   ]
  },
  {
   "cell_type": "code",
   "execution_count": 838,
   "metadata": {},
   "outputs": [
    {
     "data": {
      "image/png": "[encoded data removed]",
      "text/plain": [
       "<Figure size 432x288 with 1 Axes>"
      ]
     },
     "metadata": {
      "needs_background": "light"
     },
     "output_type": "display_data"
    },
    {
     "data": {
      "image/png": "[encoded data removed]",
      "text/plain": [
       "<Figure size 432x288 with 1 Axes>"
      ]
     },
     "metadata": {
      "needs_background": "light"
     },
     "output_type": "display_data"
    },
    {
     "data": {
      "image/png": "[encoded data removed]",
      "text/plain": [
       "<Figure size 432x288 with 1 Axes>"
      ]
     },
     "metadata": {
      "needs_background": "light"
     },
     "output_type": "display_data"
    }
   ],
   "source": [
    "Escuela1.groupby(\"G1\").size().plot(kind = \"bar\", title = \"Graficos de notas de G1 del curso de matematica de la escuela GP\")\n",
    "plt.show()\n",
    "Escuela1.groupby(\"G2\").size().plot(kind = \"bar\", title = \"Graficos de notas de G2 del curso de matematica de la escuela GP\")\n",
    "plt.show()\n",
    "Escuela1.groupby(\"G3\").size().plot(kind = \"bar\", title = \"Graficos de notas de G3 del curso de matematica de la escuela GP\")\n",
    "plt.show()"
   ]
  },
  {
   "cell_type": "code",
   "execution_count": 839,
   "metadata": {},
   "outputs": [
    {
     "name": "stdout",
     "output_type": "stream",
     "text": [
      "75\n"
     ]
    }
   ],
   "source": [
    "#valor maximo de ausencias\n",
    "\n",
    "ab=nb1['absences'].max()\n",
    "print(ab)"
   ]
  },
  {
   "cell_type": "code",
   "execution_count": 840,
   "metadata": {},
   "outputs": [
    {
     "name": "stdout",
     "output_type": "stream",
     "text": [
      "[6, 4, 10, 2, 4, 10, 0, 6, 0, 0, 0, 4, 2, 2, 0, 4, 6, 4, 16, 4, 0, 0, 2, 0, 2, 14, 2, 4, 4, 16, 0, 0, 0, 0, 0, 0, 2, 7, 2, 8, 25, 8, 2, 0, 14, 8, 12, 4, 2, 2, 2, 2, 6, 0, 6, 8, 0, 4, 2, 2, 6, 6, 4, 2, 0, 2, 4, 4, 2, 12, 0, 0, 2, 2, 54, 6, 8, 0, 2, 12, 2, 4, 10, 4, 2, 6, 4, 4, 12, 18, 0, 4, 4, 0, 6, 2, 2, 2, 6, 0, 14, 0, 4, 26, 0, 10, 8, 2, 6, 4, 6, 0, 6, 10, 8, 2, 2, 0, 20, 6, 2, 6, 2, 18, 0, 0, 0, 2, 0, 8, 0, 0, 12, 16, 0, 0, 0, 0, 0, 0, 0, 8, 2, 2, 0, 0, 0, 2, 0, 0, 0, 6, 8, 0, 0, 2, 8, 6, 2, 4, 0, 6, 0, 2, 0, 16, 4, 0, 0, 0, 0, 2, 0, 0, 4, 4, 2, 4, 10, 4, 10, 2, 0, 56, 14, 12, 2, 0, 6, 4, 10, 0, 12, 8, 0, 0, 4, 8, 24, 0, 2, 6, 4, 18, 6, 28, 5, 10, 6, 6, 10, 13, 0, 15, 12, 2, 22, 13, 3, 4, 2, 0, 2, 0, 0, 16, 10, 2, 14, 10, 14, 4, 14, 2, 18, 10, 4, 20, 2, 0, 14, 2, 0, 0, 0, 6, 4, 16, 8, 0, 0, 6, 4, 0, 0, 2, 6, 12, 8, 0, 21, 2, 1, 4, 0, 13, 2, 8, 10, 0, 15, 4, 2, 2, 2, 6, 75, 22, 15, 8, 30, 19, 1, 4, 4, 2, 5, 6, 6, 9, 11, 0, 12, 6, 8, 4, 0, 10, 0, 5, 14, 0, 0, 0, 20, 8, 0, 38, 0, 18, 0, 20, 3, 22, 14, 40, 0, 9, 0, 2, 23, 12, 3, 1, 0, 3, 3, 8, 7, 4, 2, 7, 0, 0, 0, 16, 12, 0, 7, 4, 4, 0, 11, 0, 4, 7, 9, 0, 0, 10, 8, 2, 7, 4, 4, 0, 4, 2, 4, 0, 0, 2, 0, 0, 0, 4, 0, 0, 0, 10, 4, 3, 8, 14, 0, 2, 4, 4, 0, 17, 4, 5, 2, 0, 14, 2, 7, 0, 0, 0, 11, 3, 3, 0, 5]\n",
      "75\n",
      "[92.0, 94.66666666666667, 86.66666666666667, 97.33333333333333, 94.66666666666667, 86.66666666666667, 100.0, 92.0, 100.0, 100.0, 100.0, 94.66666666666667, 97.33333333333333, 97.33333333333333, 100.0, 94.66666666666667, 92.0, 94.66666666666667, 78.66666666666666, 94.66666666666667, 100.0, 100.0, 97.33333333333333, 100.0, 97.33333333333333, 81.33333333333333, 97.33333333333333, 94.66666666666667, 94.66666666666667, 78.66666666666666, 100.0, 100.0, 100.0, 100.0, 100.0, 100.0, 97.33333333333333, 90.66666666666667, 97.33333333333333, 89.33333333333333, 66.66666666666667, 89.33333333333333, 97.33333333333333, 100.0, 81.33333333333333, 89.33333333333333, 84.0, 94.66666666666667, 97.33333333333333, 97.33333333333333, 97.33333333333333, 97.33333333333333, 92.0, 100.0, 92.0, 89.33333333333333, 100.0, 94.66666666666667, 97.33333333333333, 97.33333333333333, 92.0, 92.0, 94.66666666666667, 97.33333333333333, 100.0, 97.33333333333333, 94.66666666666667, 94.66666666666667, 97.33333333333333, 84.0, 100.0, 100.0, 97.33333333333333, 97.33333333333333, 28.0, 92.0, 89.33333333333333, 100.0, 97.33333333333333, 84.0, 97.33333333333333, 94.66666666666667, 86.66666666666667, 94.66666666666667, 97.33333333333333, 92.0, 94.66666666666667, 94.66666666666667, 84.0, 76.0, 100.0, 94.66666666666667, 94.66666666666667, 100.0, 92.0, 97.33333333333333, 97.33333333333333, 97.33333333333333, 92.0, 100.0, 81.33333333333333, 100.0, 94.66666666666667, 65.33333333333333, 100.0, 86.66666666666667, 89.33333333333333, 97.33333333333333, 92.0, 94.66666666666667, 92.0, 100.0, 92.0, 86.66666666666667, 89.33333333333333, 97.33333333333333, 97.33333333333333, 100.0, 73.33333333333333, 92.0, 97.33333333333333, 92.0, 97.33333333333333, 76.0, 100.0, 100.0, 100.0, 97.33333333333333, 100.0, 89.33333333333333, 100.0, 100.0, 84.0, 78.66666666666666, 100.0, 100.0, 100.0, 100.0, 100.0, 100.0, 100.0, 89.33333333333333, 97.33333333333333, 97.33333333333333, 100.0, 100.0, 100.0, 97.33333333333333, 100.0, 100.0, 100.0, 92.0, 89.33333333333333, 100.0, 100.0, 97.33333333333333, 89.33333333333333, 92.0, 97.33333333333333, 94.66666666666667, 100.0, 92.0, 100.0, 97.33333333333333, 100.0, 78.66666666666666, 94.66666666666667, 100.0, 100.0, 100.0, 100.0, 97.33333333333333, 100.0, 100.0, 94.66666666666667, 94.66666666666667, 97.33333333333333, 94.66666666666667, 86.66666666666667, 94.66666666666667, 86.66666666666667, 97.33333333333333, 100.0, 25.33333333333333, 81.33333333333333, 84.0, 97.33333333333333, 100.0, 92.0, 94.66666666666667, 86.66666666666667, 100.0, 84.0, 89.33333333333333, 100.0, 100.0, 94.66666666666667, 89.33333333333333, 68.0, 100.0, 97.33333333333333, 92.0, 94.66666666666667, 76.0, 92.0, 62.666666666666664, 93.33333333333333, 86.66666666666667, 92.0, 92.0, 86.66666666666667, 82.66666666666666, 100.0, 80.0, 84.0, 97.33333333333333, 70.66666666666667, 82.66666666666666, 96.0, 94.66666666666667, 97.33333333333333, 100.0, 97.33333333333333, 100.0, 100.0, 78.66666666666666, 86.66666666666667, 97.33333333333333, 81.33333333333333, 86.66666666666667, 81.33333333333333, 94.66666666666667, 81.33333333333333, 97.33333333333333, 76.0, 86.66666666666667, 94.66666666666667, 73.33333333333333, 97.33333333333333, 100.0, 81.33333333333333, 97.33333333333333, 100.0, 100.0, 100.0, 92.0, 94.66666666666667, 78.66666666666666, 89.33333333333333, 100.0, 100.0, 92.0, 94.66666666666667, 100.0, 100.0, 97.33333333333333, 92.0, 84.0, 89.33333333333333, 100.0, 72.0, 97.33333333333333, 98.66666666666667, 94.66666666666667, 100.0, 82.66666666666666, 97.33333333333333, 89.33333333333333, 86.66666666666667, 100.0, 80.0, 94.66666666666667, 97.33333333333333, 97.33333333333333, 97.33333333333333, 92.0, 0.0, 70.66666666666667, 80.0, 89.33333333333333, 60.0, 74.66666666666666, 98.66666666666667, 94.66666666666667, 94.66666666666667, 97.33333333333333, 93.33333333333333, 92.0, 92.0, 88.0, 85.33333333333333, 100.0, 84.0, 92.0, 89.33333333333333, 94.66666666666667, 100.0, 86.66666666666667, 100.0, 93.33333333333333, 81.33333333333333, 100.0, 100.0, 100.0, 73.33333333333333, 89.33333333333333, 100.0, 49.33333333333333, 100.0, 76.0, 100.0, 73.33333333333333, 96.0, 70.66666666666667, 81.33333333333333, 46.666666666666664, 100.0, 88.0, 100.0, 97.33333333333333, 69.33333333333334, 84.0, 96.0, 98.66666666666667, 100.0, 96.0, 96.0, 89.33333333333333, 90.66666666666667, 94.66666666666667, 97.33333333333333, 90.66666666666667, 100.0, 100.0, 100.0, 78.66666666666666, 84.0, 100.0, 90.66666666666667, 94.66666666666667, 94.66666666666667, 100.0, 85.33333333333333, 100.0, 94.66666666666667, 90.66666666666667, 88.0, 100.0, 100.0, 86.66666666666667, 89.33333333333333, 97.33333333333333, 90.66666666666667, 94.66666666666667, 94.66666666666667, 100.0, 94.66666666666667, 97.33333333333333, 94.66666666666667, 100.0, 100.0, 97.33333333333333, 100.0, 100.0, 100.0, 94.66666666666667, 100.0, 100.0, 100.0, 86.66666666666667, 94.66666666666667, 96.0, 89.33333333333333, 81.33333333333333, 100.0, 97.33333333333333, 94.66666666666667, 94.66666666666667, 100.0, 77.33333333333334, 94.66666666666667, 93.33333333333333, 97.33333333333333, 100.0, 81.33333333333333, 97.33333333333333, 90.66666666666667, 100.0, 100.0, 100.0, 85.33333333333333, 96.0, 96.0, 100.0, 93.33333333333333]\n",
      "395\n"
     ]
    }
   ],
   "source": [
    "#porcentaje de asistencia.\n",
    "\n",
    "asistir=[]\n",
    "maximo= nb1['absences'].max()\n",
    "for y in nb1['absences']:\n",
    "    asistir.append(y)\n",
    "print(asistir)\n",
    "print(maximo)\n",
    "\n",
    "\n",
    "asistencias=[]\n",
    "for a in range (0,len(nb1.index)):\n",
    "    inasistencias=(-((asistir[a]/maximo)*100)+100)\n",
    "    asistencias.append(inasistencias)\n",
    "print(asistencias)\n",
    "print(len(asistencias))"
   ]
  },
  {
   "cell_type": "code",
   "execution_count": 841,
   "metadata": {},
   "outputs": [
    {
     "name": "stdout",
     "output_type": "stream",
     "text": [
      "Estudinte 1... su porcentage de asistencia fue del 92.0%\n",
      "Estudinte 2... su porcentage de asistencia fue del 94.67%\n",
      "Estudinte 3... su porcentage de asistencia fue del 86.67%\n",
      "Estudinte 4... su porcentage de asistencia fue del 97.33%\n",
      "Estudinte 5... su porcentage de asistencia fue del 94.67%\n",
      "Estudinte 6... su porcentage de asistencia fue del 86.67%\n",
      "Estudinte 7... su porcentage de asistencia fue del 100.0%\n",
      "Estudinte 8... su porcentage de asistencia fue del 92.0%\n",
      "Estudinte 9... su porcentage de asistencia fue del 100.0%\n",
      "Estudinte 10... su porcentage de asistencia fue del 100.0%\n",
      "Estudinte 11... su porcentage de asistencia fue del 100.0%\n",
      "Estudinte 12... su porcentage de asistencia fue del 94.67%\n",
      "Estudinte 13... su porcentage de asistencia fue del 97.33%\n",
      "Estudinte 14... su porcentage de asistencia fue del 97.33%\n",
      "Estudinte 15... su porcentage de asistencia fue del 100.0%\n",
      "Estudinte 16... su porcentage de asistencia fue del 94.67%\n",
      "Estudinte 17... su porcentage de asistencia fue del 92.0%\n",
      "Estudinte 18... su porcentage de asistencia fue del 94.67%\n",
      "Estudinte 19... su porcentage de asistencia fue del 78.67%\n",
      "Estudinte 20... su porcentage de asistencia fue del 94.67%\n",
      "Estudinte 21... su porcentage de asistencia fue del 100.0%\n",
      "Estudinte 22... su porcentage de asistencia fue del 100.0%\n",
      "Estudinte 23... su porcentage de asistencia fue del 97.33%\n",
      "Estudinte 24... su porcentage de asistencia fue del 100.0%\n",
      "Estudinte 25... su porcentage de asistencia fue del 97.33%\n",
      "Estudinte 26... su porcentage de asistencia fue del 81.33%\n",
      "Estudinte 27... su porcentage de asistencia fue del 97.33%\n",
      "Estudinte 28... su porcentage de asistencia fue del 94.67%\n",
      "Estudinte 29... su porcentage de asistencia fue del 94.67%\n",
      "Estudinte 30... su porcentage de asistencia fue del 78.67%\n",
      "Estudinte 31... su porcentage de asistencia fue del 100.0%\n",
      "Estudinte 32... su porcentage de asistencia fue del 100.0%\n",
      "Estudinte 33... su porcentage de asistencia fue del 100.0%\n",
      "Estudinte 34... su porcentage de asistencia fue del 100.0%\n",
      "Estudinte 35... su porcentage de asistencia fue del 100.0%\n",
      "Estudinte 36... su porcentage de asistencia fue del 100.0%\n",
      "Estudinte 37... su porcentage de asistencia fue del 97.33%\n",
      "Estudinte 38... su porcentage de asistencia fue del 90.67%\n",
      "Estudinte 39... su porcentage de asistencia fue del 97.33%\n",
      "Estudinte 40... su porcentage de asistencia fue del 89.33%\n",
      "Estudinte 41... su porcentage de asistencia fue del 66.67%\n",
      "Estudinte 42... su porcentage de asistencia fue del 89.33%\n",
      "Estudinte 43... su porcentage de asistencia fue del 97.33%\n",
      "Estudinte 44... su porcentage de asistencia fue del 100.0%\n",
      "Estudinte 45... su porcentage de asistencia fue del 81.33%\n",
      "Estudinte 46... su porcentage de asistencia fue del 89.33%\n",
      "Estudinte 47... su porcentage de asistencia fue del 84.0%\n",
      "Estudinte 48... su porcentage de asistencia fue del 94.67%\n",
      "Estudinte 49... su porcentage de asistencia fue del 97.33%\n",
      "Estudinte 50... su porcentage de asistencia fue del 97.33%\n",
      "Estudinte 51... su porcentage de asistencia fue del 97.33%\n",
      "Estudinte 52... su porcentage de asistencia fue del 97.33%\n",
      "Estudinte 53... su porcentage de asistencia fue del 92.0%\n",
      "Estudinte 54... su porcentage de asistencia fue del 100.0%\n",
      "Estudinte 55... su porcentage de asistencia fue del 92.0%\n",
      "Estudinte 56... su porcentage de asistencia fue del 89.33%\n",
      "Estudinte 57... su porcentage de asistencia fue del 100.0%\n",
      "Estudinte 58... su porcentage de asistencia fue del 94.67%\n",
      "Estudinte 59... su porcentage de asistencia fue del 97.33%\n",
      "Estudinte 60... su porcentage de asistencia fue del 97.33%\n",
      "Estudinte 61... su porcentage de asistencia fue del 92.0%\n",
      "Estudinte 62... su porcentage de asistencia fue del 92.0%\n",
      "Estudinte 63... su porcentage de asistencia fue del 94.67%\n",
      "Estudinte 64... su porcentage de asistencia fue del 97.33%\n",
      "Estudinte 65... su porcentage de asistencia fue del 100.0%\n",
      "Estudinte 66... su porcentage de asistencia fue del 97.33%\n",
      "Estudinte 67... su porcentage de asistencia fue del 94.67%\n",
      "Estudinte 68... su porcentage de asistencia fue del 94.67%\n",
      "Estudinte 69... su porcentage de asistencia fue del 97.33%\n",
      "Estudinte 70... su porcentage de asistencia fue del 84.0%\n",
      "Estudinte 71... su porcentage de asistencia fue del 100.0%\n",
      "Estudinte 72... su porcentage de asistencia fue del 100.0%\n",
      "Estudinte 73... su porcentage de asistencia fue del 97.33%\n",
      "Estudinte 74... su porcentage de asistencia fue del 97.33%\n",
      "Estudinte 75... su porcentage de asistencia fue del 28.0%\n",
      "Estudinte 76... su porcentage de asistencia fue del 92.0%\n",
      "Estudinte 77... su porcentage de asistencia fue del 89.33%\n",
      "Estudinte 78... su porcentage de asistencia fue del 100.0%\n",
      "Estudinte 79... su porcentage de asistencia fue del 97.33%\n",
      "Estudinte 80... su porcentage de asistencia fue del 84.0%\n",
      "Estudinte 81... su porcentage de asistencia fue del 97.33%\n",
      "Estudinte 82... su porcentage de asistencia fue del 94.67%\n",
      "Estudinte 83... su porcentage de asistencia fue del 86.67%\n",
      "Estudinte 84... su porcentage de asistencia fue del 94.67%\n",
      "Estudinte 85... su porcentage de asistencia fue del 97.33%\n",
      "Estudinte 86... su porcentage de asistencia fue del 92.0%\n",
      "Estudinte 87... su porcentage de asistencia fue del 94.67%\n",
      "Estudinte 88... su porcentage de asistencia fue del 94.67%\n",
      "Estudinte 89... su porcentage de asistencia fue del 84.0%\n",
      "Estudinte 90... su porcentage de asistencia fue del 76.0%\n",
      "Estudinte 91... su porcentage de asistencia fue del 100.0%\n",
      "Estudinte 92... su porcentage de asistencia fue del 94.67%\n",
      "Estudinte 93... su porcentage de asistencia fue del 94.67%\n",
      "Estudinte 94... su porcentage de asistencia fue del 100.0%\n",
      "Estudinte 95... su porcentage de asistencia fue del 92.0%\n",
      "Estudinte 96... su porcentage de asistencia fue del 97.33%\n",
      "Estudinte 97... su porcentage de asistencia fue del 97.33%\n",
      "Estudinte 98... su porcentage de asistencia fue del 97.33%\n",
      "Estudinte 99... su porcentage de asistencia fue del 92.0%\n",
      "Estudinte 100... su porcentage de asistencia fue del 100.0%\n",
      "Estudinte 101... su porcentage de asistencia fue del 81.33%\n",
      "Estudinte 102... su porcentage de asistencia fue del 100.0%\n",
      "Estudinte 103... su porcentage de asistencia fue del 94.67%\n",
      "Estudinte 104... su porcentage de asistencia fue del 65.33%\n",
      "Estudinte 105... su porcentage de asistencia fue del 100.0%\n",
      "Estudinte 106... su porcentage de asistencia fue del 86.67%\n",
      "Estudinte 107... su porcentage de asistencia fue del 89.33%\n",
      "Estudinte 108... su porcentage de asistencia fue del 97.33%\n",
      "Estudinte 109... su porcentage de asistencia fue del 92.0%\n",
      "Estudinte 110... su porcentage de asistencia fue del 94.67%\n",
      "Estudinte 111... su porcentage de asistencia fue del 92.0%\n",
      "Estudinte 112... su porcentage de asistencia fue del 100.0%\n",
      "Estudinte 113... su porcentage de asistencia fue del 92.0%\n",
      "Estudinte 114... su porcentage de asistencia fue del 86.67%\n",
      "Estudinte 115... su porcentage de asistencia fue del 89.33%\n",
      "Estudinte 116... su porcentage de asistencia fue del 97.33%\n",
      "Estudinte 117... su porcentage de asistencia fue del 97.33%\n",
      "Estudinte 118... su porcentage de asistencia fue del 100.0%\n",
      "Estudinte 119... su porcentage de asistencia fue del 73.33%\n",
      "Estudinte 120... su porcentage de asistencia fue del 92.0%\n",
      "Estudinte 121... su porcentage de asistencia fue del 97.33%\n",
      "Estudinte 122... su porcentage de asistencia fue del 92.0%\n",
      "Estudinte 123... su porcentage de asistencia fue del 97.33%\n",
      "Estudinte 124... su porcentage de asistencia fue del 76.0%\n",
      "Estudinte 125... su porcentage de asistencia fue del 100.0%\n",
      "Estudinte 126... su porcentage de asistencia fue del 100.0%\n",
      "Estudinte 127... su porcentage de asistencia fue del 100.0%\n",
      "Estudinte 128... su porcentage de asistencia fue del 97.33%\n",
      "Estudinte 129... su porcentage de asistencia fue del 100.0%\n",
      "Estudinte 130... su porcentage de asistencia fue del 89.33%\n",
      "Estudinte 131... su porcentage de asistencia fue del 100.0%\n",
      "Estudinte 132... su porcentage de asistencia fue del 100.0%\n",
      "Estudinte 133... su porcentage de asistencia fue del 84.0%\n",
      "Estudinte 134... su porcentage de asistencia fue del 78.67%\n",
      "Estudinte 135... su porcentage de asistencia fue del 100.0%\n",
      "Estudinte 136... su porcentage de asistencia fue del 100.0%\n",
      "Estudinte 137... su porcentage de asistencia fue del 100.0%\n",
      "Estudinte 138... su porcentage de asistencia fue del 100.0%\n",
      "Estudinte 139... su porcentage de asistencia fue del 100.0%\n",
      "Estudinte 140... su porcentage de asistencia fue del 100.0%\n",
      "Estudinte 141... su porcentage de asistencia fue del 100.0%\n",
      "Estudinte 142... su porcentage de asistencia fue del 89.33%\n",
      "Estudinte 143... su porcentage de asistencia fue del 97.33%\n",
      "Estudinte 144... su porcentage de asistencia fue del 97.33%\n",
      "Estudinte 145... su porcentage de asistencia fue del 100.0%\n",
      "Estudinte 146... su porcentage de asistencia fue del 100.0%\n",
      "Estudinte 147... su porcentage de asistencia fue del 100.0%\n",
      "Estudinte 148... su porcentage de asistencia fue del 97.33%\n",
      "Estudinte 149... su porcentage de asistencia fue del 100.0%\n",
      "Estudinte 150... su porcentage de asistencia fue del 100.0%\n",
      "Estudinte 151... su porcentage de asistencia fue del 100.0%\n",
      "Estudinte 152... su porcentage de asistencia fue del 92.0%\n",
      "Estudinte 153... su porcentage de asistencia fue del 89.33%\n",
      "Estudinte 154... su porcentage de asistencia fue del 100.0%\n",
      "Estudinte 155... su porcentage de asistencia fue del 100.0%\n",
      "Estudinte 156... su porcentage de asistencia fue del 97.33%\n",
      "Estudinte 157... su porcentage de asistencia fue del 89.33%\n",
      "Estudinte 158... su porcentage de asistencia fue del 92.0%\n",
      "Estudinte 159... su porcentage de asistencia fue del 97.33%\n",
      "Estudinte 160... su porcentage de asistencia fue del 94.67%\n",
      "Estudinte 161... su porcentage de asistencia fue del 100.0%\n",
      "Estudinte 162... su porcentage de asistencia fue del 92.0%\n",
      "Estudinte 163... su porcentage de asistencia fue del 100.0%\n",
      "Estudinte 164... su porcentage de asistencia fue del 97.33%\n",
      "Estudinte 165... su porcentage de asistencia fue del 100.0%\n",
      "Estudinte 166... su porcentage de asistencia fue del 78.67%\n",
      "Estudinte 167... su porcentage de asistencia fue del 94.67%\n",
      "Estudinte 168... su porcentage de asistencia fue del 100.0%\n",
      "Estudinte 169... su porcentage de asistencia fue del 100.0%\n",
      "Estudinte 170... su porcentage de asistencia fue del 100.0%\n",
      "Estudinte 171... su porcentage de asistencia fue del 100.0%\n",
      "Estudinte 172... su porcentage de asistencia fue del 97.33%\n",
      "Estudinte 173... su porcentage de asistencia fue del 100.0%\n",
      "Estudinte 174... su porcentage de asistencia fue del 100.0%\n",
      "Estudinte 175... su porcentage de asistencia fue del 94.67%\n",
      "Estudinte 176... su porcentage de asistencia fue del 94.67%\n",
      "Estudinte 177... su porcentage de asistencia fue del 97.33%\n",
      "Estudinte 178... su porcentage de asistencia fue del 94.67%\n",
      "Estudinte 179... su porcentage de asistencia fue del 86.67%\n",
      "Estudinte 180... su porcentage de asistencia fue del 94.67%\n",
      "Estudinte 181... su porcentage de asistencia fue del 86.67%\n",
      "Estudinte 182... su porcentage de asistencia fue del 97.33%\n",
      "Estudinte 183... su porcentage de asistencia fue del 100.0%\n",
      "Estudinte 184... su porcentage de asistencia fue del 25.33%\n",
      "Estudinte 185... su porcentage de asistencia fue del 81.33%\n",
      "Estudinte 186... su porcentage de asistencia fue del 84.0%\n",
      "Estudinte 187... su porcentage de asistencia fue del 97.33%\n",
      "Estudinte 188... su porcentage de asistencia fue del 100.0%\n",
      "Estudinte 189... su porcentage de asistencia fue del 92.0%\n",
      "Estudinte 190... su porcentage de asistencia fue del 94.67%\n",
      "Estudinte 191... su porcentage de asistencia fue del 86.67%\n",
      "Estudinte 192... su porcentage de asistencia fue del 100.0%\n",
      "Estudinte 193... su porcentage de asistencia fue del 84.0%\n",
      "Estudinte 194... su porcentage de asistencia fue del 89.33%\n",
      "Estudinte 195... su porcentage de asistencia fue del 100.0%\n",
      "Estudinte 196... su porcentage de asistencia fue del 100.0%\n",
      "Estudinte 197... su porcentage de asistencia fue del 94.67%\n",
      "Estudinte 198... su porcentage de asistencia fue del 89.33%\n",
      "Estudinte 199... su porcentage de asistencia fue del 68.0%\n",
      "Estudinte 200... su porcentage de asistencia fue del 100.0%\n",
      "Estudinte 201... su porcentage de asistencia fue del 97.33%\n",
      "Estudinte 202... su porcentage de asistencia fue del 92.0%\n",
      "Estudinte 203... su porcentage de asistencia fue del 94.67%\n",
      "Estudinte 204... su porcentage de asistencia fue del 76.0%\n",
      "Estudinte 205... su porcentage de asistencia fue del 92.0%\n",
      "Estudinte 206... su porcentage de asistencia fue del 62.67%\n",
      "Estudinte 207... su porcentage de asistencia fue del 93.33%\n",
      "Estudinte 208... su porcentage de asistencia fue del 86.67%\n",
      "Estudinte 209... su porcentage de asistencia fue del 92.0%\n",
      "Estudinte 210... su porcentage de asistencia fue del 92.0%\n",
      "Estudinte 211... su porcentage de asistencia fue del 86.67%\n",
      "Estudinte 212... su porcentage de asistencia fue del 82.67%\n",
      "Estudinte 213... su porcentage de asistencia fue del 100.0%\n",
      "Estudinte 214... su porcentage de asistencia fue del 80.0%\n",
      "Estudinte 215... su porcentage de asistencia fue del 84.0%\n",
      "Estudinte 216... su porcentage de asistencia fue del 97.33%\n",
      "Estudinte 217... su porcentage de asistencia fue del 70.67%\n",
      "Estudinte 218... su porcentage de asistencia fue del 82.67%\n",
      "Estudinte 219... su porcentage de asistencia fue del 96.0%\n",
      "Estudinte 220... su porcentage de asistencia fue del 94.67%\n",
      "Estudinte 221... su porcentage de asistencia fue del 97.33%\n",
      "Estudinte 222... su porcentage de asistencia fue del 100.0%\n",
      "Estudinte 223... su porcentage de asistencia fue del 97.33%\n",
      "Estudinte 224... su porcentage de asistencia fue del 100.0%\n",
      "Estudinte 225... su porcentage de asistencia fue del 100.0%\n",
      "Estudinte 226... su porcentage de asistencia fue del 78.67%\n",
      "Estudinte 227... su porcentage de asistencia fue del 86.67%\n",
      "Estudinte 228... su porcentage de asistencia fue del 97.33%\n",
      "Estudinte 229... su porcentage de asistencia fue del 81.33%\n",
      "Estudinte 230... su porcentage de asistencia fue del 86.67%\n",
      "Estudinte 231... su porcentage de asistencia fue del 81.33%\n",
      "Estudinte 232... su porcentage de asistencia fue del 94.67%\n",
      "Estudinte 233... su porcentage de asistencia fue del 81.33%\n",
      "Estudinte 234... su porcentage de asistencia fue del 97.33%\n",
      "Estudinte 235... su porcentage de asistencia fue del 76.0%\n",
      "Estudinte 236... su porcentage de asistencia fue del 86.67%\n",
      "Estudinte 237... su porcentage de asistencia fue del 94.67%\n",
      "Estudinte 238... su porcentage de asistencia fue del 73.33%\n",
      "Estudinte 239... su porcentage de asistencia fue del 97.33%\n",
      "Estudinte 240... su porcentage de asistencia fue del 100.0%\n",
      "Estudinte 241... su porcentage de asistencia fue del 81.33%\n",
      "Estudinte 242... su porcentage de asistencia fue del 97.33%\n",
      "Estudinte 243... su porcentage de asistencia fue del 100.0%\n",
      "Estudinte 244... su porcentage de asistencia fue del 100.0%\n",
      "Estudinte 245... su porcentage de asistencia fue del 100.0%\n",
      "Estudinte 246... su porcentage de asistencia fue del 92.0%\n",
      "Estudinte 247... su porcentage de asistencia fue del 94.67%\n",
      "Estudinte 248... su porcentage de asistencia fue del 78.67%\n",
      "Estudinte 249... su porcentage de asistencia fue del 89.33%\n",
      "Estudinte 250... su porcentage de asistencia fue del 100.0%\n",
      "Estudinte 251... su porcentage de asistencia fue del 100.0%\n",
      "Estudinte 252... su porcentage de asistencia fue del 92.0%\n",
      "Estudinte 253... su porcentage de asistencia fue del 94.67%\n",
      "Estudinte 254... su porcentage de asistencia fue del 100.0%\n",
      "Estudinte 255... su porcentage de asistencia fue del 100.0%\n",
      "Estudinte 256... su porcentage de asistencia fue del 97.33%\n",
      "Estudinte 257... su porcentage de asistencia fue del 92.0%\n",
      "Estudinte 258... su porcentage de asistencia fue del 84.0%\n",
      "Estudinte 259... su porcentage de asistencia fue del 89.33%\n",
      "Estudinte 260... su porcentage de asistencia fue del 100.0%\n",
      "Estudinte 261... su porcentage de asistencia fue del 72.0%\n",
      "Estudinte 262... su porcentage de asistencia fue del 97.33%\n",
      "Estudinte 263... su porcentage de asistencia fue del 98.67%\n",
      "Estudinte 264... su porcentage de asistencia fue del 94.67%\n",
      "Estudinte 265... su porcentage de asistencia fue del 100.0%\n",
      "Estudinte 266... su porcentage de asistencia fue del 82.67%\n",
      "Estudinte 267... su porcentage de asistencia fue del 97.33%\n",
      "Estudinte 268... su porcentage de asistencia fue del 89.33%\n",
      "Estudinte 269... su porcentage de asistencia fue del 86.67%\n",
      "Estudinte 270... su porcentage de asistencia fue del 100.0%\n",
      "Estudinte 271... su porcentage de asistencia fue del 80.0%\n",
      "Estudinte 272... su porcentage de asistencia fue del 94.67%\n",
      "Estudinte 273... su porcentage de asistencia fue del 97.33%\n",
      "Estudinte 274... su porcentage de asistencia fue del 97.33%\n",
      "Estudinte 275... su porcentage de asistencia fue del 97.33%\n",
      "Estudinte 276... su porcentage de asistencia fue del 92.0%\n",
      "Estudinte 277... su porcentage de asistencia fue del 0.0%\n",
      "Estudinte 278... su porcentage de asistencia fue del 70.67%\n",
      "Estudinte 279... su porcentage de asistencia fue del 80.0%\n",
      "Estudinte 280... su porcentage de asistencia fue del 89.33%\n",
      "Estudinte 281... su porcentage de asistencia fue del 60.0%\n",
      "Estudinte 282... su porcentage de asistencia fue del 74.67%\n",
      "Estudinte 283... su porcentage de asistencia fue del 98.67%\n",
      "Estudinte 284... su porcentage de asistencia fue del 94.67%\n",
      "Estudinte 285... su porcentage de asistencia fue del 94.67%\n",
      "Estudinte 286... su porcentage de asistencia fue del 97.33%\n",
      "Estudinte 287... su porcentage de asistencia fue del 93.33%\n",
      "Estudinte 288... su porcentage de asistencia fue del 92.0%\n",
      "Estudinte 289... su porcentage de asistencia fue del 92.0%\n",
      "Estudinte 290... su porcentage de asistencia fue del 88.0%\n",
      "Estudinte 291... su porcentage de asistencia fue del 85.33%\n",
      "Estudinte 292... su porcentage de asistencia fue del 100.0%\n",
      "Estudinte 293... su porcentage de asistencia fue del 84.0%\n",
      "Estudinte 294... su porcentage de asistencia fue del 92.0%\n",
      "Estudinte 295... su porcentage de asistencia fue del 89.33%\n",
      "Estudinte 296... su porcentage de asistencia fue del 94.67%\n",
      "Estudinte 297... su porcentage de asistencia fue del 100.0%\n",
      "Estudinte 298... su porcentage de asistencia fue del 86.67%\n",
      "Estudinte 299... su porcentage de asistencia fue del 100.0%\n",
      "Estudinte 300... su porcentage de asistencia fue del 93.33%\n",
      "Estudinte 301... su porcentage de asistencia fue del 81.33%\n",
      "Estudinte 302... su porcentage de asistencia fue del 100.0%\n",
      "Estudinte 303... su porcentage de asistencia fue del 100.0%\n",
      "Estudinte 304... su porcentage de asistencia fue del 100.0%\n",
      "Estudinte 305... su porcentage de asistencia fue del 73.33%\n",
      "Estudinte 306... su porcentage de asistencia fue del 89.33%\n",
      "Estudinte 307... su porcentage de asistencia fue del 100.0%\n",
      "Estudinte 308... su porcentage de asistencia fue del 49.33%\n",
      "Estudinte 309... su porcentage de asistencia fue del 100.0%\n",
      "Estudinte 310... su porcentage de asistencia fue del 76.0%\n",
      "Estudinte 311... su porcentage de asistencia fue del 100.0%\n",
      "Estudinte 312... su porcentage de asistencia fue del 73.33%\n",
      "Estudinte 313... su porcentage de asistencia fue del 96.0%\n",
      "Estudinte 314... su porcentage de asistencia fue del 70.67%\n",
      "Estudinte 315... su porcentage de asistencia fue del 81.33%\n",
      "Estudinte 316... su porcentage de asistencia fue del 46.67%\n",
      "Estudinte 317... su porcentage de asistencia fue del 100.0%\n",
      "Estudinte 318... su porcentage de asistencia fue del 88.0%\n",
      "Estudinte 319... su porcentage de asistencia fue del 100.0%\n",
      "Estudinte 320... su porcentage de asistencia fue del 97.33%\n",
      "Estudinte 321... su porcentage de asistencia fue del 69.33%\n",
      "Estudinte 322... su porcentage de asistencia fue del 84.0%\n",
      "Estudinte 323... su porcentage de asistencia fue del 96.0%\n",
      "Estudinte 324... su porcentage de asistencia fue del 98.67%\n",
      "Estudinte 325... su porcentage de asistencia fue del 100.0%\n",
      "Estudinte 326... su porcentage de asistencia fue del 96.0%\n",
      "Estudinte 327... su porcentage de asistencia fue del 96.0%\n",
      "Estudinte 328... su porcentage de asistencia fue del 89.33%\n",
      "Estudinte 329... su porcentage de asistencia fue del 90.67%\n",
      "Estudinte 330... su porcentage de asistencia fue del 94.67%\n",
      "Estudinte 331... su porcentage de asistencia fue del 97.33%\n",
      "Estudinte 332... su porcentage de asistencia fue del 90.67%\n",
      "Estudinte 333... su porcentage de asistencia fue del 100.0%\n",
      "Estudinte 334... su porcentage de asistencia fue del 100.0%\n",
      "Estudinte 335... su porcentage de asistencia fue del 100.0%\n",
      "Estudinte 336... su porcentage de asistencia fue del 78.67%\n",
      "Estudinte 337... su porcentage de asistencia fue del 84.0%\n",
      "Estudinte 338... su porcentage de asistencia fue del 100.0%\n",
      "Estudinte 339... su porcentage de asistencia fue del 90.67%\n",
      "Estudinte 340... su porcentage de asistencia fue del 94.67%\n",
      "Estudinte 341... su porcentage de asistencia fue del 94.67%\n",
      "Estudinte 342... su porcentage de asistencia fue del 100.0%\n",
      "Estudinte 343... su porcentage de asistencia fue del 85.33%\n",
      "Estudinte 344... su porcentage de asistencia fue del 100.0%\n",
      "Estudinte 345... su porcentage de asistencia fue del 94.67%\n",
      "Estudinte 346... su porcentage de asistencia fue del 90.67%\n",
      "Estudinte 347... su porcentage de asistencia fue del 88.0%\n",
      "Estudinte 348... su porcentage de asistencia fue del 100.0%\n",
      "Estudinte 349... su porcentage de asistencia fue del 100.0%\n",
      "Estudinte 350... su porcentage de asistencia fue del 86.67%\n",
      "Estudinte 351... su porcentage de asistencia fue del 89.33%\n",
      "Estudinte 352... su porcentage de asistencia fue del 97.33%\n",
      "Estudinte 353... su porcentage de asistencia fue del 90.67%\n",
      "Estudinte 354... su porcentage de asistencia fue del 94.67%\n",
      "Estudinte 355... su porcentage de asistencia fue del 94.67%\n",
      "Estudinte 356... su porcentage de asistencia fue del 100.0%\n",
      "Estudinte 357... su porcentage de asistencia fue del 94.67%\n",
      "Estudinte 358... su porcentage de asistencia fue del 97.33%\n",
      "Estudinte 359... su porcentage de asistencia fue del 94.67%\n",
      "Estudinte 360... su porcentage de asistencia fue del 100.0%\n",
      "Estudinte 361... su porcentage de asistencia fue del 100.0%\n",
      "Estudinte 362... su porcentage de asistencia fue del 97.33%\n",
      "Estudinte 363... su porcentage de asistencia fue del 100.0%\n",
      "Estudinte 364... su porcentage de asistencia fue del 100.0%\n",
      "Estudinte 365... su porcentage de asistencia fue del 100.0%\n",
      "Estudinte 366... su porcentage de asistencia fue del 94.67%\n",
      "Estudinte 367... su porcentage de asistencia fue del 100.0%\n",
      "Estudinte 368... su porcentage de asistencia fue del 100.0%\n",
      "Estudinte 369... su porcentage de asistencia fue del 100.0%\n",
      "Estudinte 370... su porcentage de asistencia fue del 86.67%\n",
      "Estudinte 371... su porcentage de asistencia fue del 94.67%\n",
      "Estudinte 372... su porcentage de asistencia fue del 96.0%\n",
      "Estudinte 373... su porcentage de asistencia fue del 89.33%\n",
      "Estudinte 374... su porcentage de asistencia fue del 81.33%\n",
      "Estudinte 375... su porcentage de asistencia fue del 100.0%\n",
      "Estudinte 376... su porcentage de asistencia fue del 97.33%\n",
      "Estudinte 377... su porcentage de asistencia fue del 94.67%\n",
      "Estudinte 378... su porcentage de asistencia fue del 94.67%\n",
      "Estudinte 379... su porcentage de asistencia fue del 100.0%\n",
      "Estudinte 380... su porcentage de asistencia fue del 77.33%\n",
      "Estudinte 381... su porcentage de asistencia fue del 94.67%\n",
      "Estudinte 382... su porcentage de asistencia fue del 93.33%\n",
      "Estudinte 383... su porcentage de asistencia fue del 97.33%\n",
      "Estudinte 384... su porcentage de asistencia fue del 100.0%\n",
      "Estudinte 385... su porcentage de asistencia fue del 81.33%\n",
      "Estudinte 386... su porcentage de asistencia fue del 97.33%\n",
      "Estudinte 387... su porcentage de asistencia fue del 90.67%\n",
      "Estudinte 388... su porcentage de asistencia fue del 100.0%\n",
      "Estudinte 389... su porcentage de asistencia fue del 100.0%\n",
      "Estudinte 390... su porcentage de asistencia fue del 100.0%\n",
      "Estudinte 391... su porcentage de asistencia fue del 85.33%\n",
      "Estudinte 392... su porcentage de asistencia fue del 96.0%\n",
      "Estudinte 393... su porcentage de asistencia fue del 96.0%\n",
      "Estudinte 394... su porcentage de asistencia fue del 100.0%\n",
      "Estudinte 395... su porcentage de asistencia fue del 93.33%\n"
     ]
    }
   ],
   "source": [
    "#Porcentaje de asistencias.\n",
    "\n",
    "c=1\n",
    "for r in asistencias:\n",
    "    print(f'Estudinte {c}... su porcentage de asistencia fue del {(round(r,2))}%')\n",
    "    c+=1"
   ]
  },
  {
   "cell_type": "code",
   "execution_count": 842,
   "metadata": {},
   "outputs": [],
   "source": [
    "#Notas Finales \n",
    "Primera_Nota=[]\n",
    "Segunda_Nota=[]\n",
    "Tecera_Nota=[]\n",
    "\n",
    "for i in nb1['G1']:\n",
    "    Primera_Nota.append(i)\n",
    "    for u in nb1['G2']:\n",
    "        Segunda_Nota.append(u)\n",
    "        for l in nb1['G3']:\n",
    "                Tecera_Nota.append(l)"
   ]
  },
  {
   "cell_type": "code",
   "execution_count": 843,
   "metadata": {},
   "outputs": [
    {
     "name": "stdout",
     "output_type": "stream",
     "text": [
      "[5.666666666666667, 5.333333333333333, 8.333333333333334, 14.666666666666666, 8.666666666666666, 15.0, 11.666666666666666, 5.666666666666667, 17.666666666666668, 14.666666666666666, 9.0, 11.333333333333334, 14.0, 10.333333333333334, 15.333333333333334, 14.0, 13.666666666666666, 9.333333333333334, 5.333333333333333, 9.333333333333334, 14.0, 14.0, 15.333333333333334, 12.666666666666666, 9.0, 7.666666666666667, 11.666666666666666, 15.333333333333334, 11.0, 11.0, 10.666666666666666, 16.666666666666668, 16.333333333333332, 10.0, 13.666666666666666, 7.0, 16.333333333333332, 15.333333333333334, 11.666666666666666, 13.333333333333334, 9.333333333333334, 12.0, 18.333333333333332, 9.0, 9.666666666666666, 7.333333333333333, 11.333333333333334, 19.333333333333332, 14.666666666666666, 7.0, 12.666666666666666, 12.333333333333334, 10.666666666666666, 9.666666666666666, 12.0, 9.0, 14.666666666666666, 14.666666666666666, 9.333333333333334, 15.666666666666666, 10.666666666666666, 9.666666666666666, 9.0, 9.333333333333334, 10.0, 15.333333333333334, 12.666666666666666, 6.666666666666667, 8.333333333333334, 16.0, 14.333333333333334, 10.0, 6.333333333333333, 12.666666666666666, 11.333333333333334, 9.333333333333334, 10.666666666666666, 11.0, 8.666666666666666, 5.0, 11.333333333333334, 10.666666666666666, 6.333333333333333, 15.0, 9.666666666666666, 8.0, 7.0, 13.666666666666666, 10.333333333333334, 7.0, 7.333333333333333, 17.0, 6.333333333333333, 10.333333333333334, 12.666666666666666, 9.0, 13.666666666666666, 9.0, 13.0, 8.0, 6.333333333333333, 16.666666666666668, 12.333333333333334, 6.333333333333333, 17.333333333333332, 10.666666666666666, 7.666666666666667, 17.333333333333332, 12.0, 15.0, 18.666666666666668, 9.0, 12.0, 18.666666666666668, 9.0, 15.333333333333334, 12.666666666666666, 13.333333333333334, 8.0, 13.333333333333334, 15.333333333333334, 15.0, 13.0, 12.666666666666666, 7.666666666666667, 12.666666666666666, 9.333333333333334, 8.0, 3.6666666666666665, 18.0, 4.0, 2.6666666666666665, 11.666666666666666, 11.333333333333334, 3.0, 3.6666666666666665, 3.3333333333333335, 1.3333333333333333, 12.666666666666666, 15.666666666666666, 5.333333333333333, 9.0, 10.333333333333334, 13.666666666666666, 1.6666666666666667, 10.0, 4.333333333333333, 10.666666666666666, 4.333333333333333, 9.0, 3.6666666666666665, 13.0, 10.0, 1.6666666666666667, 11.333333333333334, 9.0, 13.666666666666666, 9.0, 15.666666666666666, 11.333333333333334, 4.333333333333333, 7.0, 2.3333333333333335, 10.0, 6.666666666666667, 11.666666666666666, 10.0, 15.0, 4.333333333333333, 14.0, 3.6666666666666665, 14.666666666666666, 11.333333333333334, 5.0, 10.0, 9.333333333333334, 12.333333333333334, 5.666666666666667, 9.0, 10.333333333333334, 8.333333333333334, 12.333333333333334, 16.666666666666668, 8.666666666666666, 12.333333333333334, 11.666666666666666, 11.333333333333334, 15.0, 8.0, 9.0, 12.0, 8.333333333333334, 7.666666666666667, 9.0, 13.666666666666666, 14.666666666666666, 16.0, 9.333333333333334, 18.0, 9.333333333333334, 16.0, 9.333333333333334, 9.333333333333334, 6.333333333333333, 10.333333333333334, 9.333333333333334, 7.0, 12.0, 9.333333333333334, 7.0, 8.0, 12.333333333333334, 13.0, 7.0, 9.333333333333334, 14.666666666666666, 5.333333333333333, 6.666666666666667, 7.333333333333333, 9.666666666666666, 6.0, 3.6666666666666665, 16.333333333333332, 12.666666666666666, 13.333333333333334, 8.0, 15.333333333333334, 11.666666666666666, 9.0, 11.333333333333334, 13.333333333333334, 11.0, 9.666666666666666, 13.333333333333334, 7.333333333333333, 10.0, 13.333333333333334, 12.333333333333334, 11.666666666666666, 4.666666666666667, 12.0, 11.0, 2.0, 12.333333333333334, 2.3333333333333335, 18.0, 12.333333333333334, 7.333333333333333, 4.333333333333333, 14.333333333333334, 7.333333333333333, 9.0, 7.666666666666667, 8.333333333333334, 10.666666666666666, 8.0, 13.0, 11.0, 14.333333333333334, 6.333333333333333, 17.666666666666668, 8.0, 12.333333333333334, 9.333333333333334, 6.333333333333333, 17.0, 9.333333333333334, 11.0, 9.666666666666666, 2.0, 9.0, 14.333333333333334, 11.0, 14.333333333333334, 10.0, 12.0, 9.333333333333334, 9.0, 8.333333333333334, 10.333333333333334, 8.0, 10.0, 12.0, 9.0, 10.0, 11.0, 18.333333333333332, 12.333333333333334, 14.333333333333334, 14.333333333333334, 11.333333333333334, 15.0, 12.333333333333334, 18.0, 13.666666666666666, 12.333333333333334, 6.333333333333333, 8.666666666666666, 13.666666666666666, 15.666666666666666, 11.0, 10.666666666666666, 13.666666666666666, 17.333333333333332, 14.0, 12.666666666666666, 17.666666666666668, 8.333333333333334, 13.0, 10.666666666666666, 6.0, 13.0, 11.666666666666666, 11.333333333333334, 13.666666666666666, 11.666666666666666, 5.333333333333333, 9.333333333333334, 10.666666666666666, 11.0, 13.0, 9.666666666666666, 11.0, 13.666666666666666, 15.333333333333334, 10.666666666666666, 15.0, 10.333333333333334, 9.333333333333334, 14.0, 8.333333333333334, 13.333333333333334, 2.3333333333333335, 5.333333333333333, 6.333333333333333, 15.333333333333334, 13.333333333333334, 5.0, 16.0, 9.666666666666666, 11.333333333333334, 6.666666666666667, 15.333333333333334, 5.666666666666667, 10.333333333333334, 13.333333333333334, 15.666666666666666, 9.666666666666666, 14.333333333333334, 12.333333333333334, 7.666666666666667, 13.0, 7.666666666666667, 8.0, 11.666666666666666, 9.333333333333334, 12.666666666666666, 11.666666666666666, 10.0, 16.666666666666668, 13.0, 12.333333333333334, 10.666666666666666, 15.333333333333334, 11.666666666666666, 10.0, 13.0, 4.333333333333333, 10.333333333333334, 12.333333333333334, 7.666666666666667, 12.666666666666666, 11.666666666666666, 5.333333333333333, 18.666666666666668, 8.666666666666666, 14.666666666666666, 9.0, 15.0, 10.0, 14.333333333333334, 6.666666666666667, 10.666666666666666, 3.6666666666666665, 5.333333333333333, 9.666666666666666, 5.666666666666667, 4.0, 8.0, 3.6666666666666665, 9.0, 15.333333333333334, 8.333333333333334, 11.0, 8.666666666666666]\n"
     ]
    }
   ],
   "source": [
    "NT=[]\n",
    "for o in range (0,len(nb1.index)):\n",
    "    notafinal=(Primera_Nota[o]+Segunda_Nota[o]+Tecera_Nota[o])/3\n",
    "    NT.append(notafinal)\n",
    "print(NT)"
   ]
  },
  {
   "cell_type": "code",
   "execution_count": 844,
   "metadata": {},
   "outputs": [
    {
     "name": "stdout",
     "output_type": "stream",
     "text": [
      "[0, 0, 0, 1, 0, 1, 1, 0, 0, 1, 0, 1, 1, 1, 0, 1, 1, 0, 0, 0, 1, 1, 0, 1, 0, 0, 1, 0, 1, 0, 1, 0, 0, 1, 1, 0, 0, 0, 1, 1, 0, 1, 0, 0, 0, 0, 1, 0, 1, 0, 1, 1, 1, 0, 1, 0, 1, 1, 0, 0, 1, 0, 0, 0, 1, 0, 1, 0, 0, 0, 1, 1, 0, 1, 0, 0, 1, 1, 0, 0, 1, 1, 0, 1, 0, 0, 0, 1, 1, 0, 0, 0, 0, 1, 1, 0, 1, 0, 1, 0, 0, 0, 1, 0, 0, 1, 0, 0, 1, 1, 0, 0, 1, 0, 0, 0, 1, 1, 0, 1, 0, 1, 1, 0, 0, 1, 0, 0, 0, 0, 0, 0, 1, 0, 0, 0, 0, 0, 1, 0, 0, 0, 1, 1, 0, 1, 0, 1, 0, 0, 0, 1, 1, 0, 1, 0, 1, 0, 0, 1, 0, 0, 0, 1, 0, 0, 1, 1, 0, 1, 0, 1, 1, 0, 1, 0, 1, 0, 0, 1, 0, 1, 0, 0, 1, 1, 1, 1, 0, 0, 1, 0, 0, 0, 1, 1, 0, 0, 0, 0, 0, 0, 0, 0, 1, 0, 0, 1, 0, 0, 0, 1, 1, 0, 1, 0, 0, 0, 0, 0, 0, 0, 1, 1, 0, 0, 1, 0, 1, 1, 1, 0, 1, 0, 1, 1, 0, 1, 0, 1, 1, 0, 1, 0, 0, 1, 0, 0, 1, 0, 0, 0, 0, 1, 0, 1, 1, 1, 0, 0, 0, 1, 0, 0, 0, 0, 1, 0, 0, 1, 1, 1, 1, 1, 0, 0, 1, 0, 0, 1, 0, 1, 1, 0, 1, 1, 1, 1, 1, 1, 0, 1, 1, 0, 0, 1, 0, 1, 1, 1, 0, 0, 1, 0, 0, 1, 0, 0, 0, 1, 0, 1, 0, 0, 0, 1, 1, 0, 0, 1, 1, 0, 1, 1, 1, 0, 1, 0, 1, 0, 0, 0, 0, 1, 0, 0, 0, 1, 0, 0, 0, 1, 1, 0, 0, 1, 1, 0, 1, 0, 0, 1, 0, 1, 1, 1, 0, 1, 1, 1, 0, 1, 1, 1, 0, 1, 1, 0, 1, 1, 0, 0, 0, 1, 0, 1, 0, 1, 0, 1, 0, 0, 0, 0, 0, 0, 0, 0, 0, 0, 1, 0]\n",
      "[0, 0, 0, 1, 0, 1, 1, 0, 1, 1, 0, 1, 1, 1, 1, 1, 1, 0, 0, 0, 1, 1, 1, 1, 0, 0, 1, 1, 1, 0, 1, 1, 1, 1, 1, 0, 1, 1, 1, 1, 0, 1, 1, 0, 0, 0, 1, 1, 1, 0, 1, 1, 1, 0, 1, 0, 1, 1, 0, 1, 1, 0, 0, 0, 1, 1, 1, 0, 0, 1, 1, 1, 0, 1, 0, 0, 1, 1, 0, 0, 1, 1, 0, 1, 0, 0, 0, 1, 1, 0, 0, 1, 0, 1, 1, 0, 1, 0, 1, 0, 0, 1, 1, 0, 1, 1, 0, 1, 1, 1, 1, 0, 1, 1, 0, 1, 1, 1, 0, 1, 1, 1, 1, 0, 0, 1, 0, 0, 0, 1, 0, 0, 1, 0, 0, 0, 0, 0, 1, 1, 0, 0, 1, 1, 0, 1, 0, 1, 0, 0, 0, 1, 1, 0, 1, 0, 1, 0, 1, 1, 0, 0, 0, 1, 0, 0, 1, 1, 0, 1, 0, 1, 1, 0, 1, 0, 1, 0, 0, 1, 0, 1, 1, 0, 1, 1, 1, 1, 0, 0, 1, 0, 0, 0, 1, 1, 1, 0, 0, 0, 1, 0, 0, 0, 1, 0, 0, 1, 0, 0, 0, 1, 1, 0, 1, 0, 0, 0, 0, 0, 0, 1, 1, 1, 0, 1, 1, 0, 1, 1, 1, 0, 1, 0, 1, 1, 0, 1, 0, 1, 1, 0, 1, 0, 1, 1, 0, 0, 1, 0, 0, 0, 0, 1, 0, 1, 1, 1, 0, 0, 0, 1, 0, 0, 1, 0, 1, 0, 0, 1, 1, 1, 1, 1, 0, 0, 1, 0, 0, 1, 0, 1, 1, 1, 1, 1, 1, 1, 1, 1, 1, 1, 1, 0, 0, 1, 1, 1, 1, 1, 1, 0, 1, 1, 0, 1, 0, 0, 0, 1, 0, 1, 0, 0, 0, 1, 1, 0, 0, 1, 1, 1, 1, 1, 1, 0, 1, 0, 1, 0, 0, 0, 0, 1, 0, 1, 0, 1, 0, 1, 0, 1, 1, 1, 0, 1, 1, 0, 1, 0, 0, 1, 0, 1, 1, 1, 1, 1, 1, 1, 1, 1, 1, 1, 0, 1, 1, 0, 1, 1, 0, 1, 0, 1, 0, 1, 0, 1, 0, 1, 0, 0, 0, 0, 0, 0, 0, 0, 1, 0, 1, 0]\n"
     ]
    }
   ],
   "source": [
    "#Aprovados y desaprobados.\n",
    "\n",
    "extra=[]\n",
    "approved=[]\n",
    "for L in range(0,len(NT)):\n",
    "    A=asistencias[L]\n",
    "    N=NT[L]\n",
    "    if(A < 80):\n",
    "        approved.append(0)\n",
    "        extra.append(0)\n",
    "    elif (A > 80 and N < 10):\n",
    "        approved.append(0)\n",
    "        extra.append(0)\n",
    "    elif(A >80 and N >= 10 and N <= 15):\n",
    "        approved.append(1)\n",
    "        extra.append(1)\n",
    "    elif(A > 80 and N > 15):\n",
    "        approved.append(1)\n",
    "        extra.append(0)\n",
    "print(extra)\n",
    "print(approved)"
   ]
  },
  {
   "cell_type": "code",
   "execution_count": 845,
   "metadata": {},
   "outputs": [
    {
     "name": "stderr",
     "output_type": "stream",
     "text": [
      "C:\\Users\\ck\\AppData\\Local\\Temp\\ipykernel_5372\\1302879829.py:3: SettingWithCopyWarning: \n",
      "A value is trying to be set on a copy of a slice from a DataFrame.\n",
      "Try using .loc[row_indexer,col_indexer] = value instead\n",
      "\n",
      "See the caveats in the documentation: https://pandas.pydata.org/pandas-docs/stable/user_guide/indexing.html#returning-a-view-versus-a-copy\n",
      "  nb1['approved'] = pd.Series(approved)\n",
      "C:\\Users\\ck\\AppData\\Local\\Temp\\ipykernel_5372\\1302879829.py:4: SettingWithCopyWarning: \n",
      "A value is trying to be set on a copy of a slice from a DataFrame.\n",
      "Try using .loc[row_indexer,col_indexer] = value instead\n",
      "\n",
      "See the caveats in the documentation: https://pandas.pydata.org/pandas-docs/stable/user_guide/indexing.html#returning-a-view-versus-a-copy\n",
      "  nb1['extra'] = pd.Series(extra)\n"
     ]
    }
   ],
   "source": [
    "# crear las dcolumnas de approved y extra.\n",
    "\n",
    "nb1['approved'] = pd.Series(approved)\n",
    "nb1['extra'] = pd.Series(extra)"
   ]
  },
  {
   "cell_type": "code",
   "execution_count": 846,
   "metadata": {},
   "outputs": [
    {
     "data": {
      "text/html": [
       "<div>\n",
       "<style scoped>\n",
       "    .dataframe tbody tr th:only-of-type {\n",
       "        vertical-align: middle;\n",
       "    }\n",
       "\n",
       "    .dataframe tbody tr th {\n",
       "        vertical-align: top;\n",
       "    }\n",
       "\n",
       "    .dataframe thead th {\n",
       "        text-align: right;\n",
       "    }\n",
       "</style>\n",
       "<table border=\"1\" class=\"dataframe\">\n",
       "  <thead>\n",
       "    <tr style=\"text-align: right;\">\n",
       "      <th></th>\n",
       "      <th>school</th>\n",
       "      <th>sex</th>\n",
       "      <th>age</th>\n",
       "      <th>address</th>\n",
       "      <th>Pstatus</th>\n",
       "      <th>guardian</th>\n",
       "      <th>traveltime</th>\n",
       "      <th>studytime</th>\n",
       "      <th>failures</th>\n",
       "      <th>paid</th>\n",
       "      <th>internet</th>\n",
       "      <th>health</th>\n",
       "      <th>absences</th>\n",
       "      <th>G1</th>\n",
       "      <th>G2</th>\n",
       "      <th>G3</th>\n",
       "      <th>approved</th>\n",
       "      <th>extra</th>\n",
       "    </tr>\n",
       "  </thead>\n",
       "  <tbody>\n",
       "    <tr>\n",
       "      <th>0</th>\n",
       "      <td>GP</td>\n",
       "      <td>F</td>\n",
       "      <td>18</td>\n",
       "      <td>U</td>\n",
       "      <td>A</td>\n",
       "      <td>mother</td>\n",
       "      <td>2</td>\n",
       "      <td>2</td>\n",
       "      <td>0</td>\n",
       "      <td>no</td>\n",
       "      <td>no</td>\n",
       "      <td>3</td>\n",
       "      <td>6</td>\n",
       "      <td>5</td>\n",
       "      <td>6</td>\n",
       "      <td>6</td>\n",
       "      <td>0.0</td>\n",
       "      <td>0.0</td>\n",
       "    </tr>\n",
       "    <tr>\n",
       "      <th>1</th>\n",
       "      <td>GP</td>\n",
       "      <td>F</td>\n",
       "      <td>17</td>\n",
       "      <td>U</td>\n",
       "      <td>T</td>\n",
       "      <td>father</td>\n",
       "      <td>1</td>\n",
       "      <td>2</td>\n",
       "      <td>0</td>\n",
       "      <td>no</td>\n",
       "      <td>yes</td>\n",
       "      <td>3</td>\n",
       "      <td>4</td>\n",
       "      <td>5</td>\n",
       "      <td>5</td>\n",
       "      <td>6</td>\n",
       "      <td>0.0</td>\n",
       "      <td>0.0</td>\n",
       "    </tr>\n",
       "    <tr>\n",
       "      <th>2</th>\n",
       "      <td>GP</td>\n",
       "      <td>F</td>\n",
       "      <td>15</td>\n",
       "      <td>U</td>\n",
       "      <td>T</td>\n",
       "      <td>mother</td>\n",
       "      <td>1</td>\n",
       "      <td>2</td>\n",
       "      <td>3</td>\n",
       "      <td>yes</td>\n",
       "      <td>yes</td>\n",
       "      <td>3</td>\n",
       "      <td>10</td>\n",
       "      <td>7</td>\n",
       "      <td>8</td>\n",
       "      <td>10</td>\n",
       "      <td>0.0</td>\n",
       "      <td>0.0</td>\n",
       "    </tr>\n",
       "    <tr>\n",
       "      <th>3</th>\n",
       "      <td>GP</td>\n",
       "      <td>F</td>\n",
       "      <td>15</td>\n",
       "      <td>U</td>\n",
       "      <td>T</td>\n",
       "      <td>mother</td>\n",
       "      <td>1</td>\n",
       "      <td>3</td>\n",
       "      <td>0</td>\n",
       "      <td>yes</td>\n",
       "      <td>yes</td>\n",
       "      <td>5</td>\n",
       "      <td>2</td>\n",
       "      <td>15</td>\n",
       "      <td>14</td>\n",
       "      <td>15</td>\n",
       "      <td>1.0</td>\n",
       "      <td>1.0</td>\n",
       "    </tr>\n",
       "    <tr>\n",
       "      <th>4</th>\n",
       "      <td>GP</td>\n",
       "      <td>F</td>\n",
       "      <td>16</td>\n",
       "      <td>U</td>\n",
       "      <td>T</td>\n",
       "      <td>father</td>\n",
       "      <td>1</td>\n",
       "      <td>2</td>\n",
       "      <td>0</td>\n",
       "      <td>yes</td>\n",
       "      <td>no</td>\n",
       "      <td>5</td>\n",
       "      <td>4</td>\n",
       "      <td>6</td>\n",
       "      <td>10</td>\n",
       "      <td>10</td>\n",
       "      <td>0.0</td>\n",
       "      <td>0.0</td>\n",
       "    </tr>\n",
       "    <tr>\n",
       "      <th>...</th>\n",
       "      <td>...</td>\n",
       "      <td>...</td>\n",
       "      <td>...</td>\n",
       "      <td>...</td>\n",
       "      <td>...</td>\n",
       "      <td>...</td>\n",
       "      <td>...</td>\n",
       "      <td>...</td>\n",
       "      <td>...</td>\n",
       "      <td>...</td>\n",
       "      <td>...</td>\n",
       "      <td>...</td>\n",
       "      <td>...</td>\n",
       "      <td>...</td>\n",
       "      <td>...</td>\n",
       "      <td>...</td>\n",
       "      <td>...</td>\n",
       "      <td>...</td>\n",
       "    </tr>\n",
       "    <tr>\n",
       "      <th>387</th>\n",
       "      <td>MS</td>\n",
       "      <td>F</td>\n",
       "      <td>19</td>\n",
       "      <td>R</td>\n",
       "      <td>T</td>\n",
       "      <td>mother</td>\n",
       "      <td>1</td>\n",
       "      <td>3</td>\n",
       "      <td>1</td>\n",
       "      <td>no</td>\n",
       "      <td>yes</td>\n",
       "      <td>5</td>\n",
       "      <td>0</td>\n",
       "      <td>7</td>\n",
       "      <td>5</td>\n",
       "      <td>0</td>\n",
       "      <td>0.0</td>\n",
       "      <td>0.0</td>\n",
       "    </tr>\n",
       "    <tr>\n",
       "      <th>388</th>\n",
       "      <td>MS</td>\n",
       "      <td>F</td>\n",
       "      <td>18</td>\n",
       "      <td>U</td>\n",
       "      <td>T</td>\n",
       "      <td>mother</td>\n",
       "      <td>1</td>\n",
       "      <td>2</td>\n",
       "      <td>0</td>\n",
       "      <td>yes</td>\n",
       "      <td>yes</td>\n",
       "      <td>1</td>\n",
       "      <td>0</td>\n",
       "      <td>7</td>\n",
       "      <td>9</td>\n",
       "      <td>8</td>\n",
       "      <td>1.0</td>\n",
       "      <td>0.0</td>\n",
       "    </tr>\n",
       "    <tr>\n",
       "      <th>389</th>\n",
       "      <td>MS</td>\n",
       "      <td>F</td>\n",
       "      <td>18</td>\n",
       "      <td>U</td>\n",
       "      <td>T</td>\n",
       "      <td>mother</td>\n",
       "      <td>2</td>\n",
       "      <td>2</td>\n",
       "      <td>1</td>\n",
       "      <td>no</td>\n",
       "      <td>no</td>\n",
       "      <td>5</td>\n",
       "      <td>0</td>\n",
       "      <td>6</td>\n",
       "      <td>5</td>\n",
       "      <td>0</td>\n",
       "      <td>0.0</td>\n",
       "      <td>0.0</td>\n",
       "    </tr>\n",
       "    <tr>\n",
       "      <th>390</th>\n",
       "      <td>MS</td>\n",
       "      <td>M</td>\n",
       "      <td>20</td>\n",
       "      <td>U</td>\n",
       "      <td>A</td>\n",
       "      <td>other</td>\n",
       "      <td>1</td>\n",
       "      <td>2</td>\n",
       "      <td>2</td>\n",
       "      <td>yes</td>\n",
       "      <td>no</td>\n",
       "      <td>4</td>\n",
       "      <td>11</td>\n",
       "      <td>9</td>\n",
       "      <td>9</td>\n",
       "      <td>9</td>\n",
       "      <td>1.0</td>\n",
       "      <td>1.0</td>\n",
       "    </tr>\n",
       "    <tr>\n",
       "      <th>391</th>\n",
       "      <td>MS</td>\n",
       "      <td>M</td>\n",
       "      <td>17</td>\n",
       "      <td>U</td>\n",
       "      <td>T</td>\n",
       "      <td>mother</td>\n",
       "      <td>2</td>\n",
       "      <td>1</td>\n",
       "      <td>0</td>\n",
       "      <td>no</td>\n",
       "      <td>yes</td>\n",
       "      <td>2</td>\n",
       "      <td>3</td>\n",
       "      <td>14</td>\n",
       "      <td>16</td>\n",
       "      <td>16</td>\n",
       "      <td>0.0</td>\n",
       "      <td>0.0</td>\n",
       "    </tr>\n",
       "  </tbody>\n",
       "</table>\n",
       "<p>392 rows × 18 columns</p>\n",
       "</div>"
      ],
      "text/plain": [
       "    school sex  age address Pstatus guardian  traveltime  studytime  failures  \\\n",
       "0       GP   F   18       U       A   mother           2          2         0   \n",
       "1       GP   F   17       U       T   father           1          2         0   \n",
       "2       GP   F   15       U       T   mother           1          2         3   \n",
       "3       GP   F   15       U       T   mother           1          3         0   \n",
       "4       GP   F   16       U       T   father           1          2         0   \n",
       "..     ...  ..  ...     ...     ...      ...         ...        ...       ...   \n",
       "387     MS   F   19       R       T   mother           1          3         1   \n",
       "388     MS   F   18       U       T   mother           1          2         0   \n",
       "389     MS   F   18       U       T   mother           2          2         1   \n",
       "390     MS   M   20       U       A    other           1          2         2   \n",
       "391     MS   M   17       U       T   mother           2          1         0   \n",
       "\n",
       "    paid internet  health  absences  G1  G2  G3  approved  extra  \n",
       "0     no       no       3         6   5   6   6       0.0    0.0  \n",
       "1     no      yes       3         4   5   5   6       0.0    0.0  \n",
       "2    yes      yes       3        10   7   8  10       0.0    0.0  \n",
       "3    yes      yes       5         2  15  14  15       1.0    1.0  \n",
       "4    yes       no       5         4   6  10  10       0.0    0.0  \n",
       "..   ...      ...     ...       ...  ..  ..  ..       ...    ...  \n",
       "387   no      yes       5         0   7   5   0       0.0    0.0  \n",
       "388  yes      yes       1         0   7   9   8       1.0    0.0  \n",
       "389   no       no       5         0   6   5   0       0.0    0.0  \n",
       "390  yes       no       4        11   9   9   9       1.0    1.0  \n",
       "391   no      yes       2         3  14  16  16       0.0    0.0  \n",
       "\n",
       "[392 rows x 18 columns]"
      ]
     },
     "execution_count": 846,
     "metadata": {},
     "output_type": "execute_result"
    }
   ],
   "source": [
    "nb1 = nb1.dropna() \n",
    "\n",
    "nb1"
   ]
  },
  {
   "cell_type": "code",
   "execution_count": 847,
   "metadata": {},
   "outputs": [
    {
     "data": {
      "image/png": "[encoded data removed]",
      "text/plain": [
       "<Figure size 432x288 with 1 Axes>"
      ]
     },
     "metadata": {},
     "output_type": "display_data"
    }
   ],
   "source": [
    "colores2= (\"yellow\",\"lime\")\n",
    "nb1.approved.value_counts().plot(kind = \"pie\", labels = [\"Reprobados\",\"Aprobados\"], title = \"Porcentaje de estudiantes que reprobo y aprobo el curso\",autopct=\"%0.1f %%\",colors=colores2)\n",
    "plt.show()"
   ]
  },
  {
   "cell_type": "code",
   "execution_count": 848,
   "metadata": {},
   "outputs": [],
   "source": [
    "nb1.to_csv('Resultado + Fecha en la que se ejecuta el script de la clase de matemáticas',sep= ';',index= False)"
   ]
  }
 ],
 "metadata": {
  "kernelspec": {
   "display_name": "Python 3.9.12 ('base')",
   "language": "python",
   "name": "python3"
  },
  "language_info": {
   "codemirror_mode": {
    "name": "ipython",
    "version": 3
   },
   "file_extension": ".py",
   "mimetype": "text/x-python",
   "name": "python",
   "nbconvert_exporter": "python",
   "pygments_lexer": "ipython3",
   "version": "3.9.12"
  },
  "orig_nbformat": 4,
  "vscode": {
   "interpreter": {
    "hash": "3b0947d4181266874cc036d6a71f90081c42ecadd089f88b68aad38941fa4356"
   }
  }
 },
 "nbformat": 4,
 "nbformat_minor": 2
}
