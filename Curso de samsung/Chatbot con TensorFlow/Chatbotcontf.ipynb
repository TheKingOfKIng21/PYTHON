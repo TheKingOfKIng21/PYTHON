{
 "cells": [
  {
   "cell_type": "code",
   "execution_count": 4,
   "metadata": {},
   "outputs": [
    {
     "name": "stdout",
     "output_type": "stream",
     "text": [
      "Esta es la primera informacion sin procesar\n",
      "['Hi', 'How', 'are', 'you', 'Is', 'anyone', 'there', '?', 'Hello', 'Good', 'day', 'Bye', 'See', 'you', 'later', 'Goodbye', 'Thanks', 'Thank', 'you', 'That', \"'s\", 'helpful', 'What', 'hours', 'are', 'you', 'open', '?', 'What', 'are', 'your', 'hours', '?', 'When', 'are', 'you', 'open', '?', 'Do', 'you', 'take', 'credit', 'cards', '?', 'Do', 'you', 'accept', 'Mastercard', '?', 'Are', 'you', 'cash', 'only', '?', 'Are', 'you', 'open', 'today', '?', 'When', 'do', 'you', 'open', 'today', '?', 'What', 'are', 'your', 'hours', 'today', '?']\n",
      "\n",
      "\n",
      "\n",
      "[['Hi'], ['How', 'are', 'you'], ['Is', 'anyone', 'there', '?'], ['Hello'], ['Good', 'day'], ['Bye'], ['See', 'you', 'later'], ['Goodbye'], ['Thanks'], ['Thank', 'you'], ['That', \"'s\", 'helpful'], ['What', 'hours', 'are', 'you', 'open', '?'], ['What', 'are', 'your', 'hours', '?'], ['When', 'are', 'you', 'open', '?'], ['Do', 'you', 'take', 'credit', 'cards', '?'], ['Do', 'you', 'accept', 'Mastercard', '?'], ['Are', 'you', 'cash', 'only', '?'], ['Are', 'you', 'open', 'today', '?'], ['When', 'do', 'you', 'open', 'today', '?'], ['What', 'are', 'your', 'hours', 'today', '?']]\n",
      "\n",
      "\n",
      "\n",
      "['greeting', 'greeting', 'greeting', 'greeting', 'greeting', 'goodbye', 'goodbye', 'goodbye', 'thanks', 'thanks', 'thanks', 'hours', 'hours', 'hours', 'payments', 'payments', 'payments', 'opentoday', 'opentoday', 'opentoday']\n",
      "\n",
      "\n",
      "\n",
      "['greeting', 'goodbye', 'thanks', 'hours', 'payments', 'opentoday']\n"
     ]
    }
   ],
   "source": [
    "import nltk\n",
    "from nltk.stem.lancaster import LancasterStemmer\n",
    "import tensorflow\n",
    "import tflearn\n",
    "import pickle\n",
    "import random\n",
    "import numpy as np\n",
    "\n",
    "stemmer=LancasterStemmer\n",
    "import json\n",
    "with open('intents1.json') as file:\n",
    "    data = json.load(file)\n",
    "\n",
    "print(\"Esta es la primera informacion sin procesar\")\n",
    "data\n",
    "\n",
    "\n",
    "\n",
    "try:\n",
    "    with open(\"data.pekle\",\"rb\") as f:\n",
    "        words,labels,trainig,output= pickle.load(f)\n",
    "except:\n",
    "    words=[]\n",
    "    labels=[]\n",
    "    docs_x=[]\n",
    "    docs_y=[]\n",
    "    \n",
    "    for intents in data['intents']:\n",
    "        for patterns in intents['patterns']:\n",
    "            wrds=nltk.word_tokenize(patterns)\n",
    "            words.extend(wrds)\n",
    "            docs_x.append(wrds)\n",
    "            docs_y.append(intents[\"tag\"])\n",
    "            \n",
    "            if intents[\"tag\"] not in labels:\n",
    "                labels.append(intents[\"tag\"])\n",
    "\n",
    "    print (words)\n",
    "    print (\"\")\n",
    "    print (\"\")\n",
    "    print (\"\")\n",
    "\n",
    "    print (docs_x) \n",
    "    print (\"\")\n",
    "    print (\"\")\n",
    "    print (\"\")\n",
    "    print (docs_y)\n",
    "\n",
    "    print (\"\")\n",
    "    print (\"\")\n",
    "    print (\"\")\n",
    "    print (labels)"
   ]
  },
  {
   "cell_type": "code",
   "execution_count": null,
   "metadata": {},
   "outputs": [],
   "source": [
    "print (words)\n",
    "print (\"\")\n",
    "print (\"\")\n",
    "print (\"\")\n",
    "\n",
    "words=[stemmer.stem(w.lower())for w in words if w != \"?\"]\n",
    "\n",
    "print (words)\n",
    "print (\"\")\n",
    "print (\"\")\n",
    "print (\"\")\n",
    "\n",
    "words= sorted(list(set(words)))\n",
    "\n",
    "print (words)\n",
    "print (\"\")\n",
    "print (\"\")\n",
    "print (\"\")"
   ]
  }
 ],
 "metadata": {
  "kernelspec": {
   "display_name": "Python 3.9.12 ('base')",
   "language": "python",
   "name": "python3"
  },
  "language_info": {
   "codemirror_mode": {
    "name": "ipython",
    "version": 3
   },
   "file_extension": ".py",
   "mimetype": "text/x-python",
   "name": "python",
   "nbconvert_exporter": "python",
   "pygments_lexer": "ipython3",
   "version": "3.9.12"
  },
  "orig_nbformat": 4,
  "vscode": {
   "interpreter": {
    "hash": "3b0947d4181266874cc036d6a71f90081c42ecadd089f88b68aad38941fa4356"
   }
  }
 },
 "nbformat": 4,
 "nbformat_minor": 2
}
