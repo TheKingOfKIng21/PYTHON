{
 "cells": [
  {
   "cell_type": "code",
   "execution_count": 1,
   "metadata": {},
   "outputs": [
    {
     "name": "stdout",
     "output_type": "stream",
     "text": [
      "WARNING:tensorflow:From c:\\Users\\ck\\anaconda3\\lib\\site-packages\\tensorflow\\python\\compat\\v2_compat.py:107: disable_resource_variables (from tensorflow.python.ops.variable_scope) is deprecated and will be removed in a future version.\n",
      "Instructions for updating:\n",
      "non-resource variables are not supported in the long term\n",
      "hdf5 is not supported on this machine (please install/reinstall h5py for optimal experience)\n"
     ]
    },
    {
     "ename": "ValueError",
     "evalue": "' ' is not in list",
     "output_type": "error",
     "traceback": [
      "\u001b[1;31m---------------------------------------------------------------------------\u001b[0m",
      "\u001b[1;31mValueError\u001b[0m                                Traceback (most recent call last)",
      "\u001b[1;32mc:\\Users\\ck\\Documents\\Cursos y curriculum\\Python\\PROYECTO_FINAL\\InmoBotB.ipynb Celda 1\u001b[0m in \u001b[0;36m<cell line: 38>\u001b[1;34m()\u001b[0m\n\u001b[0;32m     <a href='vscode-notebook-cell:/c%3A/Users/ck/Documents/Cursos%20y%20curriculum/Python/PROYECTO_FINAL/InmoBotB.ipynb#W0sZmlsZQ%3D%3D?line=46'>47</a>\u001b[0m         bag\u001b[39m.\u001b[39mappend(\u001b[39m0\u001b[39m)\n\u001b[0;32m     <a href='vscode-notebook-cell:/c%3A/Users/ck/Documents/Cursos%20y%20curriculum/Python/PROYECTO_FINAL/InmoBotB.ipynb#W0sZmlsZQ%3D%3D?line=48'>49</a>\u001b[0m output_row\u001b[39m=\u001b[39m out_empty[:]\n\u001b[1;32m---> <a href='vscode-notebook-cell:/c%3A/Users/ck/Documents/Cursos%20y%20curriculum/Python/PROYECTO_FINAL/InmoBotB.ipynb#W0sZmlsZQ%3D%3D?line=49'>50</a>\u001b[0m output_row[labels\u001b[39m.\u001b[39;49mindex(docks_y[x])]\u001b[39m=\u001b[39m\u001b[39m1\u001b[39m\n\u001b[0;32m     <a href='vscode-notebook-cell:/c%3A/Users/ck/Documents/Cursos%20y%20curriculum/Python/PROYECTO_FINAL/InmoBotB.ipynb#W0sZmlsZQ%3D%3D?line=51'>52</a>\u001b[0m training\u001b[39m.\u001b[39mappend(bag)\n\u001b[0;32m     <a href='vscode-notebook-cell:/c%3A/Users/ck/Documents/Cursos%20y%20curriculum/Python/PROYECTO_FINAL/InmoBotB.ipynb#W0sZmlsZQ%3D%3D?line=52'>53</a>\u001b[0m output\u001b[39m.\u001b[39mappend(output_row)\n",
      "\u001b[1;31mValueError\u001b[0m: ' ' is not in list"
     ]
    }
   ],
   "source": [
    "import nltk \n",
    "from nltk.stem.lancaster import LancasterStemmer\n",
    "stemmer= LancasterStemmer()\n",
    "\n",
    "import numpy as np\n",
    "import tflearn as t\n",
    "import tensorflow as tf\n",
    "import random \n",
    "\n",
    "import json\n",
    "with open ('intents.json') as file:\n",
    "    data= json.load(file)\n",
    "\n",
    "words =[]\n",
    "labels=[]\n",
    "docks_x=[]\n",
    "docks_y=[]\n",
    "\n",
    "for intent in data['intents']:\n",
    "    for patterns in intent['patterns']:\n",
    "        wrds= nltk.word_tokenize(patterns)\n",
    "        words.extend(wrds)\n",
    "        docks_x.extend(wrds)\n",
    "        docks_y.extend(intent[\"tag\"])\n",
    "    if intent['tag'] not in labels:\n",
    "        labels.append(intent['tag'])\n",
    "\n",
    "words= [stemmer.stem(w.lower())for w in words if w !=\"?\"]\n",
    "words= sorted(list(set(words)))\n",
    "\n",
    "labels= sorted(labels)\n",
    "\n",
    "training=[]\n",
    "output=[]\n",
    "\n",
    "out_empty=[0 for _ in range(len(labels))]\n",
    "\n",
    "for x, doc in enumerate(docks_x):\n",
    "    bag=[]\n",
    "    \n",
    "    wrds =[stemmer.stem(w.lower()) for w in doc]\n",
    "    \n",
    "    for w in words:\n",
    "        if w  in wrds:\n",
    "            bag.append(1)\n",
    "        else:\n",
    "            bag.append(0)\n",
    "    \n",
    "    output_row= out_empty[:]\n",
    "    output_row[labels.index(docks_y[x])]=1\n",
    "    \n",
    "    training.append(bag)\n",
    "    output.append(output_row)\n",
    "\n",
    "training= np.array(training)\n",
    "output= np.array(output)\n",
    "\n",
    "tf.compat.v1.reset_default_graph()\n",
    "\n",
    "net= t.input_data(shape=[None, len(training[0])])\n",
    "net= t.fully_connected(net,8)\n",
    "net= t.fully_connected(net,8)\n",
    "net = t.fully_connected(net, len(output[0]), activation=\"softmax\")\n",
    "net = t.regression(net)\n",
    "\n",
    "model= t.DNN(net)\n",
    "\n",
    "model.fit(training,output,n_epoch=8000,batch_size=8,show_metric=True)\n",
    "model.save(\"model.tflearn\")"
   ]
  }
 ],
 "metadata": {
  "kernelspec": {
   "display_name": "base",
   "language": "python",
   "name": "python3"
  },
  "language_info": {
   "codemirror_mode": {
    "name": "ipython",
    "version": 3
   },
   "file_extension": ".py",
   "mimetype": "text/x-python",
   "name": "python",
   "nbconvert_exporter": "python",
   "pygments_lexer": "ipython3",
   "version": "3.9.12"
  },
  "orig_nbformat": 4,
  "vscode": {
   "interpreter": {
    "hash": "3b0947d4181266874cc036d6a71f90081c42ecadd089f88b68aad38941fa4356"
   }
  }
 },
 "nbformat": 4,
 "nbformat_minor": 2
}
