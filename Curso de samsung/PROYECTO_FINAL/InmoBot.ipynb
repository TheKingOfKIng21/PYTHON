{
 "cells": [
  {
   "cell_type": "code",
   "execution_count": 18,
   "id": "40b87438",
   "metadata": {},
   "outputs": [],
   "source": [
    "import numpy as np \n",
    "import json\n",
    "import re\n",
    "import tensorflow as tf\n",
    "import random\n",
    "import warnings\n",
    "import spacy\n",
    "\n",
    "nlp = spacy.load(\"es_core_news_sm\")\n",
    "\n",
    "warnings.filterwarnings('ignore')"
   ]
  },
  {
   "cell_type": "code",
   "execution_count": 19,
   "id": "4a7067be",
   "metadata": {},
   "outputs": [],
   "source": [
    "with open ('intents.json','rb') as file:\n",
    "    data =json.load(file)"
   ]
  },
  {
   "cell_type": "code",
   "execution_count": 20,
   "id": "88bb1221",
   "metadata": {},
   "outputs": [],
   "source": [
    "def pre_proceso(line):\n",
    "    line= re.sub (r'[^a-zA-z.?!\\']',' ', line)\n",
    "    line= re.sub(r'[ ]+',' ',line)\n",
    "    return line"
   ]
  },
  {
   "cell_type": "code",
   "execution_count": 21,
   "id": "d0fef61b",
   "metadata": {},
   "outputs": [
    {
     "ename": "TypeError",
     "evalue": "'builtin_function_or_method' object is not subscriptable",
     "output_type": "error",
     "traceback": [
      "\u001b[1;31m---------------------------------------------------------------------------\u001b[0m",
      "\u001b[1;31mTypeError\u001b[0m                                 Traceback (most recent call last)",
      "\u001b[1;32mc:\\Users\\ck\\Documents\\Cursos y curriculum\\Python\\PROYECTO_FINAL\\InmoBot.ipynb Celda 4\u001b[0m in \u001b[0;36m<cell line: 5>\u001b[1;34m()\u001b[0m\n\u001b[0;32m      <a href='vscode-notebook-cell:/c%3A/Users/ck/Documents/Cursos%20y%20curriculum/Python/PROYECTO_FINAL/InmoBot.ipynb#W3sZmlsZQ%3D%3D?line=4'>5</a>\u001b[0m \u001b[39mfor\u001b[39;00m i \u001b[39min\u001b[39;00m data[\u001b[39m'\u001b[39m\u001b[39mintents\u001b[39m\u001b[39m'\u001b[39m]:\n\u001b[0;32m      <a href='vscode-notebook-cell:/c%3A/Users/ck/Documents/Cursos%20y%20curriculum/Python/PROYECTO_FINAL/InmoBot.ipynb#W3sZmlsZQ%3D%3D?line=5'>6</a>\u001b[0m     \u001b[39mif\u001b[39;00m i [\u001b[39m'\u001b[39m\u001b[39mtag\u001b[39m\u001b[39m'\u001b[39m] \u001b[39mnot\u001b[39;00m \u001b[39min\u001b[39;00m \u001b[39mcls\u001b[39m:\n\u001b[1;32m----> <a href='vscode-notebook-cell:/c%3A/Users/ck/Documents/Cursos%20y%20curriculum/Python/PROYECTO_FINAL/InmoBot.ipynb#W3sZmlsZQ%3D%3D?line=6'>7</a>\u001b[0m         \u001b[39mcls\u001b[39;49m\u001b[39m.\u001b[39;49mappend[i[\u001b[39m'\u001b[39;49m\u001b[39mtag\u001b[39;49m\u001b[39m'\u001b[39;49m]]\n\u001b[0;32m      <a href='vscode-notebook-cell:/c%3A/Users/ck/Documents/Cursos%20y%20curriculum/Python/PROYECTO_FINAL/InmoBot.ipynb#W3sZmlsZQ%3D%3D?line=8'>9</a>\u001b[0m     \u001b[39mif\u001b[39;00m i [\u001b[39m'\u001b[39m\u001b[39mtag\u001b[39m\u001b[39m'\u001b[39m] \u001b[39mnot\u001b[39;00m \u001b[39min\u001b[39;00m intents_doe:\n\u001b[0;32m     <a href='vscode-notebook-cell:/c%3A/Users/ck/Documents/Cursos%20y%20curriculum/Python/PROYECTO_FINAL/InmoBot.ipynb#W3sZmlsZQ%3D%3D?line=9'>10</a>\u001b[0m         intents_doe[i[\u001b[39m'\u001b[39m\u001b[39mtag\u001b[39m\u001b[39m'\u001b[39m]] \u001b[39m=\u001b[39m []\n",
      "\u001b[1;31mTypeError\u001b[0m: 'builtin_function_or_method' object is not subscriptable"
     ]
    }
   ],
   "source": [
    "inputs, targets = [], []\n",
    "cls= []\n",
    "intents_doe= []\n",
    "\n",
    "for i in data['intents']:\n",
    "    if i ['tag'] not in cls:\n",
    "        cls.append(i['tag'])\n",
    "    \n",
    "    if i ['tag'] not in intents_doe:\n",
    "        intents_doe[i['tag']] = []\n",
    "    \n",
    "    for patterns in i['patterns']:\n",
    "        inputs.append(pre_proceso(patterns))\n",
    "        targets.append[i['tag']]\n",
    "    \n",
    "    for responses in i['responses']:\n",
    "        intents_doe(i['tag']).append(responses)\n"
   ]
  },
  {
   "cell_type": "code",
   "execution_count": null,
   "id": "523f6aa0",
   "metadata": {},
   "outputs": [],
   "source": [
    "def tokenizador(inp_list):\n",
    "    tokenizer = tf.keras.preprocessing.text.Tokenizer(filters=)"
   ]
  }
 ],
 "metadata": {
  "kernelspec": {
   "display_name": "base",
   "language": "python",
   "name": "python3"
  },
  "language_info": {
   "codemirror_mode": {
    "name": "ipython",
    "version": 3
   },
   "file_extension": ".py",
   "mimetype": "text/x-python",
   "name": "python",
   "nbconvert_exporter": "python",
   "pygments_lexer": "ipython3",
   "version": "3.9.12 (main, Apr  4 2022, 05:22:27) [MSC v.1916 64 bit (AMD64)]"
  },
  "vscode": {
   "interpreter": {
    "hash": "3b0947d4181266874cc036d6a71f90081c42ecadd089f88b68aad38941fa4356"
   }
  }
 },
 "nbformat": 4,
 "nbformat_minor": 5
}
