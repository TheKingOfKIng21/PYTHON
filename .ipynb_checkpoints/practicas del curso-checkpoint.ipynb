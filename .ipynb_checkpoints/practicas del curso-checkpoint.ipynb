{
 "cells": [
  {
   "cell_type": "code",
   "execution_count": 2,
   "id": "e4dc26e8",
   "metadata": {},
   "outputs": [
    {
     "name": "stdout",
     "output_type": "stream",
     "text": [
      "dime tu edad:  78\n",
      "eres un anciano\n"
     ]
    }
   ],
   "source": [
    "#programa, que diga, si eres niño, adolecente, adulto, o anciano\n",
    "#niño= 2-12\n",
    "#adolecente= 12-18\n",
    "#adulto= 18-60\n",
    "#anciano= 60\n",
    "edad= int(input(\"dime tu edad:  \"))\n",
    "\n",
    "if (edad>=2 and edad<12):\n",
    "    print(\"eres un niño\")\n",
    "elif( edad>=12 and edad <18):\n",
    "    print(\"eres un adolecente\")\n",
    "\n",
    "elif(edad>=18 and edad<60):\n",
    "    print(\"eres un adulto\")\n",
    "\n",
    "else:\n",
    "    if(edad >= 0 and edad<2):\n",
    "        print(\"eres un bebe\")\n",
    "    if(edad>=60):\n",
    "        print(\"eres un anciano\")"
   ]
  },
  {
   "cell_type": "code",
   "execution_count": 5,
   "id": "ea418d1c",
   "metadata": {},
   "outputs": [
    {
     "name": "stdout",
     "output_type": "stream",
     "text": [
      "escribe tu contraseñagota16\n",
      "su contraseña es correcta!\n"
     ]
    }
   ],
   "source": [
    "#if,elif,else.\n",
    "contra=\"gota16\"\n",
    "\n",
    "password= input(\"escribe tu contraseña\")\n",
    "\n",
    "if(password == contra):\n",
    "    print(\"su contraseña es correcta!\")\n",
    "\n",
    "else:\n",
    "    print(\"su contraseña es incorrecta,intentelo otra vez\")"
   ]
  },
  {
   "cell_type": "code",
   "execution_count": 1,
   "id": "0c1217bd",
   "metadata": {},
   "outputs": [
    {
     "name": "stdout",
     "output_type": "stream",
     "text": [
      "introduzca primer numero6\n",
      "introduzca segundo numero7\n",
      "introduzca 1.-suma 2.-restasuma\n"
     ]
    },
    {
     "ename": "ValueError",
     "evalue": "invalid literal for int() with base 10: 'suma'",
     "output_type": "error",
     "traceback": [
      "\u001b[1;31m---------------------------------------------------------------------------\u001b[0m",
      "\u001b[1;31mValueError\u001b[0m                                Traceback (most recent call last)",
      "Input \u001b[1;32mIn [1]\u001b[0m, in \u001b[0;36m<cell line: 6>\u001b[1;34m()\u001b[0m\n\u001b[0;32m      2\u001b[0m a\u001b[38;5;241m=\u001b[39m\u001b[38;5;28mint\u001b[39m(\u001b[38;5;28minput\u001b[39m(\u001b[38;5;124m\"\u001b[39m\u001b[38;5;124mintroduzca primer numero\u001b[39m\u001b[38;5;124m\"\u001b[39m))\n\u001b[0;32m      4\u001b[0m b\u001b[38;5;241m=\u001b[39m\u001b[38;5;28mint\u001b[39m(\u001b[38;5;28minput\u001b[39m(\u001b[38;5;124m\"\u001b[39m\u001b[38;5;124mintroduzca segundo numero\u001b[39m\u001b[38;5;124m\"\u001b[39m))\n\u001b[1;32m----> 6\u001b[0m respuesta\u001b[38;5;241m=\u001b[39m \u001b[38;5;28;43mint\u001b[39;49m\u001b[43m(\u001b[49m\u001b[38;5;28;43minput\u001b[39;49m\u001b[43m(\u001b[49m\u001b[38;5;124;43m\"\u001b[39;49m\u001b[38;5;124;43mintroduzca 1.-suma 2.-resta\u001b[39;49m\u001b[38;5;124;43m\"\u001b[39;49m\u001b[43m)\u001b[49m\u001b[43m)\u001b[49m\n\u001b[0;32m      8\u001b[0m suma\u001b[38;5;241m=\u001b[39m a\u001b[38;5;241m+\u001b[39mb\n\u001b[0;32m      9\u001b[0m resta\u001b[38;5;241m=\u001b[39m a\u001b[38;5;241m-\u001b[39mb\n",
      "\u001b[1;31mValueError\u001b[0m: invalid literal for int() with base 10: 'suma'"
     ]
    }
   ],
   "source": [
    "#if,elif,else.\n",
    "a=int(input(\"introduzca primer numero\"))\n",
    "\n",
    "b=int(input(\"introduzca segundo numero\"))\n",
    "\n",
    "respuesta= int(input(\"introduzca 1.-suma 2.-resta\"))\n",
    "\n",
    "suma= a+b\n",
    "resta= a-b\n",
    "\n",
    "if(respuesta==\"suma\" or repuesta== \"Suma\"):\n",
    "    print(\"la suma es:  \", suma)\n",
    "    \n",
    "elif(respuesta==\"resta\" or respuesta==\"Resta\"):\n",
    "    print(\"la resta es:   \", resta) \n",
    "    \n",
    "else:\n",
    "    print(\"opcion no valida, intente de nuevo\")"
   ]
  },
  {
   "cell_type": "code",
   "execution_count": 45,
   "id": "a2ba4990",
   "metadata": {},
   "outputs": [
    {
     "name": "stdout",
     "output_type": "stream",
     "text": [
      "juan\n",
      "perez\n",
      "19\n",
      "M\n"
     ]
    }
   ],
   "source": [
    "#bucle for\n",
    "estudiante= [\"juan\", \"perez\",\"19\",\"M\"]\n",
    "\n",
    "for alumno in estudiante:\n",
    "    print(alumno)"
   ]
  },
  {
   "cell_type": "code",
   "execution_count": 38,
   "id": "9ffe6ea5",
   "metadata": {},
   "outputs": [
    {
     "name": "stdout",
     "output_type": "stream",
     "text": [
      "numero de pedros en la lista:   3\n"
     ]
    }
   ],
   "source": [
    "#bucle for\n",
    "estudiantes=[\"pedro\",\"daniel\",\"juan\",\"pedro\",\"david\",\"pedro\"]\n",
    "contador= 0\n",
    "\n",
    "for nombre in estudiantes:\n",
    "    if(nombre==\"pedro\"):\n",
    "        contador +=1\n",
    "\n",
    "print (\"numero de pedros en la lista:  \",contador)"
   ]
  },
  {
   "cell_type": "code",
   "execution_count": 43,
   "id": "be8210f9",
   "metadata": {},
   "outputs": [
    {
     "name": "stdout",
     "output_type": "stream",
     "text": [
      "hola\n",
      "hola\n",
      "hola\n",
      "hola\n",
      "hola\n",
      "salio del while\n"
     ]
    }
   ],
   "source": [
    "#bucle while\n",
    "i=0\n",
    "while(i<5):\n",
    "    print(\"hola\")\n",
    "    i=i+1\n",
    "\n",
    "print(\"salio del while\")"
   ]
  },
  {
   "cell_type": "code",
   "execution_count": 8,
   "id": "409c3185",
   "metadata": {},
   "outputs": [
    {
     "name": "stdout",
     "output_type": "stream",
     "text": [
      "escribe primer numero:  48\n",
      "escribe segundo numero:  100\n",
      "que operacion desea realizar:\n",
      "        1.-suma\n",
      "        2.-restar\n",
      "        3.-multiplica\n",
      "        4.-salir\n",
      "        1\n",
      "la suma es:   148\n",
      "escribe primer numero:  123455\n",
      "escribe segundo numero:  1342525\n",
      "que operacion desea realizar:\n",
      "        1.-suma\n",
      "        2.-restar\n",
      "        3.-multiplica\n",
      "        4.-salir\n",
      "        3\n",
      "la multiplicacion es: 165741423875\n",
      "escribe primer numero:  133\n",
      "escribe segundo numero:  443\n",
      "que operacion desea realizar:\n",
      "        1.-suma\n",
      "        2.-restar\n",
      "        3.-multiplica\n",
      "        4.-salir\n",
      "        4\n",
      "salio de la calculadora\n"
     ]
    }
   ],
   "source": [
    "#bucle while\n",
    "repuesta= True\n",
    "while(repuesta):\n",
    "    operacion=0\n",
    "    \n",
    "    n1 = int(input(\"escribe primer numero:  \"))\n",
    "    n2 = int(input(\"escribe segundo numero:  \"))\n",
    "    opcion = input(\"\"\"que operacion desea realizar:\n",
    "        1.-suma\n",
    "        2.-restar\n",
    "        3.-multiplica\n",
    "        4.-salir\n",
    "        \"\"\")\n",
    "    if(opcion==\"suma\" or opcion== \"1\"):\n",
    "        operacion= n1+n2\n",
    "        print(\"la suma es:  \", operacion)\n",
    "                   \n",
    "    elif(opcion==\"restar\" or opcion== \"2\"):\n",
    "        operacion= n1-n2\n",
    "        print(\"la resta es:\", operacion)\n",
    "                   \n",
    "    elif(opcion==\"multiplicar\" or opcion== \"3\"):\n",
    "        operacion= n1*n2\n",
    "        print(\"la multiplicacion es:\", operacion)\n",
    "                   \n",
    "    elif(opcion==\"salir\" or opcion== \"4\"):\n",
    "        operacion= n1*n2\n",
    "        print(\"salio de la calculadora\")\n",
    "        respuesta= False\n",
    "        break\n",
    "    \n",
    "    \n",
    "    else:\n",
    "        print(\"opcion invalida\")\n",
    "        "
   ]
  },
  {
   "cell_type": "code",
   "execution_count": 7,
   "id": "17acd73c",
   "metadata": {},
   "outputs": [
    {
     "name": "stdout",
     "output_type": "stream",
     "text": [
      "introduzca contraseña:  gato23\n",
      "contraseña incorrecta, intente otra vez\n",
      "introduzca contraseña:  gato21\n",
      "contraseña incorrecta, intente otra vez\n",
      "introduzca contraseña:  gatito30\n",
      "numero de intentos superados, intente mas tarde\n"
     ]
    }
   ],
   "source": [
    "password=\"gatito1\"\n",
    "contador=0\n",
    "while(True):\n",
    "    contra= input(\"introduzca contraseña:  \")\n",
    "    if(contra ==password):\n",
    "        print(\"contraseña correcta,puede ingresar\")\n",
    "        break\n",
    "    else:\n",
    "        contador+=1\n",
    "        if(contador<3):\n",
    "            print(\"contraseña incorrecta, intente otra vez\")\n",
    "        else:\n",
    "            print(\"numero de intentos superados, intente mas tarde\")\n",
    "            break\n",
    "        "
   ]
  },
  {
   "cell_type": "code",
   "execution_count": 2,
   "id": "13c0bdec",
   "metadata": {},
   "outputs": [
    {
     "name": "stdout",
     "output_type": "stream",
     "text": [
      "programa de evaluacion de notas de alumnos\n",
      "43\n",
      "aprobado\n"
     ]
    }
   ],
   "source": [
    "print(\"programa de evaluacion de notas de alumnos\")\n",
    "nota_alumno=int(input())\n",
    "def evaluacion(nota):\n",
    "    valoracion=\"aprobado\"\n",
    "    if nota<5:\n",
    "        valoracion=\"suspenso\"\n",
    "    return valoracion\n",
    "print(evaluacion(nota_alumno))"
   ]
  },
  {
   "cell_type": "code",
   "execution_count": 15,
   "id": "304d2248",
   "metadata": {},
   "outputs": [
    {
     "name": "stdout",
     "output_type": "stream",
     "text": [
      "['Daniel', 'Juan', 'Danilo', 'rosa', 'Marisa']\n",
      "['Daniel', 'Juan', 'Argenis', 'Danilo', 'rosa', 'Marisa', 'A', 'B']\n"
     ]
    }
   ],
   "source": [
    "#lista[]\n",
    "milista=[\"Daniel\",\"Juan\",\"Danilo\",\"rosa\",\"Marisa\",]\n",
    "milista2=[\"A\",\"B\"]\n",
    "print(milista[:])\n",
    "\n",
    "milista.insert(2,\"Argenis\")\n",
    "\n",
    "milista.extend(milista2)\n",
    "print(milista)"
   ]
  },
  {
   "cell_type": "code",
   "execution_count": 22,
   "id": "bf0ef680",
   "metadata": {},
   "outputs": [
    {
     "name": "stdout",
     "output_type": "stream",
     "text": [
      "[3.14, 2.54, 9.8]\n"
     ]
    }
   ],
   "source": [
    "#tupla()\n",
    "Pi=3.14\n",
    "euler=2.54\n",
    "g=9.8\n",
    "mitupla=(Pi,euler,g)\n",
    "milista=[\"juan\",\"perez\",\"18\"]\n",
    "\n",
    "conversor= tuple(milista)\n",
    "conversor2= list(mitupla)\n",
    "print(conversor2)\n"
   ]
  },
  {
   "cell_type": "code",
   "execution_count": 27,
   "id": "79736f15",
   "metadata": {},
   "outputs": [
    {
     "name": "stdout",
     "output_type": "stream",
     "text": [
      "introduzca un nombre\n",
      "afds\n",
      "introduzca un nombre\n",
      "sfs\n",
      "introduzca un nombre\n",
      "x\n"
     ]
    }
   ],
   "source": [
    "ListaNombres= []\n",
    "while True:\n",
    "    \n",
    "    print(\"introduzca un nombre\")\n",
    "    nombre= input()\n",
    "    if(nombre== \"x\"):\n",
    "        break\n",
    "    ListaNombres.append(nombre)"
   ]
  },
  {
   "cell_type": "code",
   "execution_count": 31,
   "id": "2bf65f4e",
   "metadata": {},
   "outputs": [
    {
     "name": "stdout",
     "output_type": "stream",
     "text": [
      "['zamira', 'petra', 'juan', 'welixa', 'argenis', 'david']\n",
      "['argenis', 'david', 'juan', 'petra', 'welixa', 'zamira']\n",
      "['zamira', 'welixa', 'petra', 'juan', 'david', 'argenis']\n"
     ]
    }
   ],
   "source": [
    "milista=[\"zamira\",\"petra\",\"juan\",\"welixa\",\"argenis\",\"david\"]\n",
    "\n",
    "print(milista)\n",
    "\n",
    "milista.sort()\n",
    "print(milista)\n",
    "\n",
    "milista.reverse()\n",
    "print(milista)"
   ]
  },
  {
   "cell_type": "code",
   "execution_count": 53,
   "id": "4c85fdaa",
   "metadata": {},
   "outputs": [
    {
     "name": "stdout",
     "output_type": "stream",
     "text": [
      "['neumaticos', 'ring decorado', 'asiento infantil']\n"
     ]
    }
   ],
   "source": [
    "#diccionario{}\n",
    "midiccionario={\"lamborgini\":\n",
    "                {\"motor\": \"motor v12\", \n",
    "                  \"año\":2010, \n",
    "                  \"km\":25000,\n",
    "                  \"accesorios\":[\"llanta\",\"ring decorado\",\"asiento infantil\"]},\n",
    "                \"dodge\":\n",
    "                 {\"motor\": \"motor v10\", \n",
    "                  \"año\":2009, \n",
    "                  \"km\":20000,\n",
    "                  \"accesorios\":[\"llanta\",\"ring decorado\"]}\n",
    "               }\n",
    "v=midiccionario[\"lamborgini\"][\"accesorios\"]\n",
    "v.pop(0)\n",
    "v.insert(0,\"neumaticos\")\n",
    "midiccionario[\"lamborgini\"][\"accesorios\"] = v\n",
    "print(midiccionario[\"lamborgini\"][\"accesorios\"])\n",
    "\n"
   ]
  },
  {
   "cell_type": "code",
   "execution_count": 61,
   "id": "9e27e912",
   "metadata": {},
   "outputs": [
    {
     "name": "stdout",
     "output_type": "stream",
     "text": [
      "introduce un nombregilberto\n",
      "introduce un apellidobarrios\n",
      "introduze una edad18\n",
      "Desea agregar otro nombre 's/n' no\n",
      "\n",
      "    +++++++++++++++++++++++++++++++++++++++++++++++++++++\n",
      "    nombre: gilberto // apellido:barrios // edad:18\n"
     ]
    }
   ],
   "source": [
    "lista=[]\n",
    "\n",
    "while True:\n",
    "    ListaAlumnos= []\n",
    "    nombre= input(\"introduce un nombre\")\n",
    "    apellido=input(\"introduce un apellido\")\n",
    "    edad=input(\"introduze una edad\")\n",
    "    \n",
    "    ListaAlumnos.append(nombre)\n",
    "    ListaAlumnos.append(apellido)\n",
    "    ListaAlumnos.append(edad)\n",
    "    \n",
    "    lista.append(ListaAlumnos)\n",
    "    \n",
    "    respuesta=input(\"Desea agregar otro nombre 's/n' \")\n",
    "    if(respuesta == \"n\" or respuesta ==\"N\" or respuesta ==\"no\"):\n",
    "        break\n",
    "\n",
    "for fila in lista:\n",
    "    nombre,apellido,edad=fila\n",
    "    print(\n",
    "    f\"\"\"\n",
    "    +++++++++++++++++++++++++++++++++++++++++++++++++++++\n",
    "    nombre: {nombre} // apellido:{apellido} // edad:{edad}\"\"\")"
   ]
  },
  {
   "cell_type": "code",
   "execution_count": 37,
   "id": "5c6ac999",
   "metadata": {},
   "outputs": [
    {
     "ename": "SyntaxError",
     "evalue": "invalid syntax (2919791478.py, line 1)",
     "output_type": "error",
     "traceback": [
      "\u001b[1;36m  Input \u001b[1;32mIn [37]\u001b[1;36m\u001b[0m\n\u001b[1;33m    def print contador():\u001b[0m\n\u001b[1;37m              ^\u001b[0m\n\u001b[1;31mSyntaxError\u001b[0m\u001b[1;31m:\u001b[0m invalid syntax\n"
     ]
    }
   ],
   "source": [
    "def print contador():\n",
    "    contador = 200\n",
    "    \n",
    "contador = 100\n",
    "print_contador()\n",
    "print(\"contador=\",contador)"
   ]
  },
  {
   "cell_type": "code",
   "execution_count": 45,
   "id": "f9f26210",
   "metadata": {},
   "outputs": [
    {
     "data": {
      "text/plain": [
       "0"
      ]
     },
     "execution_count": 45,
     "metadata": {},
     "output_type": "execute_result"
    }
   ],
   "source": [
    "N= 0\n",
    "S= 0\n",
    "\n",
    "N = N+0\n",
    "S = S+N\n",
    "\n",
    "N:50\n",
    "  \n",
    "S\n"
   ]
  },
  {
   "cell_type": "code",
   "execution_count": 46,
   "id": "50153845",
   "metadata": {},
   "outputs": [
    {
     "name": "stdout",
     "output_type": "stream",
     "text": [
      "Ingresa un número: 13\n",
      "El número es impar\n"
     ]
    }
   ],
   "source": [
    "numero = int(input(\"Ingrese el numero: \"))\n",
    "if numero % 2 == 0:\n",
    "    print(\" El numero es par\")\n",
    "else:\n",
    "    print(\"El número es impar\")"
   ]
  },
  {
   "cell_type": "code",
   "execution_count": 52,
   "id": "12091eee",
   "metadata": {},
   "outputs": [
    {
     "ename": "SyntaxError",
     "evalue": "invalid syntax (2364415659.py, line 1)",
     "output_type": "error",
     "traceback": [
      "\u001b[1;36m  Input \u001b[1;32mIn [52]\u001b[1;36m\u001b[0m\n\u001b[1;33m    def V()=\u001b[0m\n\u001b[1;37m           ^\u001b[0m\n\u001b[1;31mSyntaxError\u001b[0m\u001b[1;31m:\u001b[0m invalid syntax\n"
     ]
    }
   ],
   "source": [
    "Nombre=(\"Gilberto Javier  Barrios Lopez\")\n",
    "Direccion=(\"Panama, Colon, Gatuncillo norte\")"
   ]
  },
  {
   "cell_type": "code",
   "execution_count": null,
   "id": "762ddd04",
   "metadata": {},
   "outputs": [],
   "source": []
  }
 ],
 "metadata": {
  "kernelspec": {
   "display_name": "Python 3 (ipykernel)",
   "language": "python",
   "name": "python3"
  },
  "language_info": {
   "codemirror_mode": {
    "name": "ipython",
    "version": 3
   },
   "file_extension": ".py",
   "mimetype": "text/x-python",
   "name": "python",
   "nbconvert_exporter": "python",
   "pygments_lexer": "ipython3",
   "version": "3.9.12"
  }
 },
 "nbformat": 4,
 "nbformat_minor": 5
}
