{
 "cells": [
  {
   "cell_type": "markdown",
   "id": "38e65233",
   "metadata": {},
   "source": [
    "# Ejercicio 6"
   ]
  },
  {
   "cell_type": "code",
   "execution_count": 5,
   "id": "43c410a8",
   "metadata": {},
   "outputs": [
    {
     "name": "stdout",
     "output_type": "stream",
     "text": [
      "escribe tu primer numero:  23\n",
      "escribe tu segundo numero:  34\n",
      "23 34\n"
     ]
    }
   ],
   "source": [
    "num1 = int(input(\"escribe tu primer numero:  \"))\n",
    "num2 = int(input(\"escribe tu segundo numero:  \"))\n",
    "if num1<num2:\n",
    "    print(num1,num2)\n",
    "elif num2<num1:\n",
    "    print(num2,num1)\n",
    "else:\n",
    "    print(\"los numeros son iguales\")\n"
   ]
  },
  {
   "cell_type": "code",
   "execution_count": null,
   "id": "049289b5",
   "metadata": {},
   "outputs": [],
   "source": []
  }
 ],
 "metadata": {
  "kernelspec": {
   "display_name": "Python 3 (ipykernel)",
   "language": "python",
   "name": "python3"
  },
  "language_info": {
   "codemirror_mode": {
    "name": "ipython",
    "version": 3
   },
   "file_extension": ".py",
   "mimetype": "text/x-python",
   "name": "python",
   "nbconvert_exporter": "python",
   "pygments_lexer": "ipython3",
   "version": "3.9.12"
  }
 },
 "nbformat": 4,
 "nbformat_minor": 5
}
