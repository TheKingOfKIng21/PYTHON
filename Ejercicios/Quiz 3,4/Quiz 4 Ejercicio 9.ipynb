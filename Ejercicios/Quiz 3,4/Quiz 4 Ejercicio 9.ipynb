{
 "cells": [
  {
   "cell_type": "markdown",
   "id": "3061f589",
   "metadata": {},
   "source": [
    "# Quiz 4 Ejercicio 9"
   ]
  },
  {
   "cell_type": "code",
   "execution_count": 2,
   "id": "949646c9",
   "metadata": {},
   "outputs": [
    {
     "ename": "ModuleNotFoundError",
     "evalue": "No module named 'symbol'",
     "output_type": "error",
     "traceback": [
      "\u001b[1;31m---------------------------------------------------------------------------\u001b[0m",
      "\u001b[1;31mModuleNotFoundError\u001b[0m                       Traceback (most recent call last)",
      "Cell \u001b[1;32mIn [2], line 1\u001b[0m\n\u001b[1;32m----> 1\u001b[0m \u001b[38;5;28;01mfrom\u001b[39;00m \u001b[38;5;21;01msymbol\u001b[39;00m \u001b[38;5;28;01mimport\u001b[39;00m import_as_name\n\u001b[0;32m      4\u001b[0m \u001b[38;5;28;01mclass\u001b[39;00m \u001b[38;5;21;01mhash_table\u001b[39;00m():\n\u001b[0;32m      5\u001b[0m     \u001b[38;5;28;01mdef\u001b[39;00m \u001b[38;5;21m__init__\u001b[39m(\u001b[38;5;28mself\u001b[39m):\n",
      "\u001b[1;31mModuleNotFoundError\u001b[0m: No module named 'symbol'"
     ]
    }
   ],
   "source": [
    "\n",
    "\n",
    "from symbol import import_as_name\n",
    "\n",
    "\n",
    "class hash_table():\n",
    "    def __init__(self):\n",
    "        self.table = [None] * 127\n",
    "    \n",
    "    def Hash_func(self, value):\n",
    "        key = 0\n",
    "        for i in range(0,len(value)):\n",
    "            key += ord(value[i])\n",
    "        return key % 127\n",
    "\n",
    "    def Insert(self, value):\n",
    "        hash = self.Hash_func(value)\n",
    "        if self.table[hash] is None:\n",
    "            self.table[hash] = value\n",
    "   \n",
    "    def Search(self,value):\n",
    "        hash = self.Hash_func(value);\n",
    "        if self.table[hash] is None:\n",
    "            return None\n",
    "        else:\n",
    "            return hex(id(self.table[hash]))\n",
    "\n",
    "table = hash_table\n",
    "books =[\n",
    "    'The Little Prince',\n",
    "    'The Old Man and the Sea',\n",
    "    'The Little Mermaid',\n",
    "    'Beauty and the Beast',\n",
    "    'The Last Leaf',\n",
    "    'Alice in WonderLand'\n",
    "]\n",
    "for book in books:\n",
    "    key = sum(map(ord,book))\n",
    "    table.put(key,book)\n",
    "for key in table.table.keys():\n",
    "    print(key, table.table[key])"
   ]
  },
  {
   "cell_type": "code",
   "execution_count": null,
   "id": "420d18bc",
   "metadata": {},
   "outputs": [],
   "source": []
  }
 ],
 "metadata": {
  "kernelspec": {
   "display_name": "Python 3.10.6 64-bit",
   "language": "python",
   "name": "python3"
  },
  "language_info": {
   "codemirror_mode": {
    "name": "ipython",
    "version": 3
   },
   "file_extension": ".py",
   "mimetype": "text/x-python",
   "name": "python",
   "nbconvert_exporter": "python",
   "pygments_lexer": "ipython3",
   "version": "3.10.6"
  },
  "vscode": {
   "interpreter": {
    "hash": "edc5df1934a4a12c3608f5b4feb444d3a220fc09f98b948b53d94c45a3a44e02"
   }
  }
 },
 "nbformat": 4,
 "nbformat_minor": 5
}
