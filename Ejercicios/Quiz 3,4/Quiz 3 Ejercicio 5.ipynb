{
 "cells": [
  {
   "cell_type": "markdown",
   "id": "d2defb8a",
   "metadata": {},
   "source": [
    "# Quiz 3 Ejercicio 5"
   ]
  },
  {
   "cell_type": "code",
   "execution_count": 1,
   "id": "136ae1e4",
   "metadata": {},
   "outputs": [
    {
     "name": "stdout",
     "output_type": "stream",
     "text": [
      "Esta es la división: \n",
      "30 / 10 = 3.0\n",
      "40 / 20 = 2.0\n",
      "Esta es la multiplicación: \n",
      "30 x 10 = 300\n",
      "40 x 20 = 800\n"
     ]
    }
   ],
   "source": [
    "class Vector2D:\n",
    "    def __init__(self,division1,division2):\n",
    "        self.numero1 = division1\n",
    "        self.numero2 = division2\n",
    "        pass\n",
    "    \n",
    " \n",
    " \n",
    "    def __truediv__(self,otro):\n",
    "        tmpnumero1 = self.numero1 / otro.numero1\n",
    "        tmpnumero2 = self.numero2 / otro.numero2\n",
    "        return Vector2D(tmpnumero1,tmpnumero2)\n",
    "        pass\n",
    "    \n",
    "    def __mul__(self,otro):\n",
    "        tmpnumero1 = self.numero1 * otro.numero1\n",
    "        tmpnumero2 = self.numero2 * otro.numero2\n",
    "        return Vector2D(tmpnumero1,tmpnumero2)\n",
    "        pass\n",
    " \n",
    "if __name__ == '__main__':\n",
    "    v1 = Vector2D(30,40)\n",
    "    v2 = Vector2D(10,20)\n",
    "    v3 = v1 / v2\n",
    "    print(\"Esta es la división: \")\n",
    "    print(\"30 / 10 =\", v3.numero1)\n",
    "    print(\"40 / 20 =\",v3.numero2)\n",
    "    pass\n",
    "\n",
    "if __name__ == '__main__':\n",
    "    v1 = Vector2D(30,40)\n",
    "    v2 = Vector2D(10,20)\n",
    "    v3 = v1 * v2\n",
    "    print(\"Esta es la multiplicación: \")\n",
    "    print(\"30 x 10 =\", v3.numero1)\n",
    "    print(\"40 x 20 =\",v3.numero2)\n",
    "    pass\n"
   ]
  },
  {
   "cell_type": "code",
   "execution_count": null,
   "id": "647fd778",
   "metadata": {},
   "outputs": [],
   "source": []
  }
 ],
 "metadata": {
  "kernelspec": {
   "display_name": "Python 3 (ipykernel)",
   "language": "python",
   "name": "python3"
  },
  "language_info": {
   "codemirror_mode": {
    "name": "ipython",
    "version": 3
   },
   "file_extension": ".py",
   "mimetype": "text/x-python",
   "name": "python",
   "nbconvert_exporter": "python",
   "pygments_lexer": "ipython3",
   "version": "3.10.6"
  },
  "vscode": {
   "interpreter": {
    "hash": "edc5df1934a4a12c3608f5b4feb444d3a220fc09f98b948b53d94c45a3a44e02"
   }
  }
 },
 "nbformat": 4,
 "nbformat_minor": 5
}
