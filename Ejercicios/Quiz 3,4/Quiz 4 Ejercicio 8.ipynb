{
 "cells": [
  {
   "cell_type": "markdown",
   "id": "d2223b73",
   "metadata": {},
   "source": [
    "# Quiz 4 Ejercicio 8"
   ]
  },
  {
   "cell_type": "code",
   "execution_count": 3,
   "id": "ad46439f",
   "metadata": {},
   "outputs": [
    {
     "name": "stdout",
     "output_type": "stream",
     "text": [
      "Clave Hash:  0x1d256b3d530\n"
     ]
    }
   ],
   "source": [
    "class hash_table:\n",
    "    def __init__(self):\n",
    "        self.table = [None] * 127\n",
    "    \n",
    "    # Función hash\n",
    "    def Hash_func(self, value):\n",
    "        key = 0\n",
    "        for i in range(0,len(value)):\n",
    "            key += ord(value[i])\n",
    "        return key % 127\n",
    "\n",
    "    def Insert(self, value):\n",
    "        hash = self.Hash_func(value)\n",
    "        if self.table[hash] is None:\n",
    "            self.table[hash] = value\n",
    "   \n",
    "    def Search(self,value):\n",
    "        hash = self.Hash_func(value);\n",
    "        if self.table[hash] is None:\n",
    "            return None\n",
    "        else:\n",
    "            return hex(id(self.table[hash]))\n",
    "\n",
    "H = hash_table()\n",
    "H.Insert('Alicia en el país de las maravillas')\n",
    "\n",
    "print('Clave Hash: ',H.Search('Alicia en el país de las maravillas'))"
   ]
  }
 ],
 "metadata": {
  "kernelspec": {
   "display_name": "Python 3.10.6 64-bit",
   "language": "python",
   "name": "python3"
  },
  "language_info": {
   "codemirror_mode": {
    "name": "ipython",
    "version": 3
   },
   "file_extension": ".py",
   "mimetype": "text/x-python",
   "name": "python",
   "nbconvert_exporter": "python",
   "pygments_lexer": "ipython3",
   "version": "3.10.6"
  },
  "vscode": {
   "interpreter": {
    "hash": "edc5df1934a4a12c3608f5b4feb444d3a220fc09f98b948b53d94c45a3a44e02"
   }
  }
 },
 "nbformat": 4,
 "nbformat_minor": 5
}
