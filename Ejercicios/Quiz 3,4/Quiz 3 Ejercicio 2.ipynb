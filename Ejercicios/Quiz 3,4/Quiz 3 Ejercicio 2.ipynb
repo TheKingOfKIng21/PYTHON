{
 "cells": [
  {
   "cell_type": "markdown",
   "id": "bcb0fd30",
   "metadata": {},
   "source": [
    "# Quiz 3 Ejercicio 2"
   ]
  },
  {
   "cell_type": "code",
   "execution_count": 1,
   "id": "3701e084",
   "metadata": {},
   "outputs": [
    {
     "name": "stdout",
     "output_type": "stream",
     "text": [
      "oso es palindromo True\n",
      "carro es palindromo False\n",
      "radar es palindromo True\n"
     ]
    }
   ],
   "source": [
    "def es_palindromo(palabra):\n",
    "    \"\"\"\n",
    "    Determinar si una palabra es palindromo;\n",
    "    \"\"\"\n",
    "    if len(palabra) < 1 :\n",
    "        return True\n",
    "    else:\n",
    "        if palabra[0] == palabra[-1] :\n",
    "            return es_palindromo(palabra[1:-1])\n",
    "        else:\n",
    "            return False\n",
    "    \n",
    "print(\"oso es palindromo\", es_palindromo(\"oso\"))\n",
    "print(\"carro es palindromo\", es_palindromo(\"carro\"))\n",
    "print(\"radar es palindromo\", es_palindromo(\"radar\"))"
   ]
  }
 ],
 "metadata": {
  "kernelspec": {
   "display_name": "Python 3.10.6 64-bit",
   "language": "python",
   "name": "python3"
  },
  "language_info": {
   "codemirror_mode": {
    "name": "ipython",
    "version": 3
   },
   "file_extension": ".py",
   "mimetype": "text/x-python",
   "name": "python",
   "nbconvert_exporter": "python",
   "pygments_lexer": "ipython3",
   "version": "3.10.6"
  },
  "vscode": {
   "interpreter": {
    "hash": "edc5df1934a4a12c3608f5b4feb444d3a220fc09f98b948b53d94c45a3a44e02"
   }
  }
 },
 "nbformat": 4,
 "nbformat_minor": 5
}
