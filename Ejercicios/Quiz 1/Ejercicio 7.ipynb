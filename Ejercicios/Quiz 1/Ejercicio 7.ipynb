{
 "cells": [
  {
   "cell_type": "markdown",
   "id": "2278bb3e",
   "metadata": {},
   "source": [
    "# Ejercicio 7"
   ]
  },
  {
   "cell_type": "code",
   "execution_count": 8,
   "id": "986660da",
   "metadata": {},
   "outputs": [
    {
     "name": "stdout",
     "output_type": "stream",
     "text": [
      "\n",
      "**************\n",
      "*Usted es un *\n",
      "*1.-adulto   *\n",
      "*2.-niño     *\n",
      "**************\n",
      "1\n",
      "Eres un adulto\n",
      "\n",
      "**************\n",
      "*Estas       *\n",
      "*1.-casado   *\n",
      "*2.-soltero  *\n",
      "**************\n",
      "4\n",
      "Respuesta invalida\n"
     ]
    }
   ],
   "source": [
    "pregunta =(input(\"\"\"\n",
    "**************\n",
    "*Usted es un *\n",
    "*1.-adulto   *\n",
    "*2.-niño     *\n",
    "**************\n",
    "\"\"\"))\n",
    "\n",
    "if(pregunta == \"adulto\" or pregunta == \"1\"):\n",
    "    print(\"Eres un adulto\")\n",
    "    \n",
    "    pregunta2 = (input(\"\"\"\n",
    "**************\n",
    "*Estas       *\n",
    "*1.-casado   *\n",
    "*2.-soltero  *\n",
    "**************\n",
    "\"\"\"))\n",
    "    \n",
    "    if(pregunta2 == \"casado\" or pregunta2 == \"1\"):\n",
    "        print(\"Eres adulto y estas casado\")\n",
    "        \n",
    "    elif(pregunta2 == \"soltero\" or pregunta2 == \"2\"):\n",
    "        print(\"Eres adulto y estas soltero\")\n",
    "    \n",
    "    else:\n",
    "        print(\"Respuesta invalida\")\n",
    "        \n",
    "    \n",
    "elif(pregunta== \"niño\" or pregunta== \"2\"):\n",
    "    print(\"Eres un niño\")\n",
    "\n",
    "else:\n",
    "    ()"
   ]
  }
 ],
 "metadata": {
  "kernelspec": {
   "display_name": "Python 3 (ipykernel)",
   "language": "python",
   "name": "python3"
  },
  "language_info": {
   "codemirror_mode": {
    "name": "ipython",
    "version": 3
   },
   "file_extension": ".py",
   "mimetype": "text/x-python",
   "name": "python",
   "nbconvert_exporter": "python",
   "pygments_lexer": "ipython3",
   "version": "3.9.12"
  }
 },
 "nbformat": 4,
 "nbformat_minor": 5
}
