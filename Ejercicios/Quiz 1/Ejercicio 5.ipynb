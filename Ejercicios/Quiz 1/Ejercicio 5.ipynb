{
 "cells": [
  {
   "cell_type": "markdown",
   "id": "7ed9524e",
   "metadata": {},
   "source": [
    "# Ejercicio 5"
   ]
  },
  {
   "cell_type": "code",
   "execution_count": 54,
   "id": "5db8bef2",
   "metadata": {},
   "outputs": [
    {
     "name": "stdout",
     "output_type": "stream",
     "text": [
      "True\n",
      "******************************************\n",
      " |Tabla de verdad de AND | Resultado      |\n",
      " X = False, Y = False    | X e Y = False  | \n",
      " X = False, Y = True     | X e Y = False  | \n",
      " X = True,  Y = False    | X e Y = False  | \n",
      " X = True,  Y = True     | X e Y = True   | \n",
      "******************************************\n",
      "False\n",
      "******************************************\n",
      " |Tabla de verdad de OR |   Resultado    |\n",
      " X = False, Y = False   | X O Y = False  | \n",
      " X = False, Y = True    | X O Y = True   | \n",
      " X = True,  Y = False   | X O Y = True   | \n",
      " X = True,  Y = True    | X O Y = True   | \n",
      "******************************************\n"
     ]
    }
   ],
   "source": [
    "def AND(x, y): \n",
    "  \n",
    "    if x == 1 and y == 1: \n",
    "        return True\n",
    "    else: \n",
    "        return False\n",
    "  \n",
    "if __name__=='__main__': \n",
    "    print(AND(1, 1)) \n",
    "  \n",
    "    print(\"******************************************\") \n",
    "    print(\" |Tabla de verdad de AND | Resultado      |\") \n",
    "    print(\" X = False, Y = False    | X e Y =\",AND(False,False),\" | \") \n",
    "    print(\" X = False, Y = True     | X e Y =\",AND(False,True),\" | \") \n",
    "    print(\" X = True,  Y = False    | X e Y =\",AND(True,False),\" | \") \n",
    "    print(\" X = True,  Y = True     | X e Y =\",AND(True,True),\"  | \") \n",
    "    print(\"******************************************\") \n",
    "    \n",
    "def OR(x, y): \n",
    "    if x == 1: \n",
    "        return True\n",
    "    elif y == 1: \n",
    "        return True\n",
    "    else: \n",
    "        return False\n",
    "  \n",
    "if __name__=='__main__': \n",
    "    print(OR(0, 0)) \n",
    "  \n",
    "    print(\"******************************************\") \n",
    "    print(\" |Tabla de verdad de OR |   Resultado    |\") \n",
    "    print(\" X = False, Y = False   | X O Y =\",OR(False,False),\" | \") \n",
    "    print(\" X = False, Y = True    | X O Y =\",OR(False,True),\"  | \") \n",
    "    print(\" X = True,  Y = False   | X O Y =\",OR(True,False),\"  | \") \n",
    "    print(\" X = True,  Y = True    | X O Y =\",OR(True,True),\"  | \")\n",
    "    print(\"******************************************\") "
   ]
  },
  {
   "cell_type": "code",
   "execution_count": null,
   "id": "8a730384",
   "metadata": {},
   "outputs": [],
   "source": []
  }
 ],
 "metadata": {
  "kernelspec": {
   "display_name": "Python 3 (ipykernel)",
   "language": "python",
   "name": "python3"
  },
  "language_info": {
   "codemirror_mode": {
    "name": "ipython",
    "version": 3
   },
   "file_extension": ".py",
   "mimetype": "text/x-python",
   "name": "python",
   "nbconvert_exporter": "python",
   "pygments_lexer": "ipython3",
   "version": "3.9.12"
  }
 },
 "nbformat": 4,
 "nbformat_minor": 5
}
