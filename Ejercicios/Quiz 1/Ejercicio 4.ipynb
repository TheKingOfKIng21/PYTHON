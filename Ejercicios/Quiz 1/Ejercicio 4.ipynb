{
 "cells": [
  {
   "cell_type": "markdown",
   "id": "c764ef91",
   "metadata": {},
   "source": [
    "# Ejercicio 4"
   ]
  },
  {
   "cell_type": "code",
   "execution_count": 17,
   "id": "6e3d8491",
   "metadata": {},
   "outputs": [
    {
     "name": "stdout",
     "output_type": "stream",
     "text": [
      "Nombre: Gilberto Javier  Barrios Lopez \n",
      " Dirección: Panama, Colon, Gatuncillo norte\n"
     ]
    }
   ],
   "source": [
    "Nombre=(\"\"\"Nombre: Gilberto Javier  Barrios Lopez \n",
    "\"\"\")\n",
    "Direccion=(\"Dirección: Panama, Colon, Gatuncillo norte\")\n",
    "\n",
    "print(Nombre,Direccion)\n"
   ]
  },
  {
   "cell_type": "code",
   "execution_count": null,
   "id": "1352584a",
   "metadata": {},
   "outputs": [],
   "source": []
  }
 ],
 "metadata": {
  "kernelspec": {
   "display_name": "Python 3 (ipykernel)",
   "language": "python",
   "name": "python3"
  },
  "language_info": {
   "codemirror_mode": {
    "name": "ipython",
    "version": 3
   },
   "file_extension": ".py",
   "mimetype": "text/x-python",
   "name": "python",
   "nbconvert_exporter": "python",
   "pygments_lexer": "ipython3",
   "version": "3.9.12"
  }
 },
 "nbformat": 4,
 "nbformat_minor": 5
}
