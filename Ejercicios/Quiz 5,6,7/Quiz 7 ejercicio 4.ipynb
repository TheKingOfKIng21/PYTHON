{
 "cells": [
  {
   "cell_type": "code",
   "execution_count": 3,
   "metadata": {},
   "outputs": [
    {
     "name": "stdout",
     "output_type": "stream",
     "text": [
      "0    True\n",
      "1    True\n",
      "2    True\n",
      "3    True\n",
      "Name: Columna: , dtype: bool\n",
      "0    True\n",
      "1    True\n",
      "2    True\n",
      "3    True\n",
      "Name: Datos: , dtype: bool\n"
     ]
    }
   ],
   "source": [
    "import pandas as pd \n",
    "  \n",
    "d={'col1':[1,2],'col2':[3,4],'col3':[5,6],'col4':[6,7]}\n",
    "df = pd.DataFrame([[llaves, d[llaves]] for llaves in d.keys()], columns=['Columna: ', 'Datos: '])\n",
    "\n",
    "print(df['Columna: '].notnull())\n",
    "print(df['Datos: '].notnull())"
   ]
  }
 ],
 "metadata": {
  "kernelspec": {
   "display_name": "Python 3.9.12 ('base')",
   "language": "python",
   "name": "python3"
  },
  "language_info": {
   "codemirror_mode": {
    "name": "ipython",
    "version": 3
   },
   "file_extension": ".py",
   "mimetype": "text/x-python",
   "name": "python",
   "nbconvert_exporter": "python",
   "pygments_lexer": "ipython3",
   "version": "3.9.12"
  },
  "orig_nbformat": 4,
  "vscode": {
   "interpreter": {
    "hash": "3b0947d4181266874cc036d6a71f90081c42ecadd089f88b68aad38941fa4356"
   }
  }
 },
 "nbformat": 4,
 "nbformat_minor": 2
}
