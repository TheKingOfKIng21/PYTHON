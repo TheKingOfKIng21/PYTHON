{
 "cells": [
  {
   "cell_type": "code",
   "execution_count": 11,
   "metadata": {},
   "outputs": [
    {
     "name": "stdout",
     "output_type": "stream",
     "text": [
      "Lista original: \n",
      "[15, 10, 12, 20, 25, 13, 22]\n",
      "Lista particionado:\n",
      "[[15, 10], [12, 20], [25, 13], [22]]\n"
     ]
    }
   ],
   "source": [
    "S = [15,10,12,20,25,13,22]\n",
    "\n",
    "def partition1(lst, size):\n",
    "    for i in range(0, len(lst), size):\n",
    "        yield lst[i : i+size]\n",
    "        \n",
    "n = 2\n",
    "\n",
    "\n",
    "p_list = list(partition(S, n))\n",
    "\n",
    "\n",
    "print(\"Lista original: \")\n",
    "print(S)\n",
    "\n",
    "print(\"Lista particionado:\")\n",
    "print(p_list)"
   ]
  }
 ],
 "metadata": {
  "kernelspec": {
   "display_name": "Python 3.9.12 ('base')",
   "language": "python",
   "name": "python3"
  },
  "language_info": {
   "codemirror_mode": {
    "name": "ipython",
    "version": 3
   },
   "file_extension": ".py",
   "mimetype": "text/x-python",
   "name": "python",
   "nbconvert_exporter": "python",
   "pygments_lexer": "ipython3",
   "version": "3.9.12"
  },
  "orig_nbformat": 4,
  "vscode": {
   "interpreter": {
    "hash": "3b0947d4181266874cc036d6a71f90081c42ecadd089f88b68aad38941fa4356"
   }
  }
 },
 "nbformat": 4,
 "nbformat_minor": 2
}
